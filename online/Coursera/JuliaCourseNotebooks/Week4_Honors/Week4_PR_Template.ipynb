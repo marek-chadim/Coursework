{
 "cells": [
  {
   "cell_type": "markdown",
   "metadata": {},
   "source": [
    "# Week 4 Peer Review"
   ]
  },
  {
   "cell_type": "markdown",
   "metadata": {},
   "source": [
    "Week 4 Peer Review - Working with Distributions and DataFrames. To help you with this task, comments are added to each cell."
   ]
  },
  {
   "cell_type": "code",
   "execution_count": 14,
   "metadata": {},
   "outputs": [],
   "source": [
    "# Import the required packages\n",
    "using Distributions, DataFrames, Random"
   ]
  },
  {
   "cell_type": "code",
   "execution_count": 15,
   "metadata": {},
   "outputs": [],
   "source": [
    "# Seed the random number generator\n",
    "Random.seed!(1234);"
   ]
  },
  {
   "cell_type": "code",
   "execution_count": 16,
   "metadata": {},
   "outputs": [
    {
     "data": {
      "text/html": [
       "<div><div style = \"float: left;\"><span>30×4 DataFrame</span></div><div style = \"float: right;\"><span style = \"font-style: italic;\">5 rows omitted</span></div><div style = \"clear: both;\"></div></div><div class = \"data-frame\" style = \"overflow-x: scroll;\"><table class = \"data-frame\" style = \"margin-bottom: 6px;\"><thead><tr class = \"header\"><th class = \"rowNumber\" style = \"font-weight: bold; text-align: right;\">Row</th><th style = \"text-align: left;\">ID</th><th style = \"text-align: left;\">var1</th><th style = \"text-align: left;\">var2</th><th style = \"text-align: left;\">var3</th></tr><tr class = \"subheader headerLastRow\"><th class = \"rowNumber\" style = \"font-weight: bold; text-align: right;\"></th><th title = \"Int64\" style = \"text-align: left;\">Int64</th><th title = \"Float64\" style = \"text-align: left;\">Float64</th><th title = \"Float64\" style = \"text-align: left;\">Float64</th><th title = \"Int64\" style = \"text-align: left;\">Int64</th></tr></thead><tbody><tr><td class = \"rowNumber\" style = \"font-weight: bold; text-align: right;\">1</td><td style = \"text-align: right;\">1</td><td style = \"text-align: right;\">0.970656</td><td style = \"text-align: right;\">9.51886</td><td style = \"text-align: right;\">15</td></tr><tr><td class = \"rowNumber\" style = \"font-weight: bold; text-align: right;\">2</td><td style = \"text-align: right;\">2</td><td style = \"text-align: right;\">-0.979218</td><td style = \"text-align: right;\">11.8855</td><td style = \"text-align: right;\">5</td></tr><tr><td class = \"rowNumber\" style = \"font-weight: bold; text-align: right;\">3</td><td style = \"text-align: right;\">3</td><td style = \"text-align: right;\">0.901861</td><td style = \"text-align: right;\">9.98017</td><td style = \"text-align: right;\">8</td></tr><tr><td class = \"rowNumber\" style = \"font-weight: bold; text-align: right;\">4</td><td style = \"text-align: right;\">4</td><td style = \"text-align: right;\">-0.0328031</td><td style = \"text-align: right;\">9.52561</td><td style = \"text-align: right;\">14</td></tr><tr><td class = \"rowNumber\" style = \"font-weight: bold; text-align: right;\">5</td><td style = \"text-align: right;\">5</td><td style = \"text-align: right;\">-0.600792</td><td style = \"text-align: right;\">9.53191</td><td style = \"text-align: right;\">13</td></tr><tr><td class = \"rowNumber\" style = \"font-weight: bold; text-align: right;\">6</td><td style = \"text-align: right;\">6</td><td style = \"text-align: right;\">-1.44518</td><td style = \"text-align: right;\">12.4164</td><td style = \"text-align: right;\">15</td></tr><tr><td class = \"rowNumber\" style = \"font-weight: bold; text-align: right;\">7</td><td style = \"text-align: right;\">7</td><td style = \"text-align: right;\">2.70742</td><td style = \"text-align: right;\">12.6243</td><td style = \"text-align: right;\">10</td></tr><tr><td class = \"rowNumber\" style = \"font-weight: bold; text-align: right;\">8</td><td style = \"text-align: right;\">8</td><td style = \"text-align: right;\">1.52445</td><td style = \"text-align: right;\">10.8328</td><td style = \"text-align: right;\">7</td></tr><tr><td class = \"rowNumber\" style = \"font-weight: bold; text-align: right;\">9</td><td style = \"text-align: right;\">9</td><td style = \"text-align: right;\">0.759804</td><td style = \"text-align: right;\">8.48433</td><td style = \"text-align: right;\">15</td></tr><tr><td class = \"rowNumber\" style = \"font-weight: bold; text-align: right;\">10</td><td style = \"text-align: right;\">10</td><td style = \"text-align: right;\">-0.881437</td><td style = \"text-align: right;\">12.3387</td><td style = \"text-align: right;\">12</td></tr><tr><td class = \"rowNumber\" style = \"font-weight: bold; text-align: right;\">11</td><td style = \"text-align: right;\">11</td><td style = \"text-align: right;\">0.705993</td><td style = \"text-align: right;\">12.9557</td><td style = \"text-align: right;\">14</td></tr><tr><td class = \"rowNumber\" style = \"font-weight: bold; text-align: right;\">12</td><td style = \"text-align: right;\">12</td><td style = \"text-align: right;\">1.09156</td><td style = \"text-align: right;\">9.89455</td><td style = \"text-align: right;\">8</td></tr><tr><td class = \"rowNumber\" style = \"font-weight: bold; text-align: right;\">13</td><td style = \"text-align: right;\">13</td><td style = \"text-align: right;\">0.871498</td><td style = \"text-align: right;\">10.469</td><td style = \"text-align: right;\">13</td></tr><tr><td style = \"text-align: right;\">&vellip;</td><td style = \"text-align: right;\">&vellip;</td><td style = \"text-align: right;\">&vellip;</td><td style = \"text-align: right;\">&vellip;</td><td style = \"text-align: right;\">&vellip;</td></tr><tr><td class = \"rowNumber\" style = \"font-weight: bold; text-align: right;\">19</td><td style = \"text-align: right;\">19</td><td style = \"text-align: right;\">0.575094</td><td style = \"text-align: right;\">9.10409</td><td style = \"text-align: right;\">11</td></tr><tr><td class = \"rowNumber\" style = \"font-weight: bold; text-align: right;\">20</td><td style = \"text-align: right;\">20</td><td style = \"text-align: right;\">-1.79563</td><td style = \"text-align: right;\">8.58814</td><td style = \"text-align: right;\">10</td></tr><tr><td class = \"rowNumber\" style = \"font-weight: bold; text-align: right;\">21</td><td style = \"text-align: right;\">21</td><td style = \"text-align: right;\">-1.0565</td><td style = \"text-align: right;\">7.01006</td><td style = \"text-align: right;\">10</td></tr><tr><td class = \"rowNumber\" style = \"font-weight: bold; text-align: right;\">22</td><td style = \"text-align: right;\">22</td><td style = \"text-align: right;\">0.148361</td><td style = \"text-align: right;\">7.24841</td><td style = \"text-align: right;\">15</td></tr><tr><td class = \"rowNumber\" style = \"font-weight: bold; text-align: right;\">23</td><td style = \"text-align: right;\">23</td><td style = \"text-align: right;\">-1.83851</td><td style = \"text-align: right;\">7.71781</td><td style = \"text-align: right;\">10</td></tr><tr><td class = \"rowNumber\" style = \"font-weight: bold; text-align: right;\">24</td><td style = \"text-align: right;\">24</td><td style = \"text-align: right;\">-1.07363</td><td style = \"text-align: right;\">8.77153</td><td style = \"text-align: right;\">9</td></tr><tr><td class = \"rowNumber\" style = \"font-weight: bold; text-align: right;\">25</td><td style = \"text-align: right;\">25</td><td style = \"text-align: right;\">-0.20563</td><td style = \"text-align: right;\">9.8097</td><td style = \"text-align: right;\">5</td></tr><tr><td class = \"rowNumber\" style = \"font-weight: bold; text-align: right;\">26</td><td style = \"text-align: right;\">26</td><td style = \"text-align: right;\">0.770703</td><td style = \"text-align: right;\">11.4664</td><td style = \"text-align: right;\">13</td></tr><tr><td class = \"rowNumber\" style = \"font-weight: bold; text-align: right;\">27</td><td style = \"text-align: right;\">27</td><td style = \"text-align: right;\">-1.21394</td><td style = \"text-align: right;\">12.0017</td><td style = \"text-align: right;\">7</td></tr><tr><td class = \"rowNumber\" style = \"font-weight: bold; text-align: right;\">28</td><td style = \"text-align: right;\">28</td><td style = \"text-align: right;\">1.0915</td><td style = \"text-align: right;\">10.2362</td><td style = \"text-align: right;\">12</td></tr><tr><td class = \"rowNumber\" style = \"font-weight: bold; text-align: right;\">29</td><td style = \"text-align: right;\">29</td><td style = \"text-align: right;\">1.22004</td><td style = \"text-align: right;\">8.66158</td><td style = \"text-align: right;\">11</td></tr><tr><td class = \"rowNumber\" style = \"font-weight: bold; text-align: right;\">30</td><td style = \"text-align: right;\">30</td><td style = \"text-align: right;\">-0.0758316</td><td style = \"text-align: right;\">6.25678</td><td style = \"text-align: right;\">7</td></tr></tbody></table></div>"
      ],
      "text/latex": [
       "\\begin{tabular}{r|cccc}\n",
       "\t& ID & var1 & var2 & var3\\\\\n",
       "\t\\hline\n",
       "\t& Int64 & Float64 & Float64 & Int64\\\\\n",
       "\t\\hline\n",
       "\t1 & 1 & 0.970656 & 9.51886 & 15 \\\\\n",
       "\t2 & 2 & -0.979218 & 11.8855 & 5 \\\\\n",
       "\t3 & 3 & 0.901861 & 9.98017 & 8 \\\\\n",
       "\t4 & 4 & -0.0328031 & 9.52561 & 14 \\\\\n",
       "\t5 & 5 & -0.600792 & 9.53191 & 13 \\\\\n",
       "\t6 & 6 & -1.44518 & 12.4164 & 15 \\\\\n",
       "\t7 & 7 & 2.70742 & 12.6243 & 10 \\\\\n",
       "\t8 & 8 & 1.52445 & 10.8328 & 7 \\\\\n",
       "\t9 & 9 & 0.759804 & 8.48433 & 15 \\\\\n",
       "\t10 & 10 & -0.881437 & 12.3387 & 12 \\\\\n",
       "\t11 & 11 & 0.705993 & 12.9557 & 14 \\\\\n",
       "\t12 & 12 & 1.09156 & 9.89455 & 8 \\\\\n",
       "\t13 & 13 & 0.871498 & 10.469 & 13 \\\\\n",
       "\t14 & 14 & 0.0856911 & 9.97559 & 9 \\\\\n",
       "\t15 & 15 & 0.960079 & 8.75859 & 8 \\\\\n",
       "\t16 & 16 & 0.907837 & 12.8672 & 13 \\\\\n",
       "\t17 & 17 & -1.46506 & 7.25092 & 6 \\\\\n",
       "\t18 & 18 & -0.215859 & 11.8022 & 10 \\\\\n",
       "\t19 & 19 & 0.575094 & 9.10409 & 11 \\\\\n",
       "\t20 & 20 & -1.79563 & 8.58814 & 10 \\\\\n",
       "\t21 & 21 & -1.0565 & 7.01006 & 10 \\\\\n",
       "\t22 & 22 & 0.148361 & 7.24841 & 15 \\\\\n",
       "\t23 & 23 & -1.83851 & 7.71781 & 10 \\\\\n",
       "\t24 & 24 & -1.07363 & 8.77153 & 9 \\\\\n",
       "\t$\\dots$ & $\\dots$ & $\\dots$ & $\\dots$ & $\\dots$ \\\\\n",
       "\\end{tabular}\n"
      ],
      "text/plain": [
       "\u001b[1m30×4 DataFrame\u001b[0m\n",
       "\u001b[1m Row \u001b[0m│\u001b[1m ID    \u001b[0m\u001b[1m var1       \u001b[0m\u001b[1m var2     \u001b[0m\u001b[1m var3  \u001b[0m\n",
       "     │\u001b[90m Int64 \u001b[0m\u001b[90m Float64    \u001b[0m\u001b[90m Float64  \u001b[0m\u001b[90m Int64 \u001b[0m\n",
       "─────┼────────────────────────────────────\n",
       "   1 │     1   0.970656    9.51886     15\n",
       "   2 │     2  -0.979218   11.8855       5\n",
       "   3 │     3   0.901861    9.98017      8\n",
       "   4 │     4  -0.0328031   9.52561     14\n",
       "   5 │     5  -0.600792    9.53191     13\n",
       "   6 │     6  -1.44518    12.4164      15\n",
       "   7 │     7   2.70742    12.6243      10\n",
       "   8 │     8   1.52445    10.8328       7\n",
       "  ⋮  │   ⋮        ⋮          ⋮        ⋮\n",
       "  24 │    24  -1.07363     8.77153      9\n",
       "  25 │    25  -0.20563     9.8097       5\n",
       "  26 │    26   0.770703   11.4664      13\n",
       "  27 │    27  -1.21394    12.0017       7\n",
       "  28 │    28   1.0915     10.2362      12\n",
       "  29 │    29   1.22004     8.66158     11\n",
       "  30 │    30  -0.0758316   6.25678      7\n",
       "\u001b[36m                           15 rows omitted\u001b[0m"
      ]
     },
     "metadata": {},
     "output_type": "display_data"
    }
   ],
   "source": [
    "# Create a dataframe named df1 with 30 rows and 4 columns. \n",
    "# Call the first column ID It should hold the values 1 through 30 (to make up 30 rows).\n",
    "df1 = DataFrame(ID = 1:30)\n",
    "\n",
    "# The second column (var1) should consist of 30 values from a standard normal distribution (mean of 0 and standard deviation of 1). \n",
    "# The third column (var2) should consist of 30 random value from a normal distribution with a mean of 10 and a standard deviation of 2. \n",
    "# The last column (var3) should contain 30 random values chosen from a range of integers between (and including) 5 and 15.\n",
    "df1.var1 = rand(Normal(0, 1), 30); df1.var2 = rand(Normal(10, 2), 30); df1.var3 = rand(5:15, 30)\n",
    "df1"
   ]
  },
  {
   "cell_type": "code",
   "execution_count": 17,
   "metadata": {},
   "outputs": [
    {
     "data": {
      "text/html": [
       "<div><div style = \"float: left;\"><span>1×6 DataFrame</span></div><div style = \"clear: both;\"></div></div><div class = \"data-frame\" style = \"overflow-x: scroll;\"><table class = \"data-frame\" style = \"margin-bottom: 6px;\"><thead><tr class = \"header\"><th class = \"rowNumber\" style = \"font-weight: bold; text-align: right;\">Row</th><th style = \"text-align: left;\">var1_mean</th><th style = \"text-align: left;\">var1_var</th><th style = \"text-align: left;\">var2_mean</th><th style = \"text-align: left;\">var2_var</th><th style = \"text-align: left;\">var3_mean</th><th style = \"text-align: left;\">var3_var</th></tr><tr class = \"subheader headerLastRow\"><th class = \"rowNumber\" style = \"font-weight: bold; text-align: right;\"></th><th title = \"Float64\" style = \"text-align: left;\">Float64</th><th title = \"Float64\" style = \"text-align: left;\">Float64</th><th title = \"Float64\" style = \"text-align: left;\">Float64</th><th title = \"Float64\" style = \"text-align: left;\">Float64</th><th title = \"Float64\" style = \"text-align: left;\">Float64</th><th title = \"Float64\" style = \"text-align: left;\">Float64</th></tr></thead><tbody><tr><td class = \"rowNumber\" style = \"font-weight: bold; text-align: right;\">1</td><td style = \"text-align: right;\">0.0804175</td><td style = \"text-align: right;\">1.25505</td><td style = \"text-align: right;\">9.93283</td><td style = \"text-align: right;\">3.54809</td><td style = \"text-align: right;\">10.5</td><td style = \"text-align: right;\">9.56897</td></tr></tbody></table></div>"
      ],
      "text/latex": [
       "\\begin{tabular}{r|cccccc}\n",
       "\t& var1\\_mean & var1\\_var & var2\\_mean & var2\\_var & var3\\_mean & var3\\_var\\\\\n",
       "\t\\hline\n",
       "\t& Float64 & Float64 & Float64 & Float64 & Float64 & Float64\\\\\n",
       "\t\\hline\n",
       "\t1 & 0.0804175 & 1.25505 & 9.93283 & 3.54809 & 10.5 & 9.56897 \\\\\n",
       "\\end{tabular}\n"
      ],
      "text/plain": [
       "\u001b[1m1×6 DataFrame\u001b[0m\n",
       "\u001b[1m Row \u001b[0m│\u001b[1m var1_mean \u001b[0m\u001b[1m var1_var \u001b[0m\u001b[1m var2_mean \u001b[0m\u001b[1m var2_var \u001b[0m\u001b[1m var3_mean \u001b[0m\u001b[1m var3_var \u001b[0m\n",
       "     │\u001b[90m Float64   \u001b[0m\u001b[90m Float64  \u001b[0m\u001b[90m Float64   \u001b[0m\u001b[90m Float64  \u001b[0m\u001b[90m Float64   \u001b[0m\u001b[90m Float64  \u001b[0m\n",
       "─────┼───────────────────────────────────────────────────────────────\n",
       "   1 │ 0.0804175   1.25505    9.93283   3.54809       10.5   9.56897"
      ]
     },
     "metadata": {},
     "output_type": "display_data"
    }
   ],
   "source": [
    "# Question 2: Calculate mean and variance of each column of df1\n",
    "mean_var_df1 = combine(df1, :var1 => mean, :var1 => var, :var2 => mean, :var2 => var, :var3 => mean, :var3 => var)"
   ]
  },
  {
   "cell_type": "code",
   "execution_count": 18,
   "metadata": {},
   "outputs": [
    {
     "data": {
      "text/html": [
       "<div><div style = \"float: left;\"><span>20×4 DataFrame</span></div><div style = \"clear: both;\"></div></div><div class = \"data-frame\" style = \"overflow-x: scroll;\"><table class = \"data-frame\" style = \"margin-bottom: 6px;\"><thead><tr class = \"header\"><th class = \"rowNumber\" style = \"font-weight: bold; text-align: right;\">Row</th><th style = \"text-align: left;\">ID</th><th style = \"text-align: left;\">var1</th><th style = \"text-align: left;\">var2</th><th style = \"text-align: left;\">var3</th></tr><tr class = \"subheader headerLastRow\"><th class = \"rowNumber\" style = \"font-weight: bold; text-align: right;\"></th><th title = \"Int64\" style = \"text-align: left;\">Int64</th><th title = \"Float64\" style = \"text-align: left;\">Float64</th><th title = \"Float64\" style = \"text-align: left;\">Float64</th><th title = \"Int64\" style = \"text-align: left;\">Int64</th></tr></thead><tbody><tr><td class = \"rowNumber\" style = \"font-weight: bold; text-align: right;\">1</td><td style = \"text-align: right;\">11</td><td style = \"text-align: right;\">0.705993</td><td style = \"text-align: right;\">12.9557</td><td style = \"text-align: right;\">14</td></tr><tr><td class = \"rowNumber\" style = \"font-weight: bold; text-align: right;\">2</td><td style = \"text-align: right;\">12</td><td style = \"text-align: right;\">1.09156</td><td style = \"text-align: right;\">9.89455</td><td style = \"text-align: right;\">8</td></tr><tr><td class = \"rowNumber\" style = \"font-weight: bold; text-align: right;\">3</td><td style = \"text-align: right;\">13</td><td style = \"text-align: right;\">0.871498</td><td style = \"text-align: right;\">10.469</td><td style = \"text-align: right;\">13</td></tr><tr><td class = \"rowNumber\" style = \"font-weight: bold; text-align: right;\">4</td><td style = \"text-align: right;\">14</td><td style = \"text-align: right;\">0.0856911</td><td style = \"text-align: right;\">9.97559</td><td style = \"text-align: right;\">9</td></tr><tr><td class = \"rowNumber\" style = \"font-weight: bold; text-align: right;\">5</td><td style = \"text-align: right;\">15</td><td style = \"text-align: right;\">0.960079</td><td style = \"text-align: right;\">8.75859</td><td style = \"text-align: right;\">8</td></tr><tr><td class = \"rowNumber\" style = \"font-weight: bold; text-align: right;\">6</td><td style = \"text-align: right;\">16</td><td style = \"text-align: right;\">0.907837</td><td style = \"text-align: right;\">12.8672</td><td style = \"text-align: right;\">13</td></tr><tr><td class = \"rowNumber\" style = \"font-weight: bold; text-align: right;\">7</td><td style = \"text-align: right;\">17</td><td style = \"text-align: right;\">-1.46506</td><td style = \"text-align: right;\">7.25092</td><td style = \"text-align: right;\">6</td></tr><tr><td class = \"rowNumber\" style = \"font-weight: bold; text-align: right;\">8</td><td style = \"text-align: right;\">18</td><td style = \"text-align: right;\">-0.215859</td><td style = \"text-align: right;\">11.8022</td><td style = \"text-align: right;\">10</td></tr><tr><td class = \"rowNumber\" style = \"font-weight: bold; text-align: right;\">9</td><td style = \"text-align: right;\">19</td><td style = \"text-align: right;\">0.575094</td><td style = \"text-align: right;\">9.10409</td><td style = \"text-align: right;\">11</td></tr><tr><td class = \"rowNumber\" style = \"font-weight: bold; text-align: right;\">10</td><td style = \"text-align: right;\">20</td><td style = \"text-align: right;\">-1.79563</td><td style = \"text-align: right;\">8.58814</td><td style = \"text-align: right;\">10</td></tr><tr><td class = \"rowNumber\" style = \"font-weight: bold; text-align: right;\">11</td><td style = \"text-align: right;\">21</td><td style = \"text-align: right;\">-1.0565</td><td style = \"text-align: right;\">7.01006</td><td style = \"text-align: right;\">10</td></tr><tr><td class = \"rowNumber\" style = \"font-weight: bold; text-align: right;\">12</td><td style = \"text-align: right;\">22</td><td style = \"text-align: right;\">0.148361</td><td style = \"text-align: right;\">7.24841</td><td style = \"text-align: right;\">15</td></tr><tr><td class = \"rowNumber\" style = \"font-weight: bold; text-align: right;\">13</td><td style = \"text-align: right;\">23</td><td style = \"text-align: right;\">-1.83851</td><td style = \"text-align: right;\">7.71781</td><td style = \"text-align: right;\">10</td></tr><tr><td class = \"rowNumber\" style = \"font-weight: bold; text-align: right;\">14</td><td style = \"text-align: right;\">24</td><td style = \"text-align: right;\">-1.07363</td><td style = \"text-align: right;\">8.77153</td><td style = \"text-align: right;\">9</td></tr><tr><td class = \"rowNumber\" style = \"font-weight: bold; text-align: right;\">15</td><td style = \"text-align: right;\">25</td><td style = \"text-align: right;\">-0.20563</td><td style = \"text-align: right;\">9.8097</td><td style = \"text-align: right;\">5</td></tr><tr><td class = \"rowNumber\" style = \"font-weight: bold; text-align: right;\">16</td><td style = \"text-align: right;\">26</td><td style = \"text-align: right;\">0.770703</td><td style = \"text-align: right;\">11.4664</td><td style = \"text-align: right;\">13</td></tr><tr><td class = \"rowNumber\" style = \"font-weight: bold; text-align: right;\">17</td><td style = \"text-align: right;\">27</td><td style = \"text-align: right;\">-1.21394</td><td style = \"text-align: right;\">12.0017</td><td style = \"text-align: right;\">7</td></tr><tr><td class = \"rowNumber\" style = \"font-weight: bold; text-align: right;\">18</td><td style = \"text-align: right;\">28</td><td style = \"text-align: right;\">1.0915</td><td style = \"text-align: right;\">10.2362</td><td style = \"text-align: right;\">12</td></tr><tr><td class = \"rowNumber\" style = \"font-weight: bold; text-align: right;\">19</td><td style = \"text-align: right;\">29</td><td style = \"text-align: right;\">1.22004</td><td style = \"text-align: right;\">8.66158</td><td style = \"text-align: right;\">11</td></tr><tr><td class = \"rowNumber\" style = \"font-weight: bold; text-align: right;\">20</td><td style = \"text-align: right;\">30</td><td style = \"text-align: right;\">-0.0758316</td><td style = \"text-align: right;\">6.25678</td><td style = \"text-align: right;\">7</td></tr></tbody></table></div>"
      ],
      "text/latex": [
       "\\begin{tabular}{r|cccc}\n",
       "\t& ID & var1 & var2 & var3\\\\\n",
       "\t\\hline\n",
       "\t& Int64 & Float64 & Float64 & Int64\\\\\n",
       "\t\\hline\n",
       "\t1 & 11 & 0.705993 & 12.9557 & 14 \\\\\n",
       "\t2 & 12 & 1.09156 & 9.89455 & 8 \\\\\n",
       "\t3 & 13 & 0.871498 & 10.469 & 13 \\\\\n",
       "\t4 & 14 & 0.0856911 & 9.97559 & 9 \\\\\n",
       "\t5 & 15 & 0.960079 & 8.75859 & 8 \\\\\n",
       "\t6 & 16 & 0.907837 & 12.8672 & 13 \\\\\n",
       "\t7 & 17 & -1.46506 & 7.25092 & 6 \\\\\n",
       "\t8 & 18 & -0.215859 & 11.8022 & 10 \\\\\n",
       "\t9 & 19 & 0.575094 & 9.10409 & 11 \\\\\n",
       "\t10 & 20 & -1.79563 & 8.58814 & 10 \\\\\n",
       "\t11 & 21 & -1.0565 & 7.01006 & 10 \\\\\n",
       "\t12 & 22 & 0.148361 & 7.24841 & 15 \\\\\n",
       "\t13 & 23 & -1.83851 & 7.71781 & 10 \\\\\n",
       "\t14 & 24 & -1.07363 & 8.77153 & 9 \\\\\n",
       "\t15 & 25 & -0.20563 & 9.8097 & 5 \\\\\n",
       "\t16 & 26 & 0.770703 & 11.4664 & 13 \\\\\n",
       "\t17 & 27 & -1.21394 & 12.0017 & 7 \\\\\n",
       "\t18 & 28 & 1.0915 & 10.2362 & 12 \\\\\n",
       "\t19 & 29 & 1.22004 & 8.66158 & 11 \\\\\n",
       "\t20 & 30 & -0.0758316 & 6.25678 & 7 \\\\\n",
       "\\end{tabular}\n"
      ],
      "text/plain": [
       "\u001b[1m20×4 DataFrame\u001b[0m\n",
       "\u001b[1m Row \u001b[0m│\u001b[1m ID    \u001b[0m\u001b[1m var1       \u001b[0m\u001b[1m var2     \u001b[0m\u001b[1m var3  \u001b[0m\n",
       "     │\u001b[90m Int64 \u001b[0m\u001b[90m Float64    \u001b[0m\u001b[90m Float64  \u001b[0m\u001b[90m Int64 \u001b[0m\n",
       "─────┼────────────────────────────────────\n",
       "   1 │    11   0.705993   12.9557      14\n",
       "   2 │    12   1.09156     9.89455      8\n",
       "   3 │    13   0.871498   10.469       13\n",
       "   4 │    14   0.0856911   9.97559      9\n",
       "   5 │    15   0.960079    8.75859      8\n",
       "   6 │    16   0.907837   12.8672      13\n",
       "   7 │    17  -1.46506     7.25092      6\n",
       "   8 │    18  -0.215859   11.8022      10\n",
       "  ⋮  │   ⋮        ⋮          ⋮        ⋮\n",
       "  14 │    24  -1.07363     8.77153      9\n",
       "  15 │    25  -0.20563     9.8097       5\n",
       "  16 │    26   0.770703   11.4664      13\n",
       "  17 │    27  -1.21394    12.0017       7\n",
       "  18 │    28   1.0915     10.2362      12\n",
       "  19 │    29   1.22004     8.66158     11\n",
       "  20 │    30  -0.0758316   6.25678      7\n",
       "\u001b[36m                            5 rows omitted\u001b[0m"
      ]
     },
     "metadata": {},
     "output_type": "display_data"
    }
   ],
   "source": [
    "# Question 3: Create a new dataframe named df2 from the last 20 rows of df1\n",
    "df2 = df1[11:30, :]"
   ]
  },
  {
   "cell_type": "code",
   "execution_count": 19,
   "metadata": {},
   "outputs": [
    {
     "data": {
      "text/html": [
       "<div><div style = \"float: left;\"><span>4×7 DataFrame</span></div><div style = \"clear: both;\"></div></div><div class = \"data-frame\" style = \"overflow-x: scroll;\"><table class = \"data-frame\" style = \"margin-bottom: 6px;\"><thead><tr class = \"header\"><th class = \"rowNumber\" style = \"font-weight: bold; text-align: right;\">Row</th><th style = \"text-align: left;\">variable</th><th style = \"text-align: left;\">mean</th><th style = \"text-align: left;\">min</th><th style = \"text-align: left;\">median</th><th style = \"text-align: left;\">max</th><th style = \"text-align: left;\">nmissing</th><th style = \"text-align: left;\">eltype</th></tr><tr class = \"subheader headerLastRow\"><th class = \"rowNumber\" style = \"font-weight: bold; text-align: right;\"></th><th title = \"Symbol\" style = \"text-align: left;\">Symbol</th><th title = \"Float64\" style = \"text-align: left;\">Float64</th><th title = \"Real\" style = \"text-align: left;\">Real</th><th title = \"Float64\" style = \"text-align: left;\">Float64</th><th title = \"Real\" style = \"text-align: left;\">Real</th><th title = \"Int64\" style = \"text-align: left;\">Int64</th><th title = \"DataType\" style = \"text-align: left;\">DataType</th></tr></thead><tbody><tr><td class = \"rowNumber\" style = \"font-weight: bold; text-align: right;\">1</td><td style = \"text-align: left;\">ID</td><td style = \"text-align: right;\">20.5</td><td style = \"text-align: right;\">11</td><td style = \"text-align: right;\">20.5</td><td style = \"text-align: right;\">30</td><td style = \"text-align: right;\">0</td><td style = \"text-align: left;\">Int64</td></tr><tr><td class = \"rowNumber\" style = \"font-weight: bold; text-align: right;\">2</td><td style = \"text-align: left;\">var1</td><td style = \"text-align: right;\">-0.025612</td><td style = \"text-align: right;\">-1.83851</td><td style = \"text-align: right;\">0.117026</td><td style = \"text-align: right;\">1.22004</td><td style = \"text-align: right;\">0</td><td style = \"text-align: left;\">Float64</td></tr><tr><td class = \"rowNumber\" style = \"font-weight: bold; text-align: right;\">3</td><td style = \"text-align: left;\">var2</td><td style = \"text-align: right;\">9.54231</td><td style = \"text-align: right;\">6.25678</td><td style = \"text-align: right;\">9.4569</td><td style = \"text-align: right;\">12.9557</td><td style = \"text-align: right;\">0</td><td style = \"text-align: left;\">Float64</td></tr><tr><td class = \"rowNumber\" style = \"font-weight: bold; text-align: right;\">4</td><td style = \"text-align: left;\">var3</td><td style = \"text-align: right;\">10.05</td><td style = \"text-align: right;\">5</td><td style = \"text-align: right;\">10.0</td><td style = \"text-align: right;\">15</td><td style = \"text-align: right;\">0</td><td style = \"text-align: left;\">Int64</td></tr></tbody></table></div>"
      ],
      "text/latex": [
       "\\begin{tabular}{r|ccccccc}\n",
       "\t& variable & mean & min & median & max & nmissing & eltype\\\\\n",
       "\t\\hline\n",
       "\t& Symbol & Float64 & Real & Float64 & Real & Int64 & DataType\\\\\n",
       "\t\\hline\n",
       "\t1 & ID & 20.5 & 11 & 20.5 & 30 & 0 & Int64 \\\\\n",
       "\t2 & var1 & -0.025612 & -1.83851 & 0.117026 & 1.22004 & 0 & Float64 \\\\\n",
       "\t3 & var2 & 9.54231 & 6.25678 & 9.4569 & 12.9557 & 0 & Float64 \\\\\n",
       "\t4 & var3 & 10.05 & 5 & 10.0 & 15 & 0 & Int64 \\\\\n",
       "\\end{tabular}\n"
      ],
      "text/plain": [
       "\u001b[1m4×7 DataFrame\u001b[0m\n",
       "\u001b[1m Row \u001b[0m│\u001b[1m variable \u001b[0m\u001b[1m mean      \u001b[0m\u001b[1m min      \u001b[0m\u001b[1m median    \u001b[0m\u001b[1m max      \u001b[0m\u001b[1m nmissing \u001b[0m\u001b[1m eltype   \u001b[0m\n",
       "     │\u001b[90m Symbol   \u001b[0m\u001b[90m Float64   \u001b[0m\u001b[90m Real     \u001b[0m\u001b[90m Float64   \u001b[0m\u001b[90m Real     \u001b[0m\u001b[90m Int64    \u001b[0m\u001b[90m DataType \u001b[0m\n",
       "─────┼────────────────────────────────────────────────────────────────────────\n",
       "   1 │ ID        20.5       11        20.5       30               0  Int64\n",
       "   2 │ var1      -0.025612  -1.83851   0.117026   1.22004         0  Float64\n",
       "   3 │ var2       9.54231    6.25678   9.4569    12.9557          0  Float64\n",
       "   4 │ var3      10.05       5        10.0       15               0  Int64"
      ]
     },
     "metadata": {},
     "output_type": "display_data"
    }
   ],
   "source": [
    "# Question 4: Calculate a simple descriptive statistics on df2 using the describe() function\n",
    "describe(df2)"
   ]
  },
  {
   "cell_type": "code",
   "execution_count": 20,
   "metadata": {},
   "outputs": [
    {
     "data": {
      "text/plain": [
       "20-element Vector{String}:\n",
       " \"GroupB\"\n",
       " \"GroupB\"\n",
       " \"GroupA\"\n",
       " \"GroupA\"\n",
       " \"GroupA\"\n",
       " \"GroupA\"\n",
       " \"GroupA\"\n",
       " \"GroupB\"\n",
       " \"GroupA\"\n",
       " \"GroupA\"\n",
       " \"GroupA\"\n",
       " \"GroupA\"\n",
       " \"GroupB\"\n",
       " \"GroupB\"\n",
       " \"GroupA\"\n",
       " \"GroupB\"\n",
       " \"GroupA\"\n",
       " \"GroupB\"\n",
       " \"GroupB\"\n",
       " \"GroupA\""
      ]
     },
     "metadata": {},
     "output_type": "display_data"
    }
   ],
   "source": [
    "# Question 5: Add a column named cat1 to df2 consisting of a random selection of 20 values from the sample space \"GroupA\" and \"GroupB\"\n",
    "df2.cat1 = rand([\"GroupA\", \"GroupB\"], 20)"
   ]
  },
  {
   "cell_type": "code",
   "execution_count": 21,
   "metadata": {},
   "outputs": [
    {
     "data": {
      "text/html": [
       "<div><div style = \"float: left;\"><span>20×3 DataFrame</span></div><div style = \"clear: both;\"></div></div><div class = \"data-frame\" style = \"overflow-x: scroll;\"><table class = \"data-frame\" style = \"margin-bottom: 6px;\"><thead><tr class = \"header\"><th class = \"rowNumber\" style = \"font-weight: bold; text-align: right;\">Row</th><th style = \"text-align: left;\">ID</th><th style = \"text-align: left;\">var4</th><th style = \"text-align: left;\">var5</th></tr><tr class = \"subheader headerLastRow\"><th class = \"rowNumber\" style = \"font-weight: bold; text-align: right;\"></th><th title = \"Int64\" style = \"text-align: left;\">Int64</th><th title = \"Int64\" style = \"text-align: left;\">Int64</th><th title = \"Int64\" style = \"text-align: left;\">Int64</th></tr></thead><tbody><tr><td class = \"rowNumber\" style = \"font-weight: bold; text-align: right;\">1</td><td style = \"text-align: right;\">11</td><td style = \"text-align: right;\">21</td><td style = \"text-align: right;\">41</td></tr><tr><td class = \"rowNumber\" style = \"font-weight: bold; text-align: right;\">2</td><td style = \"text-align: right;\">12</td><td style = \"text-align: right;\">22</td><td style = \"text-align: right;\">42</td></tr><tr><td class = \"rowNumber\" style = \"font-weight: bold; text-align: right;\">3</td><td style = \"text-align: right;\">13</td><td style = \"text-align: right;\">23</td><td style = \"text-align: right;\">43</td></tr><tr><td class = \"rowNumber\" style = \"font-weight: bold; text-align: right;\">4</td><td style = \"text-align: right;\">14</td><td style = \"text-align: right;\">24</td><td style = \"text-align: right;\">44</td></tr><tr><td class = \"rowNumber\" style = \"font-weight: bold; text-align: right;\">5</td><td style = \"text-align: right;\">15</td><td style = \"text-align: right;\">25</td><td style = \"text-align: right;\">45</td></tr><tr><td class = \"rowNumber\" style = \"font-weight: bold; text-align: right;\">6</td><td style = \"text-align: right;\">16</td><td style = \"text-align: right;\">26</td><td style = \"text-align: right;\">46</td></tr><tr><td class = \"rowNumber\" style = \"font-weight: bold; text-align: right;\">7</td><td style = \"text-align: right;\">17</td><td style = \"text-align: right;\">27</td><td style = \"text-align: right;\">47</td></tr><tr><td class = \"rowNumber\" style = \"font-weight: bold; text-align: right;\">8</td><td style = \"text-align: right;\">18</td><td style = \"text-align: right;\">28</td><td style = \"text-align: right;\">48</td></tr><tr><td class = \"rowNumber\" style = \"font-weight: bold; text-align: right;\">9</td><td style = \"text-align: right;\">19</td><td style = \"text-align: right;\">29</td><td style = \"text-align: right;\">49</td></tr><tr><td class = \"rowNumber\" style = \"font-weight: bold; text-align: right;\">10</td><td style = \"text-align: right;\">20</td><td style = \"text-align: right;\">30</td><td style = \"text-align: right;\">50</td></tr><tr><td class = \"rowNumber\" style = \"font-weight: bold; text-align: right;\">11</td><td style = \"text-align: right;\">21</td><td style = \"text-align: right;\">31</td><td style = \"text-align: right;\">51</td></tr><tr><td class = \"rowNumber\" style = \"font-weight: bold; text-align: right;\">12</td><td style = \"text-align: right;\">22</td><td style = \"text-align: right;\">32</td><td style = \"text-align: right;\">52</td></tr><tr><td class = \"rowNumber\" style = \"font-weight: bold; text-align: right;\">13</td><td style = \"text-align: right;\">23</td><td style = \"text-align: right;\">33</td><td style = \"text-align: right;\">53</td></tr><tr><td class = \"rowNumber\" style = \"font-weight: bold; text-align: right;\">14</td><td style = \"text-align: right;\">24</td><td style = \"text-align: right;\">34</td><td style = \"text-align: right;\">54</td></tr><tr><td class = \"rowNumber\" style = \"font-weight: bold; text-align: right;\">15</td><td style = \"text-align: right;\">25</td><td style = \"text-align: right;\">35</td><td style = \"text-align: right;\">55</td></tr><tr><td class = \"rowNumber\" style = \"font-weight: bold; text-align: right;\">16</td><td style = \"text-align: right;\">26</td><td style = \"text-align: right;\">36</td><td style = \"text-align: right;\">56</td></tr><tr><td class = \"rowNumber\" style = \"font-weight: bold; text-align: right;\">17</td><td style = \"text-align: right;\">27</td><td style = \"text-align: right;\">37</td><td style = \"text-align: right;\">57</td></tr><tr><td class = \"rowNumber\" style = \"font-weight: bold; text-align: right;\">18</td><td style = \"text-align: right;\">28</td><td style = \"text-align: right;\">38</td><td style = \"text-align: right;\">58</td></tr><tr><td class = \"rowNumber\" style = \"font-weight: bold; text-align: right;\">19</td><td style = \"text-align: right;\">29</td><td style = \"text-align: right;\">39</td><td style = \"text-align: right;\">59</td></tr><tr><td class = \"rowNumber\" style = \"font-weight: bold; text-align: right;\">20</td><td style = \"text-align: right;\">30</td><td style = \"text-align: right;\">40</td><td style = \"text-align: right;\">60</td></tr></tbody></table></div>"
      ],
      "text/latex": [
       "\\begin{tabular}{r|ccc}\n",
       "\t& ID & var4 & var5\\\\\n",
       "\t\\hline\n",
       "\t& Int64 & Int64 & Int64\\\\\n",
       "\t\\hline\n",
       "\t1 & 11 & 21 & 41 \\\\\n",
       "\t2 & 12 & 22 & 42 \\\\\n",
       "\t3 & 13 & 23 & 43 \\\\\n",
       "\t4 & 14 & 24 & 44 \\\\\n",
       "\t5 & 15 & 25 & 45 \\\\\n",
       "\t6 & 16 & 26 & 46 \\\\\n",
       "\t7 & 17 & 27 & 47 \\\\\n",
       "\t8 & 18 & 28 & 48 \\\\\n",
       "\t9 & 19 & 29 & 49 \\\\\n",
       "\t10 & 20 & 30 & 50 \\\\\n",
       "\t11 & 21 & 31 & 51 \\\\\n",
       "\t12 & 22 & 32 & 52 \\\\\n",
       "\t13 & 23 & 33 & 53 \\\\\n",
       "\t14 & 24 & 34 & 54 \\\\\n",
       "\t15 & 25 & 35 & 55 \\\\\n",
       "\t16 & 26 & 36 & 56 \\\\\n",
       "\t17 & 27 & 37 & 57 \\\\\n",
       "\t18 & 28 & 38 & 58 \\\\\n",
       "\t19 & 29 & 39 & 59 \\\\\n",
       "\t20 & 30 & 40 & 60 \\\\\n",
       "\\end{tabular}\n"
      ],
      "text/plain": [
       "\u001b[1m20×3 DataFrame\u001b[0m\n",
       "\u001b[1m Row \u001b[0m│\u001b[1m ID    \u001b[0m\u001b[1m var4  \u001b[0m\u001b[1m var5  \u001b[0m\n",
       "     │\u001b[90m Int64 \u001b[0m\u001b[90m Int64 \u001b[0m\u001b[90m Int64 \u001b[0m\n",
       "─────┼─────────────────────\n",
       "   1 │    11     21     41\n",
       "   2 │    12     22     42\n",
       "   3 │    13     23     43\n",
       "   4 │    14     24     44\n",
       "   5 │    15     25     45\n",
       "   6 │    16     26     46\n",
       "   7 │    17     27     47\n",
       "   8 │    18     28     48\n",
       "  ⋮  │   ⋮      ⋮      ⋮\n",
       "  14 │    24     34     54\n",
       "  15 │    25     35     55\n",
       "  16 │    26     36     56\n",
       "  17 │    27     37     57\n",
       "  18 │    28     38     58\n",
       "  19 │    29     39     59\n",
       "  20 │    30     40     60\n",
       "\u001b[36m             5 rows omitted\u001b[0m"
      ]
     },
     "metadata": {},
     "output_type": "display_data"
    }
   ],
   "source": [
    "# Question 6: Create a new dataframe df3 with columns named \"id\", \"var4\" and \"var5\" such that id contains the values 11 through 30, var4 contains the values 21 through 40 and var5 contains the values 41 through 60.\n",
    "df3 = DataFrame(ID = 11:30, var4 = 21:40, var5 = 41:60)"
   ]
  },
  {
   "cell_type": "code",
   "execution_count": 22,
   "metadata": {},
   "outputs": [
    {
     "data": {
      "text/html": [
       "<div><div style = \"float: left;\"><span>20×7 DataFrame</span></div><div style = \"clear: both;\"></div></div><div class = \"data-frame\" style = \"overflow-x: scroll;\"><table class = \"data-frame\" style = \"margin-bottom: 6px;\"><thead><tr class = \"header\"><th class = \"rowNumber\" style = \"font-weight: bold; text-align: right;\">Row</th><th style = \"text-align: left;\">ID</th><th style = \"text-align: left;\">var1</th><th style = \"text-align: left;\">var2</th><th style = \"text-align: left;\">var3</th><th style = \"text-align: left;\">cat1</th><th style = \"text-align: left;\">var4</th><th style = \"text-align: left;\">var5</th></tr><tr class = \"subheader headerLastRow\"><th class = \"rowNumber\" style = \"font-weight: bold; text-align: right;\"></th><th title = \"Int64\" style = \"text-align: left;\">Int64</th><th title = \"Float64\" style = \"text-align: left;\">Float64</th><th title = \"Float64\" style = \"text-align: left;\">Float64</th><th title = \"Int64\" style = \"text-align: left;\">Int64</th><th title = \"String\" style = \"text-align: left;\">String</th><th title = \"Int64\" style = \"text-align: left;\">Int64</th><th title = \"Int64\" style = \"text-align: left;\">Int64</th></tr></thead><tbody><tr><td class = \"rowNumber\" style = \"font-weight: bold; text-align: right;\">1</td><td style = \"text-align: right;\">11</td><td style = \"text-align: right;\">0.705993</td><td style = \"text-align: right;\">12.9557</td><td style = \"text-align: right;\">14</td><td style = \"text-align: left;\">GroupB</td><td style = \"text-align: right;\">21</td><td style = \"text-align: right;\">41</td></tr><tr><td class = \"rowNumber\" style = \"font-weight: bold; text-align: right;\">2</td><td style = \"text-align: right;\">12</td><td style = \"text-align: right;\">1.09156</td><td style = \"text-align: right;\">9.89455</td><td style = \"text-align: right;\">8</td><td style = \"text-align: left;\">GroupB</td><td style = \"text-align: right;\">22</td><td style = \"text-align: right;\">42</td></tr><tr><td class = \"rowNumber\" style = \"font-weight: bold; text-align: right;\">3</td><td style = \"text-align: right;\">13</td><td style = \"text-align: right;\">0.871498</td><td style = \"text-align: right;\">10.469</td><td style = \"text-align: right;\">13</td><td style = \"text-align: left;\">GroupA</td><td style = \"text-align: right;\">23</td><td style = \"text-align: right;\">43</td></tr><tr><td class = \"rowNumber\" style = \"font-weight: bold; text-align: right;\">4</td><td style = \"text-align: right;\">14</td><td style = \"text-align: right;\">0.0856911</td><td style = \"text-align: right;\">9.97559</td><td style = \"text-align: right;\">9</td><td style = \"text-align: left;\">GroupA</td><td style = \"text-align: right;\">24</td><td style = \"text-align: right;\">44</td></tr><tr><td class = \"rowNumber\" style = \"font-weight: bold; text-align: right;\">5</td><td style = \"text-align: right;\">15</td><td style = \"text-align: right;\">0.960079</td><td style = \"text-align: right;\">8.75859</td><td style = \"text-align: right;\">8</td><td style = \"text-align: left;\">GroupA</td><td style = \"text-align: right;\">25</td><td style = \"text-align: right;\">45</td></tr><tr><td class = \"rowNumber\" style = \"font-weight: bold; text-align: right;\">6</td><td style = \"text-align: right;\">16</td><td style = \"text-align: right;\">0.907837</td><td style = \"text-align: right;\">12.8672</td><td style = \"text-align: right;\">13</td><td style = \"text-align: left;\">GroupA</td><td style = \"text-align: right;\">26</td><td style = \"text-align: right;\">46</td></tr><tr><td class = \"rowNumber\" style = \"font-weight: bold; text-align: right;\">7</td><td style = \"text-align: right;\">17</td><td style = \"text-align: right;\">-1.46506</td><td style = \"text-align: right;\">7.25092</td><td style = \"text-align: right;\">6</td><td style = \"text-align: left;\">GroupA</td><td style = \"text-align: right;\">27</td><td style = \"text-align: right;\">47</td></tr><tr><td class = \"rowNumber\" style = \"font-weight: bold; text-align: right;\">8</td><td style = \"text-align: right;\">18</td><td style = \"text-align: right;\">-0.215859</td><td style = \"text-align: right;\">11.8022</td><td style = \"text-align: right;\">10</td><td style = \"text-align: left;\">GroupB</td><td style = \"text-align: right;\">28</td><td style = \"text-align: right;\">48</td></tr><tr><td class = \"rowNumber\" style = \"font-weight: bold; text-align: right;\">9</td><td style = \"text-align: right;\">19</td><td style = \"text-align: right;\">0.575094</td><td style = \"text-align: right;\">9.10409</td><td style = \"text-align: right;\">11</td><td style = \"text-align: left;\">GroupA</td><td style = \"text-align: right;\">29</td><td style = \"text-align: right;\">49</td></tr><tr><td class = \"rowNumber\" style = \"font-weight: bold; text-align: right;\">10</td><td style = \"text-align: right;\">20</td><td style = \"text-align: right;\">-1.79563</td><td style = \"text-align: right;\">8.58814</td><td style = \"text-align: right;\">10</td><td style = \"text-align: left;\">GroupA</td><td style = \"text-align: right;\">30</td><td style = \"text-align: right;\">50</td></tr><tr><td class = \"rowNumber\" style = \"font-weight: bold; text-align: right;\">11</td><td style = \"text-align: right;\">21</td><td style = \"text-align: right;\">-1.0565</td><td style = \"text-align: right;\">7.01006</td><td style = \"text-align: right;\">10</td><td style = \"text-align: left;\">GroupA</td><td style = \"text-align: right;\">31</td><td style = \"text-align: right;\">51</td></tr><tr><td class = \"rowNumber\" style = \"font-weight: bold; text-align: right;\">12</td><td style = \"text-align: right;\">22</td><td style = \"text-align: right;\">0.148361</td><td style = \"text-align: right;\">7.24841</td><td style = \"text-align: right;\">15</td><td style = \"text-align: left;\">GroupA</td><td style = \"text-align: right;\">32</td><td style = \"text-align: right;\">52</td></tr><tr><td class = \"rowNumber\" style = \"font-weight: bold; text-align: right;\">13</td><td style = \"text-align: right;\">23</td><td style = \"text-align: right;\">-1.83851</td><td style = \"text-align: right;\">7.71781</td><td style = \"text-align: right;\">10</td><td style = \"text-align: left;\">GroupB</td><td style = \"text-align: right;\">33</td><td style = \"text-align: right;\">53</td></tr><tr><td class = \"rowNumber\" style = \"font-weight: bold; text-align: right;\">14</td><td style = \"text-align: right;\">24</td><td style = \"text-align: right;\">-1.07363</td><td style = \"text-align: right;\">8.77153</td><td style = \"text-align: right;\">9</td><td style = \"text-align: left;\">GroupB</td><td style = \"text-align: right;\">34</td><td style = \"text-align: right;\">54</td></tr><tr><td class = \"rowNumber\" style = \"font-weight: bold; text-align: right;\">15</td><td style = \"text-align: right;\">25</td><td style = \"text-align: right;\">-0.20563</td><td style = \"text-align: right;\">9.8097</td><td style = \"text-align: right;\">5</td><td style = \"text-align: left;\">GroupA</td><td style = \"text-align: right;\">35</td><td style = \"text-align: right;\">55</td></tr><tr><td class = \"rowNumber\" style = \"font-weight: bold; text-align: right;\">16</td><td style = \"text-align: right;\">26</td><td style = \"text-align: right;\">0.770703</td><td style = \"text-align: right;\">11.4664</td><td style = \"text-align: right;\">13</td><td style = \"text-align: left;\">GroupB</td><td style = \"text-align: right;\">36</td><td style = \"text-align: right;\">56</td></tr><tr><td class = \"rowNumber\" style = \"font-weight: bold; text-align: right;\">17</td><td style = \"text-align: right;\">27</td><td style = \"text-align: right;\">-1.21394</td><td style = \"text-align: right;\">12.0017</td><td style = \"text-align: right;\">7</td><td style = \"text-align: left;\">GroupA</td><td style = \"text-align: right;\">37</td><td style = \"text-align: right;\">57</td></tr><tr><td class = \"rowNumber\" style = \"font-weight: bold; text-align: right;\">18</td><td style = \"text-align: right;\">28</td><td style = \"text-align: right;\">1.0915</td><td style = \"text-align: right;\">10.2362</td><td style = \"text-align: right;\">12</td><td style = \"text-align: left;\">GroupB</td><td style = \"text-align: right;\">38</td><td style = \"text-align: right;\">58</td></tr><tr><td class = \"rowNumber\" style = \"font-weight: bold; text-align: right;\">19</td><td style = \"text-align: right;\">29</td><td style = \"text-align: right;\">1.22004</td><td style = \"text-align: right;\">8.66158</td><td style = \"text-align: right;\">11</td><td style = \"text-align: left;\">GroupB</td><td style = \"text-align: right;\">39</td><td style = \"text-align: right;\">59</td></tr><tr><td class = \"rowNumber\" style = \"font-weight: bold; text-align: right;\">20</td><td style = \"text-align: right;\">30</td><td style = \"text-align: right;\">-0.0758316</td><td style = \"text-align: right;\">6.25678</td><td style = \"text-align: right;\">7</td><td style = \"text-align: left;\">GroupA</td><td style = \"text-align: right;\">40</td><td style = \"text-align: right;\">60</td></tr></tbody></table></div>"
      ],
      "text/latex": [
       "\\begin{tabular}{r|ccccccc}\n",
       "\t& ID & var1 & var2 & var3 & cat1 & var4 & var5\\\\\n",
       "\t\\hline\n",
       "\t& Int64 & Float64 & Float64 & Int64 & String & Int64 & Int64\\\\\n",
       "\t\\hline\n",
       "\t1 & 11 & 0.705993 & 12.9557 & 14 & GroupB & 21 & 41 \\\\\n",
       "\t2 & 12 & 1.09156 & 9.89455 & 8 & GroupB & 22 & 42 \\\\\n",
       "\t3 & 13 & 0.871498 & 10.469 & 13 & GroupA & 23 & 43 \\\\\n",
       "\t4 & 14 & 0.0856911 & 9.97559 & 9 & GroupA & 24 & 44 \\\\\n",
       "\t5 & 15 & 0.960079 & 8.75859 & 8 & GroupA & 25 & 45 \\\\\n",
       "\t6 & 16 & 0.907837 & 12.8672 & 13 & GroupA & 26 & 46 \\\\\n",
       "\t7 & 17 & -1.46506 & 7.25092 & 6 & GroupA & 27 & 47 \\\\\n",
       "\t8 & 18 & -0.215859 & 11.8022 & 10 & GroupB & 28 & 48 \\\\\n",
       "\t9 & 19 & 0.575094 & 9.10409 & 11 & GroupA & 29 & 49 \\\\\n",
       "\t10 & 20 & -1.79563 & 8.58814 & 10 & GroupA & 30 & 50 \\\\\n",
       "\t11 & 21 & -1.0565 & 7.01006 & 10 & GroupA & 31 & 51 \\\\\n",
       "\t12 & 22 & 0.148361 & 7.24841 & 15 & GroupA & 32 & 52 \\\\\n",
       "\t13 & 23 & -1.83851 & 7.71781 & 10 & GroupB & 33 & 53 \\\\\n",
       "\t14 & 24 & -1.07363 & 8.77153 & 9 & GroupB & 34 & 54 \\\\\n",
       "\t15 & 25 & -0.20563 & 9.8097 & 5 & GroupA & 35 & 55 \\\\\n",
       "\t16 & 26 & 0.770703 & 11.4664 & 13 & GroupB & 36 & 56 \\\\\n",
       "\t17 & 27 & -1.21394 & 12.0017 & 7 & GroupA & 37 & 57 \\\\\n",
       "\t18 & 28 & 1.0915 & 10.2362 & 12 & GroupB & 38 & 58 \\\\\n",
       "\t19 & 29 & 1.22004 & 8.66158 & 11 & GroupB & 39 & 59 \\\\\n",
       "\t20 & 30 & -0.0758316 & 6.25678 & 7 & GroupA & 40 & 60 \\\\\n",
       "\\end{tabular}\n"
      ],
      "text/plain": [
       "\u001b[1m20×7 DataFrame\u001b[0m\n",
       "\u001b[1m Row \u001b[0m│\u001b[1m ID    \u001b[0m\u001b[1m var1       \u001b[0m\u001b[1m var2     \u001b[0m\u001b[1m var3  \u001b[0m\u001b[1m cat1   \u001b[0m\u001b[1m var4  \u001b[0m\u001b[1m var5  \u001b[0m\n",
       "     │\u001b[90m Int64 \u001b[0m\u001b[90m Float64    \u001b[0m\u001b[90m Float64  \u001b[0m\u001b[90m Int64 \u001b[0m\u001b[90m String \u001b[0m\u001b[90m Int64 \u001b[0m\u001b[90m Int64 \u001b[0m\n",
       "─────┼──────────────────────────────────────────────────────────\n",
       "   1 │    11   0.705993   12.9557      14  GroupB     21     41\n",
       "   2 │    12   1.09156     9.89455      8  GroupB     22     42\n",
       "   3 │    13   0.871498   10.469       13  GroupA     23     43\n",
       "   4 │    14   0.0856911   9.97559      9  GroupA     24     44\n",
       "   5 │    15   0.960079    8.75859      8  GroupA     25     45\n",
       "   6 │    16   0.907837   12.8672      13  GroupA     26     46\n",
       "   7 │    17  -1.46506     7.25092      6  GroupA     27     47\n",
       "   8 │    18  -0.215859   11.8022      10  GroupB     28     48\n",
       "  ⋮  │   ⋮        ⋮          ⋮        ⋮      ⋮       ⋮      ⋮\n",
       "  14 │    24  -1.07363     8.77153      9  GroupB     34     54\n",
       "  15 │    25  -0.20563     9.8097       5  GroupA     35     55\n",
       "  16 │    26   0.770703   11.4664      13  GroupB     36     56\n",
       "  17 │    27  -1.21394    12.0017       7  GroupA     37     57\n",
       "  18 │    28   1.0915     10.2362      12  GroupB     38     58\n",
       "  19 │    29   1.22004     8.66158     11  GroupB     39     59\n",
       "  20 │    30  -0.0758316   6.25678      7  GroupA     40     60\n",
       "\u001b[36m                                                  5 rows omitted\u001b[0m"
      ]
     },
     "metadata": {},
     "output_type": "display_data"
    }
   ],
   "source": [
    "# Question 7: Join df2 and df3 on the ID column and save the results as a new dataframe named df4 (hint: you can use innerjoin).\n",
    "df4 = innerjoin(df2, df3, on = :ID)"
   ]
  }
 ],
 "metadata": {
  "kernelspec": {
   "display_name": "Julia 1.10.2",
   "language": "julia",
   "name": "julia-1.10"
  },
  "language_info": {
   "file_extension": ".jl",
   "mimetype": "application/julia",
   "name": "julia",
   "version": "1.10.2"
  }
 },
 "nbformat": 4,
 "nbformat_minor": 1
}
