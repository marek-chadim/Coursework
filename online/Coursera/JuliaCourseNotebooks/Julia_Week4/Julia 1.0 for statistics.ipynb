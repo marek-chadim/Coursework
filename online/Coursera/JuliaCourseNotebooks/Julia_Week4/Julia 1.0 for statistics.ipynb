{
 "cells": [
  {
   "cell_type": "code",
   "execution_count": null,
   "metadata": {},
   "outputs": [],
   "source": [
    "# Setting up a custom stylesheet in IJulia\n",
    "file = open(\"style.css\") # A .css file in the same folder as this notebook file\n",
    "style = read(file, String) # Read the file\n",
    "HTML(\"$style\") # Output as HTML"
   ]
  },
  {
   "cell_type": "code",
   "execution_count": 1,
   "metadata": {},
   "outputs": [
    {
     "data": {
      "text/plain": [
       "4"
      ]
     },
     "metadata": {},
     "output_type": "display_data"
    }
   ],
   "source": [
    "# Checking the kernel\n",
    "# These are uncertain times :)\n",
    "+(2, 2)"
   ]
  },
  {
   "cell_type": "markdown",
   "metadata": {},
   "source": [
    "# Using Julia 1.0 for introductory statistics"
   ]
  },
  {
   "cell_type": "markdown",
   "metadata": {},
   "source": [
    "## Introduction"
   ]
  },
  {
   "cell_type": "markdown",
   "metadata": {},
   "source": [
    "Julia is well suited to general purpose data analysis.  It has many built-in statistical functions and there are many packages that greatly extend the capabilities of Julia as a scientific programming language for statistics."
   ]
  },
  {
   "cell_type": "markdown",
   "metadata": {},
   "source": [
    "In this section we will take a look at introductory statistics using Julia 1.0.  There are differences between this version of Julia and version 0.6.  Not all the packages that are available for version 0.6 and prior, are quite ready for version 1.0.  At the time of recording the packages that are used in this section do all compile and can be used."
   ]
  },
  {
   "cell_type": "markdown",
   "metadata": {},
   "source": [
    "In the first part of this section of the course, we will take a look at creating our own data for statistical analysis.  It is great to be able to generate simulated data, especially when you are just starting out and might not have access to proper datasets."
   ]
  },
  {
   "cell_type": "markdown",
   "metadata": {},
   "source": [
    "When viewing a new dataset, it is alway good to start by describing it.  Human beings are not designed to look at large tables of data and understand what it is trying to tell us.  Using summarizing, or descriptive, statistics helps us to gain an insight into the data before we start to analyze it."
   ]
  },
  {
   "cell_type": "markdown",
   "metadata": {},
   "source": [
    "This section will also look at visualizing data.  It many cases, this allows for an even better understanding of the data."
   ]
  },
  {
   "cell_type": "markdown",
   "metadata": {},
   "source": [
    "The `HypothesisTests` and `GLM` packages allow us to do many common statistical tests and we will have a look at Student's _t_ test, linear regression models, and the $\\chi^2$ test for independence."
   ]
  },
  {
   "cell_type": "markdown",
   "metadata": {},
   "source": [
    "We will conclude with a look at exporting our data in the form of a spreadsheet.  Let's start, though, by importing the packages that we will be using."
   ]
  },
  {
   "cell_type": "markdown",
   "metadata": {},
   "source": [
    "## Adding packages"
   ]
  },
  {
   "cell_type": "markdown",
   "metadata": {},
   "source": [
    "If the packages that are listed below are not installed on your system, then do the following for each package, i.e. `PyPlot`.\n",
    "\n",
    "```\n",
    "using Pkg;\n",
    "Pkg.add(\"PyPlot\")\n",
    "```"
   ]
  },
  {
   "cell_type": "code",
   "execution_count": 1,
   "metadata": {
    "scrolled": true
   },
   "outputs": [
    {
     "name": "stderr",
     "output_type": "stream",
     "text": [
      "\u001b[32m\u001b[1m   Resolving\u001b[22m\u001b[39m package versions...\n",
      "\u001b[32m\u001b[1m  No Changes\u001b[22m\u001b[39m to `C:\\Users\\chadi\\.julia\\environments\\v1.10\\Project.toml`\n",
      "\u001b[32m\u001b[1m  No Changes\u001b[22m\u001b[39m to `C:\\Users\\chadi\\.julia\\environments\\v1.10\\Manifest.toml`\n",
      "\u001b[32m\u001b[1m   Resolving\u001b[22m\u001b[39m package versions...\n",
      "\u001b[32m\u001b[1m  No Changes\u001b[22m\u001b[39m to `C:\\Users\\chadi\\.julia\\environments\\v1.10\\Project.toml`\n",
      "\u001b[32m\u001b[1m  No Changes\u001b[22m\u001b[39m to `C:\\Users\\chadi\\.julia\\environments\\v1.10\\Manifest.toml`\n",
      "\u001b[32m\u001b[1m   Resolving\u001b[22m\u001b[39m package versions...\n",
      "\u001b[32m\u001b[1m  No Changes\u001b[22m\u001b[39m to `C:\\Users\\chadi\\.julia\\environments\\v1.10\\Project.toml`\n",
      "\u001b[32m\u001b[1m  No Changes\u001b[22m\u001b[39m to `C:\\Users\\chadi\\.julia\\environments\\v1.10\\Manifest.toml`\n",
      "\u001b[32m\u001b[1m   Resolving\u001b[22m\u001b[39m package versions...\n",
      "\u001b[32m\u001b[1m  No Changes\u001b[22m\u001b[39m to `C:\\Users\\chadi\\.julia\\environments\\v1.10\\Project.toml`\n",
      "\u001b[32m\u001b[1m  No Changes\u001b[22m\u001b[39m to `C:\\Users\\chadi\\.julia\\environments\\v1.10\\Manifest.toml`\n",
      "\u001b[32m\u001b[1m   Resolving\u001b[22m\u001b[39m package versions...\n",
      "\u001b[32m\u001b[1m   Installed\u001b[22m\u001b[39m HypothesisTests ─ v0.11.0\n",
      "\u001b[32m\u001b[1m    Updating\u001b[22m\u001b[39m `C:\\Users\\chadi\\.julia\\environments\\v1.10\\Project.toml`\n",
      "  \u001b[90m[09f84164] \u001b[39m\u001b[92m+ HypothesisTests v0.11.0\u001b[39m\n",
      "\u001b[32m\u001b[1m    Updating\u001b[22m\u001b[39m `C:\\Users\\chadi\\.julia\\environments\\v1.10\\Manifest.toml`\n",
      "  \u001b[90m[861a8166] \u001b[39m\u001b[92m+ Combinatorics v1.0.2\u001b[39m\n",
      "  \u001b[90m[09f84164] \u001b[39m\u001b[92m+ HypothesisTests v0.11.0\u001b[39m\n",
      "\u001b[32m\u001b[1mPrecompiling\u001b[22m\u001b[39m project...\n",
      "\u001b[32m  ✓ \u001b[39mHypothesisTests\n",
      "  1 dependency successfully precompiled in 6 seconds. 304 already precompiled.\n",
      "\u001b[32m\u001b[1m   Resolving\u001b[22m\u001b[39m package versions...\n",
      "\u001b[32m\u001b[1m  No Changes\u001b[22m\u001b[39m to `C:\\Users\\chadi\\.julia\\environments\\v1.10\\Project.toml`\n",
      "\u001b[32m\u001b[1m  No Changes\u001b[22m\u001b[39m to `C:\\Users\\chadi\\.julia\\environments\\v1.10\\Manifest.toml`\n",
      "\u001b[32m\u001b[1m   Resolving\u001b[22m\u001b[39m package versions...\n",
      "\u001b[32m\u001b[1m    Updating\u001b[22m\u001b[39m `C:\\Users\\chadi\\.julia\\environments\\v1.10\\Project.toml`\n",
      "  \u001b[90m[38e38edf] \u001b[39m\u001b[92m+ GLM v1.9.0\u001b[39m\n",
      "\u001b[32m\u001b[1m    Updating\u001b[22m\u001b[39m `C:\\Users\\chadi\\.julia\\environments\\v1.10\\Manifest.toml`\n",
      "  \u001b[90m[38e38edf] \u001b[39m\u001b[92m+ GLM v1.9.0\u001b[39m\n",
      "  \u001b[90m[1277b4bf] \u001b[39m\u001b[92m+ ShiftedArrays v2.0.0\u001b[39m\n",
      "  \u001b[90m[3eaba693] \u001b[39m\u001b[92m+ StatsModels v0.7.3\u001b[39m\n",
      "\u001b[32m\u001b[1m   Resolving\u001b[22m\u001b[39m package versions...\n",
      "\u001b[32m\u001b[1m    Updating\u001b[22m\u001b[39m `C:\\Users\\chadi\\.julia\\environments\\v1.10\\Project.toml`\n",
      "  \u001b[90m[28b8d3ca] \u001b[39m\u001b[92m+ GR v0.73.3\u001b[39m\n",
      "\u001b[32m\u001b[1m  No Changes\u001b[22m\u001b[39m to `C:\\Users\\chadi\\.julia\\environments\\v1.10\\Manifest.toml`\n"
     ]
    }
   ],
   "source": [
    "import Pkg\n",
    "\n",
    "Pkg.add(\"Distributions\")\n",
    "Pkg.add(\"StatsBase\")\n",
    "Pkg.add(\"CSV\")\n",
    "Pkg.add(\"DataFrames\")\n",
    "Pkg.add(\"HypothesisTests\")\n",
    "Pkg.add(\"StatsPlots\")\n",
    "Pkg.add(\"GLM\")\n",
    "Pkg.add(\"GR\")"
   ]
  },
  {
   "cell_type": "code",
   "execution_count": 2,
   "metadata": {
    "scrolled": true
   },
   "outputs": [],
   "source": [
    "using Distributions    # Create random variables\n",
    "using StatsBase        # Basic statistical support\n",
    "using CSV              # Reading and writing CSV files\n",
    "using DataFrames       # Create a data structure\n",
    "using HypothesisTests  # Perform statistical tests\n",
    "using StatsPlots       # Statistical plotting\n",
    "using GLM              # General linear models"
   ]
  },
  {
   "cell_type": "markdown",
   "metadata": {},
   "source": [
    "We recommend using GR backend instead of PyPlot backend."
   ]
  },
  {
   "cell_type": "code",
   "execution_count": 4,
   "metadata": {},
   "outputs": [
    {
     "ename": "UndefVarError",
     "evalue": "UndefVarError: `gr` not defined",
     "output_type": "error",
     "traceback": [
      "UndefVarError: `gr` not defined\n",
      "\n",
      "Stacktrace:\n",
      " [1] top-level scope\n",
      "   @ c:\\Users\\chadi\\OneDrive - Handelshögskolan i Stockholm\\Corusera\\JuliaCourseNotebooks\\Julia_Week4\\Julia 1.0 for statistics.ipynb:1"
     ]
    }
   ],
   "source": [
    "gr()                   # Use GR Backend"
   ]
  },
  {
   "cell_type": "markdown",
   "metadata": {},
   "source": [
    "## Creating random variable"
   ]
  },
  {
   "cell_type": "markdown",
   "metadata": {},
   "source": [
    "We mentioned in the introduction that the creation of simulated data is a great way to start learning how to use Julia for statistics.  In the code below, we create five variables with random data point values."
   ]
  },
  {
   "cell_type": "code",
   "execution_count": 5,
   "metadata": {},
   "outputs": [],
   "source": [
    "age = rand(18:80, 100);  # Uniform distribution\n",
    "wcc = round.(rand(Distributions.Normal(12, 2), 100), digits = 1)  # Normal distribution & round to one decimal place\n",
    "crp = round.(Int, rand(Distributions.Chisq(4), 100)) .* 10  # Chi-squared distribution with broadcasting & alternate round()\n",
    "treatment = rand([\"A\", \"B\"], 100); # Uniformly weighted\n",
    "result = rand([\"Improved\", \"Static\", \"Worse\"], 100);  # Uniformly weighted"
   ]
  },
  {
   "cell_type": "markdown",
   "metadata": {},
   "source": [
    "## Descriptive statistics"
   ]
  },
  {
   "cell_type": "markdown",
   "metadata": {},
   "source": [
    "While there are common statistical function in Julia such as `mean()` and `std()`, it is more convenient to use the `describe()` function from the `StatsBase` package."
   ]
  },
  {
   "cell_type": "code",
   "execution_count": 6,
   "metadata": {},
   "outputs": [
    {
     "data": {
      "text/plain": [
       "51.74"
      ]
     },
     "metadata": {},
     "output_type": "display_data"
    }
   ],
   "source": [
    "# Mean of the age variable\n",
    "mean(age)"
   ]
  },
  {
   "cell_type": "code",
   "execution_count": 7,
   "metadata": {},
   "outputs": [
    {
     "data": {
      "text/plain": [
       "54.5"
      ]
     },
     "metadata": {},
     "output_type": "display_data"
    }
   ],
   "source": [
    "# Median of age variable\n",
    "median(age)"
   ]
  },
  {
   "cell_type": "code",
   "execution_count": 8,
   "metadata": {},
   "outputs": [
    {
     "data": {
      "text/plain": [
       "18.248354014607024"
      ]
     },
     "metadata": {},
     "output_type": "display_data"
    }
   ],
   "source": [
    "# Standard deviation of age\n",
    "std(age)"
   ]
  },
  {
   "cell_type": "code",
   "execution_count": 9,
   "metadata": {},
   "outputs": [
    {
     "data": {
      "text/plain": [
       "333.00242424242424"
      ]
     },
     "metadata": {},
     "output_type": "display_data"
    }
   ],
   "source": [
    "# Variance of age\n",
    "var(age)"
   ]
  },
  {
   "cell_type": "code",
   "execution_count": 10,
   "metadata": {},
   "outputs": [
    {
     "data": {
      "text/plain": [
       "11.634"
      ]
     },
     "metadata": {},
     "output_type": "display_data"
    }
   ],
   "source": [
    "# Mean of wcc\n",
    "mean(wcc)"
   ]
  },
  {
   "cell_type": "code",
   "execution_count": 11,
   "metadata": {},
   "outputs": [
    {
     "data": {
      "text/plain": [
       "2.023359542539051"
      ]
     },
     "metadata": {},
     "output_type": "display_data"
    }
   ],
   "source": [
    "# Standard deviation of wcc\n",
    "std(wcc)"
   ]
  },
  {
   "cell_type": "code",
   "execution_count": 12,
   "metadata": {},
   "outputs": [
    {
     "name": "stdout",
     "output_type": "stream",
     "text": [
      "Summary Stats:\n",
      "Length:         100\n",
      "Missing Count:  0\n",
      "Mean:           51.740000\n",
      "Std. Deviation: 18.248354\n",
      "Minimum:        18.000000\n",
      "1st Quartile:   35.750000\n",
      "Median:         54.500000\n",
      "3rd Quartile:   68.000000\n",
      "Maximum:        80.000000\n",
      "Type:           Int64\n"
     ]
    }
   ],
   "source": [
    "# Descriptive statistics of the age variable\n",
    "StatsBase.describe(age)"
   ]
  },
  {
   "cell_type": "code",
   "execution_count": 13,
   "metadata": {},
   "outputs": [
    {
     "data": {
      "text/plain": [
       "Summary Stats:\n",
       "Length:         100\n",
       "Missing Count:  0\n",
       "Mean:           11.634000\n",
       "Std. Deviation: 2.023360\n",
       "Minimum:        7.300000\n",
       "1st Quartile:   10.400000\n",
       "Median:         12.000000\n",
       "3rd Quartile:   13.125000\n",
       "Maximum:        16.100000\n"
      ]
     },
     "metadata": {},
     "output_type": "display_data"
    }
   ],
   "source": [
    "# The summarystats() function omits the length and type\n",
    "StatsBase.summarystats(wcc)"
   ]
  },
  {
   "cell_type": "markdown",
   "metadata": {},
   "source": [
    "## Creating a dataframe"
   ]
  },
  {
   "cell_type": "markdown",
   "metadata": {},
   "source": [
    "When creating simulated data, it is best to store it in a dataframe object for easier manipulation."
   ]
  },
  {
   "cell_type": "code",
   "execution_count": 14,
   "metadata": {},
   "outputs": [],
   "source": [
    "data = DataFrame(Age = age, WCC = wcc, CRP = crp, Treatment = treatment, Result = result);"
   ]
  },
  {
   "cell_type": "code",
   "execution_count": 15,
   "metadata": {},
   "outputs": [
    {
     "data": {
      "text/plain": [
       "(100, 5)"
      ]
     },
     "metadata": {},
     "output_type": "display_data"
    }
   ],
   "source": [
    "# Number of rows and columns\n",
    "size(data)"
   ]
  },
  {
   "cell_type": "code",
   "execution_count": 16,
   "metadata": {},
   "outputs": [
    {
     "data": {
      "text/html": [
       "<div><div style = \"float: left;\"><span>6×5 DataFrame</span></div><div style = \"clear: both;\"></div></div><div class = \"data-frame\" style = \"overflow-x: scroll;\"><table class = \"data-frame\" style = \"margin-bottom: 6px;\"><thead><tr class = \"header\"><th class = \"rowNumber\" style = \"font-weight: bold; text-align: right;\">Row</th><th style = \"text-align: left;\">Age</th><th style = \"text-align: left;\">WCC</th><th style = \"text-align: left;\">CRP</th><th style = \"text-align: left;\">Treatment</th><th style = \"text-align: left;\">Result</th></tr><tr class = \"subheader headerLastRow\"><th class = \"rowNumber\" style = \"font-weight: bold; text-align: right;\"></th><th title = \"Int64\" style = \"text-align: left;\">Int64</th><th title = \"Float64\" style = \"text-align: left;\">Float64</th><th title = \"Int64\" style = \"text-align: left;\">Int64</th><th title = \"String\" style = \"text-align: left;\">String</th><th title = \"String\" style = \"text-align: left;\">String</th></tr></thead><tbody><tr><td class = \"rowNumber\" style = \"font-weight: bold; text-align: right;\">1</td><td style = \"text-align: right;\">72</td><td style = \"text-align: right;\">11.2</td><td style = \"text-align: right;\">80</td><td style = \"text-align: left;\">B</td><td style = \"text-align: left;\">Improved</td></tr><tr><td class = \"rowNumber\" style = \"font-weight: bold; text-align: right;\">2</td><td style = \"text-align: right;\">35</td><td style = \"text-align: right;\">14.7</td><td style = \"text-align: right;\">20</td><td style = \"text-align: left;\">A</td><td style = \"text-align: left;\">Static</td></tr><tr><td class = \"rowNumber\" style = \"font-weight: bold; text-align: right;\">3</td><td style = \"text-align: right;\">68</td><td style = \"text-align: right;\">13.2</td><td style = \"text-align: right;\">100</td><td style = \"text-align: left;\">B</td><td style = \"text-align: left;\">Worse</td></tr><tr><td class = \"rowNumber\" style = \"font-weight: bold; text-align: right;\">4</td><td style = \"text-align: right;\">58</td><td style = \"text-align: right;\">11.2</td><td style = \"text-align: right;\">30</td><td style = \"text-align: left;\">A</td><td style = \"text-align: left;\">Worse</td></tr><tr><td class = \"rowNumber\" style = \"font-weight: bold; text-align: right;\">5</td><td style = \"text-align: right;\">76</td><td style = \"text-align: right;\">12.7</td><td style = \"text-align: right;\">30</td><td style = \"text-align: left;\">B</td><td style = \"text-align: left;\">Static</td></tr><tr><td class = \"rowNumber\" style = \"font-weight: bold; text-align: right;\">6</td><td style = \"text-align: right;\">59</td><td style = \"text-align: right;\">11.2</td><td style = \"text-align: right;\">20</td><td style = \"text-align: left;\">B</td><td style = \"text-align: left;\">Improved</td></tr></tbody></table></div>"
      ],
      "text/latex": [
       "\\begin{tabular}{r|ccccc}\n",
       "\t& Age & WCC & CRP & Treatment & Result\\\\\n",
       "\t\\hline\n",
       "\t& Int64 & Float64 & Int64 & String & String\\\\\n",
       "\t\\hline\n",
       "\t1 & 72 & 11.2 & 80 & B & Improved \\\\\n",
       "\t2 & 35 & 14.7 & 20 & A & Static \\\\\n",
       "\t3 & 68 & 13.2 & 100 & B & Worse \\\\\n",
       "\t4 & 58 & 11.2 & 30 & A & Worse \\\\\n",
       "\t5 & 76 & 12.7 & 30 & B & Static \\\\\n",
       "\t6 & 59 & 11.2 & 20 & B & Improved \\\\\n",
       "\\end{tabular}\n"
      ],
      "text/plain": [
       "\u001b[1m6×5 DataFrame\u001b[0m\n",
       "\u001b[1m Row \u001b[0m│\u001b[1m Age   \u001b[0m\u001b[1m WCC     \u001b[0m\u001b[1m CRP   \u001b[0m\u001b[1m Treatment \u001b[0m\u001b[1m Result   \u001b[0m\n",
       "     │\u001b[90m Int64 \u001b[0m\u001b[90m Float64 \u001b[0m\u001b[90m Int64 \u001b[0m\u001b[90m String    \u001b[0m\u001b[90m String   \u001b[0m\n",
       "─────┼────────────────────────────────────────────\n",
       "   1 │    72     11.2     80  B          Improved\n",
       "   2 │    35     14.7     20  A          Static\n",
       "   3 │    68     13.2    100  B          Worse\n",
       "   4 │    58     11.2     30  A          Worse\n",
       "   5 │    76     12.7     30  B          Static\n",
       "   6 │    59     11.2     20  B          Improved"
      ]
     },
     "metadata": {},
     "output_type": "display_data"
    }
   ],
   "source": [
    "# First six rows. Note that head() method has been deprecated.\n",
    "first(data, 6)"
   ]
  },
  {
   "cell_type": "markdown",
   "metadata": {},
   "source": [
    "We can create dataframe objects by selecting only subjects according to their data point values for a particular variable. \n",
    "\n",
    "**Note that dataframe slicing using `data[data[:Treatment] .== \"A\", :]` has been deprecated from the video lecture. Use below slicing method.**"
   ]
  },
  {
   "cell_type": "code",
   "execution_count": 17,
   "metadata": {
    "scrolled": true
   },
   "outputs": [],
   "source": [
    "dataA = data[data[:, :Treatment] .== \"A\", :]   # Only patient in treatment group A\n",
    "dataB = data[data[:, :Treatment] .== \"B\", :];  # Only patient in treatment group B"
   ]
  },
  {
   "cell_type": "code",
   "execution_count": 18,
   "metadata": {},
   "outputs": [
    {
     "data": {
      "text/html": [
       "<div><div style = \"float: left;\"><span>5×5 DataFrame</span></div><div style = \"clear: both;\"></div></div><div class = \"data-frame\" style = \"overflow-x: scroll;\"><table class = \"data-frame\" style = \"margin-bottom: 6px;\"><thead><tr class = \"header\"><th class = \"rowNumber\" style = \"font-weight: bold; text-align: right;\">Row</th><th style = \"text-align: left;\">Age</th><th style = \"text-align: left;\">WCC</th><th style = \"text-align: left;\">CRP</th><th style = \"text-align: left;\">Treatment</th><th style = \"text-align: left;\">Result</th></tr><tr class = \"subheader headerLastRow\"><th class = \"rowNumber\" style = \"font-weight: bold; text-align: right;\"></th><th title = \"Int64\" style = \"text-align: left;\">Int64</th><th title = \"Float64\" style = \"text-align: left;\">Float64</th><th title = \"Int64\" style = \"text-align: left;\">Int64</th><th title = \"String\" style = \"text-align: left;\">String</th><th title = \"String\" style = \"text-align: left;\">String</th></tr></thead><tbody><tr><td class = \"rowNumber\" style = \"font-weight: bold; text-align: right;\">1</td><td style = \"text-align: right;\">35</td><td style = \"text-align: right;\">14.7</td><td style = \"text-align: right;\">20</td><td style = \"text-align: left;\">A</td><td style = \"text-align: left;\">Static</td></tr><tr><td class = \"rowNumber\" style = \"font-weight: bold; text-align: right;\">2</td><td style = \"text-align: right;\">58</td><td style = \"text-align: right;\">11.2</td><td style = \"text-align: right;\">30</td><td style = \"text-align: left;\">A</td><td style = \"text-align: left;\">Worse</td></tr><tr><td class = \"rowNumber\" style = \"font-weight: bold; text-align: right;\">3</td><td style = \"text-align: right;\">19</td><td style = \"text-align: right;\">13.3</td><td style = \"text-align: right;\">10</td><td style = \"text-align: left;\">A</td><td style = \"text-align: left;\">Worse</td></tr><tr><td class = \"rowNumber\" style = \"font-weight: bold; text-align: right;\">4</td><td style = \"text-align: right;\">71</td><td style = \"text-align: right;\">9.9</td><td style = \"text-align: right;\">110</td><td style = \"text-align: left;\">A</td><td style = \"text-align: left;\">Improved</td></tr><tr><td class = \"rowNumber\" style = \"font-weight: bold; text-align: right;\">5</td><td style = \"text-align: right;\">45</td><td style = \"text-align: right;\">13.5</td><td style = \"text-align: right;\">110</td><td style = \"text-align: left;\">A</td><td style = \"text-align: left;\">Worse</td></tr></tbody></table></div>"
      ],
      "text/latex": [
       "\\begin{tabular}{r|ccccc}\n",
       "\t& Age & WCC & CRP & Treatment & Result\\\\\n",
       "\t\\hline\n",
       "\t& Int64 & Float64 & Int64 & String & String\\\\\n",
       "\t\\hline\n",
       "\t1 & 35 & 14.7 & 20 & A & Static \\\\\n",
       "\t2 & 58 & 11.2 & 30 & A & Worse \\\\\n",
       "\t3 & 19 & 13.3 & 10 & A & Worse \\\\\n",
       "\t4 & 71 & 9.9 & 110 & A & Improved \\\\\n",
       "\t5 & 45 & 13.5 & 110 & A & Worse \\\\\n",
       "\\end{tabular}\n"
      ],
      "text/plain": [
       "\u001b[1m5×5 DataFrame\u001b[0m\n",
       "\u001b[1m Row \u001b[0m│\u001b[1m Age   \u001b[0m\u001b[1m WCC     \u001b[0m\u001b[1m CRP   \u001b[0m\u001b[1m Treatment \u001b[0m\u001b[1m Result   \u001b[0m\n",
       "     │\u001b[90m Int64 \u001b[0m\u001b[90m Float64 \u001b[0m\u001b[90m Int64 \u001b[0m\u001b[90m String    \u001b[0m\u001b[90m String   \u001b[0m\n",
       "─────┼────────────────────────────────────────────\n",
       "   1 │    35     14.7     20  A          Static\n",
       "   2 │    58     11.2     30  A          Worse\n",
       "   3 │    19     13.3     10  A          Worse\n",
       "   4 │    71      9.9    110  A          Improved\n",
       "   5 │    45     13.5    110  A          Worse"
      ]
     },
     "metadata": {},
     "output_type": "display_data"
    }
   ],
   "source": [
    "# Show first 5 rows from dataA\n",
    "first(dataA, 5)"
   ]
  },
  {
   "cell_type": "code",
   "execution_count": 19,
   "metadata": {},
   "outputs": [
    {
     "data": {
      "text/html": [
       "<div><div style = \"float: left;\"><span>5×5 DataFrame</span></div><div style = \"clear: both;\"></div></div><div class = \"data-frame\" style = \"overflow-x: scroll;\"><table class = \"data-frame\" style = \"margin-bottom: 6px;\"><thead><tr class = \"header\"><th class = \"rowNumber\" style = \"font-weight: bold; text-align: right;\">Row</th><th style = \"text-align: left;\">Age</th><th style = \"text-align: left;\">WCC</th><th style = \"text-align: left;\">CRP</th><th style = \"text-align: left;\">Treatment</th><th style = \"text-align: left;\">Result</th></tr><tr class = \"subheader headerLastRow\"><th class = \"rowNumber\" style = \"font-weight: bold; text-align: right;\"></th><th title = \"Int64\" style = \"text-align: left;\">Int64</th><th title = \"Float64\" style = \"text-align: left;\">Float64</th><th title = \"Int64\" style = \"text-align: left;\">Int64</th><th title = \"String\" style = \"text-align: left;\">String</th><th title = \"String\" style = \"text-align: left;\">String</th></tr></thead><tbody><tr><td class = \"rowNumber\" style = \"font-weight: bold; text-align: right;\">1</td><td style = \"text-align: right;\">40</td><td style = \"text-align: right;\">9.7</td><td style = \"text-align: right;\">80</td><td style = \"text-align: left;\">B</td><td style = \"text-align: left;\">Worse</td></tr><tr><td class = \"rowNumber\" style = \"font-weight: bold; text-align: right;\">2</td><td style = \"text-align: right;\">74</td><td style = \"text-align: right;\">11.0</td><td style = \"text-align: right;\">10</td><td style = \"text-align: left;\">B</td><td style = \"text-align: left;\">Worse</td></tr><tr><td class = \"rowNumber\" style = \"font-weight: bold; text-align: right;\">3</td><td style = \"text-align: right;\">33</td><td style = \"text-align: right;\">10.7</td><td style = \"text-align: right;\">70</td><td style = \"text-align: left;\">B</td><td style = \"text-align: left;\">Improved</td></tr><tr><td class = \"rowNumber\" style = \"font-weight: bold; text-align: right;\">4</td><td style = \"text-align: right;\">39</td><td style = \"text-align: right;\">12.0</td><td style = \"text-align: right;\">70</td><td style = \"text-align: left;\">B</td><td style = \"text-align: left;\">Static</td></tr><tr><td class = \"rowNumber\" style = \"font-weight: bold; text-align: right;\">5</td><td style = \"text-align: right;\">39</td><td style = \"text-align: right;\">8.0</td><td style = \"text-align: right;\">30</td><td style = \"text-align: left;\">B</td><td style = \"text-align: left;\">Worse</td></tr></tbody></table></div>"
      ],
      "text/latex": [
       "\\begin{tabular}{r|ccccc}\n",
       "\t& Age & WCC & CRP & Treatment & Result\\\\\n",
       "\t\\hline\n",
       "\t& Int64 & Float64 & Int64 & String & String\\\\\n",
       "\t\\hline\n",
       "\t1 & 40 & 9.7 & 80 & B & Worse \\\\\n",
       "\t2 & 74 & 11.0 & 10 & B & Worse \\\\\n",
       "\t3 & 33 & 10.7 & 70 & B & Improved \\\\\n",
       "\t4 & 39 & 12.0 & 70 & B & Static \\\\\n",
       "\t5 & 39 & 8.0 & 30 & B & Worse \\\\\n",
       "\\end{tabular}\n"
      ],
      "text/plain": [
       "\u001b[1m5×5 DataFrame\u001b[0m\n",
       "\u001b[1m Row \u001b[0m│\u001b[1m Age   \u001b[0m\u001b[1m WCC     \u001b[0m\u001b[1m CRP   \u001b[0m\u001b[1m Treatment \u001b[0m\u001b[1m Result   \u001b[0m\n",
       "     │\u001b[90m Int64 \u001b[0m\u001b[90m Float64 \u001b[0m\u001b[90m Int64 \u001b[0m\u001b[90m String    \u001b[0m\u001b[90m String   \u001b[0m\n",
       "─────┼────────────────────────────────────────────\n",
       "   1 │    40      9.7     80  B          Worse\n",
       "   2 │    74     11.0     10  B          Worse\n",
       "   3 │    33     10.7     70  B          Improved\n",
       "   4 │    39     12.0     70  B          Static\n",
       "   5 │    39      8.0     30  B          Worse"
      ]
     },
     "metadata": {},
     "output_type": "display_data"
    }
   ],
   "source": [
    "# Show last 5 rows from dataB\n",
    "last(dataB, 5)"
   ]
  },
  {
   "cell_type": "markdown",
   "metadata": {},
   "source": [
    "## Descriptive statistics using the dataframe object"
   ]
  },
  {
   "cell_type": "markdown",
   "metadata": {},
   "source": [
    "The `describe()` function will attempt to provide descriptive statistics of the a data object."
   ]
  },
  {
   "cell_type": "code",
   "execution_count": 20,
   "metadata": {},
   "outputs": [
    {
     "data": {
      "text/html": [
       "<div><div style = \"float: left;\"><span>5×7 DataFrame</span></div><div style = \"clear: both;\"></div></div><div class = \"data-frame\" style = \"overflow-x: scroll;\"><table class = \"data-frame\" style = \"margin-bottom: 6px;\"><thead><tr class = \"header\"><th class = \"rowNumber\" style = \"font-weight: bold; text-align: right;\">Row</th><th style = \"text-align: left;\">variable</th><th style = \"text-align: left;\">mean</th><th style = \"text-align: left;\">min</th><th style = \"text-align: left;\">median</th><th style = \"text-align: left;\">max</th><th style = \"text-align: left;\">nmissing</th><th style = \"text-align: left;\">eltype</th></tr><tr class = \"subheader headerLastRow\"><th class = \"rowNumber\" style = \"font-weight: bold; text-align: right;\"></th><th title = \"Symbol\" style = \"text-align: left;\">Symbol</th><th title = \"Union{Nothing, Float64}\" style = \"text-align: left;\">Union…</th><th title = \"Any\" style = \"text-align: left;\">Any</th><th title = \"Union{Nothing, Float64}\" style = \"text-align: left;\">Union…</th><th title = \"Any\" style = \"text-align: left;\">Any</th><th title = \"Int64\" style = \"text-align: left;\">Int64</th><th title = \"DataType\" style = \"text-align: left;\">DataType</th></tr></thead><tbody><tr><td class = \"rowNumber\" style = \"font-weight: bold; text-align: right;\">1</td><td style = \"text-align: left;\">Age</td><td style = \"text-align: left;\">51.74</td><td style = \"text-align: left;\">18</td><td style = \"text-align: left;\">54.5</td><td style = \"text-align: left;\">80</td><td style = \"text-align: right;\">0</td><td style = \"text-align: left;\">Int64</td></tr><tr><td class = \"rowNumber\" style = \"font-weight: bold; text-align: right;\">2</td><td style = \"text-align: left;\">WCC</td><td style = \"text-align: left;\">11.634</td><td style = \"text-align: left;\">7.3</td><td style = \"text-align: left;\">12.0</td><td style = \"text-align: left;\">16.1</td><td style = \"text-align: right;\">0</td><td style = \"text-align: left;\">Float64</td></tr><tr><td class = \"rowNumber\" style = \"font-weight: bold; text-align: right;\">3</td><td style = \"text-align: left;\">CRP</td><td style = \"text-align: left;\">39.7</td><td style = \"text-align: left;\">0</td><td style = \"text-align: left;\">30.0</td><td style = \"text-align: left;\">110</td><td style = \"text-align: right;\">0</td><td style = \"text-align: left;\">Int64</td></tr><tr><td class = \"rowNumber\" style = \"font-weight: bold; text-align: right;\">4</td><td style = \"text-align: left;\">Treatment</td><td style = \"font-style: italic; text-align: left;\"></td><td style = \"text-align: left;\">A</td><td style = \"font-style: italic; text-align: left;\"></td><td style = \"text-align: left;\">B</td><td style = \"text-align: right;\">0</td><td style = \"text-align: left;\">String</td></tr><tr><td class = \"rowNumber\" style = \"font-weight: bold; text-align: right;\">5</td><td style = \"text-align: left;\">Result</td><td style = \"font-style: italic; text-align: left;\"></td><td style = \"text-align: left;\">Improved</td><td style = \"font-style: italic; text-align: left;\"></td><td style = \"text-align: left;\">Worse</td><td style = \"text-align: right;\">0</td><td style = \"text-align: left;\">String</td></tr></tbody></table></div>"
      ],
      "text/latex": [
       "\\begin{tabular}{r|ccccccc}\n",
       "\t& variable & mean & min & median & max & nmissing & eltype\\\\\n",
       "\t\\hline\n",
       "\t& Symbol & Union… & Any & Union… & Any & Int64 & DataType\\\\\n",
       "\t\\hline\n",
       "\t1 & Age & 51.74 & 18 & 54.5 & 80 & 0 & Int64 \\\\\n",
       "\t2 & WCC & 11.634 & 7.3 & 12.0 & 16.1 & 0 & Float64 \\\\\n",
       "\t3 & CRP & 39.7 & 0 & 30.0 & 110 & 0 & Int64 \\\\\n",
       "\t4 & Treatment &  & A &  & B & 0 & String \\\\\n",
       "\t5 & Result &  & Improved &  & Worse & 0 & String \\\\\n",
       "\\end{tabular}\n"
      ],
      "text/plain": [
       "\u001b[1m5×7 DataFrame\u001b[0m\n",
       "\u001b[1m Row \u001b[0m│\u001b[1m variable  \u001b[0m\u001b[1m mean   \u001b[0m\u001b[1m min      \u001b[0m\u001b[1m median \u001b[0m\u001b[1m max   \u001b[0m\u001b[1m nmissing \u001b[0m\u001b[1m eltype   \u001b[0m\n",
       "     │\u001b[90m Symbol    \u001b[0m\u001b[90m Union… \u001b[0m\u001b[90m Any      \u001b[0m\u001b[90m Union… \u001b[0m\u001b[90m Any   \u001b[0m\u001b[90m Int64    \u001b[0m\u001b[90m DataType \u001b[0m\n",
       "─────┼────────────────────────────────────────────────────────────────\n",
       "   1 │ Age        51.74   18        54.5    80            0  Int64\n",
       "   2 │ WCC        11.634  7.3       12.0    16.1          0  Float64\n",
       "   3 │ CRP        39.7    0         30.0    110           0  Int64\n",
       "   4 │ Treatment \u001b[90m        \u001b[0m A        \u001b[90m        \u001b[0m B             0  String\n",
       "   5 │ Result    \u001b[90m        \u001b[0m Improved \u001b[90m        \u001b[0m Worse         0  String"
      ]
     },
     "metadata": {},
     "output_type": "display_data"
    }
   ],
   "source": [
    "describe(data)"
   ]
  },
  {
   "cell_type": "markdown",
   "metadata": {},
   "source": [
    "We can count the number of the elements in the sample space of a categorical variable using the `combine()` function. \n",
    "\n",
    "**Note that previously used `by()` method has been deprecated**. Use `combine()` instead with the grouped dataframes."
   ]
  },
  {
   "cell_type": "code",
   "execution_count": 21,
   "metadata": {},
   "outputs": [],
   "source": [
    "# Define grouped data\n",
    "grouped_df = groupby(data, :Treatment);"
   ]
  },
  {
   "cell_type": "code",
   "execution_count": 22,
   "metadata": {
    "scrolled": false
   },
   "outputs": [
    {
     "data": {
      "text/html": [
       "<div><div style = \"float: left;\"><span>2×2 DataFrame</span></div><div style = \"clear: both;\"></div></div><div class = \"data-frame\" style = \"overflow-x: scroll;\"><table class = \"data-frame\" style = \"margin-bottom: 6px;\"><thead><tr class = \"header\"><th class = \"rowNumber\" style = \"font-weight: bold; text-align: right;\">Row</th><th style = \"text-align: left;\">Treatment</th><th style = \"text-align: left;\">N</th></tr><tr class = \"subheader headerLastRow\"><th class = \"rowNumber\" style = \"font-weight: bold; text-align: right;\"></th><th title = \"String\" style = \"text-align: left;\">String</th><th title = \"Int64\" style = \"text-align: left;\">Int64</th></tr></thead><tbody><tr><td class = \"rowNumber\" style = \"font-weight: bold; text-align: right;\">1</td><td style = \"text-align: left;\">B</td><td style = \"text-align: right;\">48</td></tr><tr><td class = \"rowNumber\" style = \"font-weight: bold; text-align: right;\">2</td><td style = \"text-align: left;\">A</td><td style = \"text-align: right;\">52</td></tr></tbody></table></div>"
      ],
      "text/latex": [
       "\\begin{tabular}{r|cc}\n",
       "\t& Treatment & N\\\\\n",
       "\t\\hline\n",
       "\t& String & Int64\\\\\n",
       "\t\\hline\n",
       "\t1 & B & 48 \\\\\n",
       "\t2 & A & 52 \\\\\n",
       "\\end{tabular}\n"
      ],
      "text/plain": [
       "\u001b[1m2×2 DataFrame\u001b[0m\n",
       "\u001b[1m Row \u001b[0m│\u001b[1m Treatment \u001b[0m\u001b[1m N     \u001b[0m\n",
       "     │\u001b[90m String    \u001b[0m\u001b[90m Int64 \u001b[0m\n",
       "─────┼──────────────────\n",
       "   1 │ B             48\n",
       "   2 │ A             52"
      ]
     },
     "metadata": {},
     "output_type": "display_data"
    }
   ],
   "source": [
    "# Counting the number of patients in groups A and B\n",
    "combine(grouped_df, nrow => :N)"
   ]
  },
  {
   "cell_type": "code",
   "execution_count": 23,
   "metadata": {
    "scrolled": false
   },
   "outputs": [
    {
     "data": {
      "text/html": [
       "<div><div style = \"float: left;\"><span>2×2 DataFrame</span></div><div style = \"clear: both;\"></div></div><div class = \"data-frame\" style = \"overflow-x: scroll;\"><table class = \"data-frame\" style = \"margin-bottom: 6px;\"><thead><tr class = \"header\"><th class = \"rowNumber\" style = \"font-weight: bold; text-align: right;\">Row</th><th style = \"text-align: left;\">Treatment</th><th style = \"text-align: left;\">x1</th></tr><tr class = \"subheader headerLastRow\"><th class = \"rowNumber\" style = \"font-weight: bold; text-align: right;\"></th><th title = \"String\" style = \"text-align: left;\">String</th><th title = \"Tuple{Int64, Int64}\" style = \"text-align: left;\">Tuple…</th></tr></thead><tbody><tr><td class = \"rowNumber\" style = \"font-weight: bold; text-align: right;\">1</td><td style = \"text-align: left;\">B</td><td style = \"text-align: left;\">(48, 5)</td></tr><tr><td class = \"rowNumber\" style = \"font-weight: bold; text-align: right;\">2</td><td style = \"text-align: left;\">A</td><td style = \"text-align: left;\">(52, 5)</td></tr></tbody></table></div>"
      ],
      "text/latex": [
       "\\begin{tabular}{r|cc}\n",
       "\t& Treatment & x1\\\\\n",
       "\t\\hline\n",
       "\t& String & Tuple…\\\\\n",
       "\t\\hline\n",
       "\t1 & B & (48, 5) \\\\\n",
       "\t2 & A & (52, 5) \\\\\n",
       "\\end{tabular}\n"
      ],
      "text/plain": [
       "\u001b[1m2×2 DataFrame\u001b[0m\n",
       "\u001b[1m Row \u001b[0m│\u001b[1m Treatment \u001b[0m\u001b[1m x1      \u001b[0m\n",
       "     │\u001b[90m String    \u001b[0m\u001b[90m Tuple…  \u001b[0m\n",
       "─────┼────────────────────\n",
       "   1 │ B          (48, 5)\n",
       "   2 │ A          (52, 5)"
      ]
     },
     "metadata": {},
     "output_type": "display_data"
    }
   ],
   "source": [
    "# The size argument will give the same output other than adding the number of variables i.e. 5 columns\n",
    "# size() returns tuple containing row and column numbers\n",
    "combine(size, grouped_df)"
   ]
  },
  {
   "cell_type": "markdown",
   "metadata": {},
   "source": [
    "The usual descriptive statistics of a numerical variable can be calculated after separation by a categorical variable."
   ]
  },
  {
   "cell_type": "code",
   "execution_count": 24,
   "metadata": {
    "scrolled": false
   },
   "outputs": [
    {
     "data": {
      "text/html": [
       "<div><div style = \"float: left;\"><span>2×2 DataFrame</span></div><div style = \"clear: both;\"></div></div><div class = \"data-frame\" style = \"overflow-x: scroll;\"><table class = \"data-frame\" style = \"margin-bottom: 6px;\"><thead><tr class = \"header\"><th class = \"rowNumber\" style = \"font-weight: bold; text-align: right;\">Row</th><th style = \"text-align: left;\">Treatment</th><th style = \"text-align: left;\">Age_mean</th></tr><tr class = \"subheader headerLastRow\"><th class = \"rowNumber\" style = \"font-weight: bold; text-align: right;\"></th><th title = \"String\" style = \"text-align: left;\">String</th><th title = \"Float64\" style = \"text-align: left;\">Float64</th></tr></thead><tbody><tr><td class = \"rowNumber\" style = \"font-weight: bold; text-align: right;\">1</td><td style = \"text-align: left;\">B</td><td style = \"text-align: right;\">52.7083</td></tr><tr><td class = \"rowNumber\" style = \"font-weight: bold; text-align: right;\">2</td><td style = \"text-align: left;\">A</td><td style = \"text-align: right;\">50.8462</td></tr></tbody></table></div>"
      ],
      "text/latex": [
       "\\begin{tabular}{r|cc}\n",
       "\t& Treatment & Age\\_mean\\\\\n",
       "\t\\hline\n",
       "\t& String & Float64\\\\\n",
       "\t\\hline\n",
       "\t1 & B & 52.7083 \\\\\n",
       "\t2 & A & 50.8462 \\\\\n",
       "\\end{tabular}\n"
      ],
      "text/plain": [
       "\u001b[1m2×2 DataFrame\u001b[0m\n",
       "\u001b[1m Row \u001b[0m│\u001b[1m Treatment \u001b[0m\u001b[1m Age_mean \u001b[0m\n",
       "     │\u001b[90m String    \u001b[0m\u001b[90m Float64  \u001b[0m\n",
       "─────┼─────────────────────\n",
       "   1 │ B           52.7083\n",
       "   2 │ A           50.8462"
      ]
     },
     "metadata": {},
     "output_type": "display_data"
    }
   ],
   "source": [
    "# Mean age of groups A and B patients\n",
    "combine(grouped_df, :Age => mean)"
   ]
  },
  {
   "cell_type": "code",
   "execution_count": 25,
   "metadata": {
    "scrolled": false
   },
   "outputs": [
    {
     "data": {
      "text/html": [
       "<div><div style = \"float: left;\"><span>2×2 DataFrame</span></div><div style = \"clear: both;\"></div></div><div class = \"data-frame\" style = \"overflow-x: scroll;\"><table class = \"data-frame\" style = \"margin-bottom: 6px;\"><thead><tr class = \"header\"><th class = \"rowNumber\" style = \"font-weight: bold; text-align: right;\">Row</th><th style = \"text-align: left;\">Treatment</th><th style = \"text-align: left;\">Age_std</th></tr><tr class = \"subheader headerLastRow\"><th class = \"rowNumber\" style = \"font-weight: bold; text-align: right;\"></th><th title = \"String\" style = \"text-align: left;\">String</th><th title = \"Float64\" style = \"text-align: left;\">Float64</th></tr></thead><tbody><tr><td class = \"rowNumber\" style = \"font-weight: bold; text-align: right;\">1</td><td style = \"text-align: left;\">B</td><td style = \"text-align: right;\">18.1377</td></tr><tr><td class = \"rowNumber\" style = \"font-weight: bold; text-align: right;\">2</td><td style = \"text-align: left;\">A</td><td style = \"text-align: right;\">18.4809</td></tr></tbody></table></div>"
      ],
      "text/latex": [
       "\\begin{tabular}{r|cc}\n",
       "\t& Treatment & Age\\_std\\\\\n",
       "\t\\hline\n",
       "\t& String & Float64\\\\\n",
       "\t\\hline\n",
       "\t1 & B & 18.1377 \\\\\n",
       "\t2 & A & 18.4809 \\\\\n",
       "\\end{tabular}\n"
      ],
      "text/plain": [
       "\u001b[1m2×2 DataFrame\u001b[0m\n",
       "\u001b[1m Row \u001b[0m│\u001b[1m Treatment \u001b[0m\u001b[1m Age_std \u001b[0m\n",
       "     │\u001b[90m String    \u001b[0m\u001b[90m Float64 \u001b[0m\n",
       "─────┼────────────────────\n",
       "   1 │ B          18.1377\n",
       "   2 │ A          18.4809"
      ]
     },
     "metadata": {},
     "output_type": "display_data"
    }
   ],
   "source": [
    "# Standard deviation of groups A and B patients\n",
    "combine(grouped_df, :Age => std)"
   ]
  },
  {
   "cell_type": "markdown",
   "metadata": {},
   "source": [
    "By using the `summarystats()` function we can get all the descriptive statistics."
   ]
  },
  {
   "cell_type": "code",
   "execution_count": 26,
   "metadata": {},
   "outputs": [
    {
     "name": "stdout",
     "output_type": "stream",
     "text": [
      "Summary Stats:\n",
      "Length:         48\n",
      "Missing Count:  0\n",
      "Mean:           52.708333\n",
      "Std. Deviation: 18.137722\n",
      "Minimum:        21.000000\n",
      "1st Quartile:   35.500000\n",
      "Median:         56.000000\n",
      "3rd Quartile:   68.500000\n",
      "Maximum:        80.000000\n",
      "Type:           Int64\n",
      "Summary Stats:\n",
      "Length:         52\n",
      "Missing Count:  0\n",
      "Mean:           50.846154\n",
      "Std. Deviation: 18.480922\n",
      "Minimum:        18.000000\n",
      "1st Quartile:   35.750000\n",
      "Median:         54.000000\n",
      "3rd Quartile:   67.000000\n",
      "Maximum:        80.000000\n",
      "Type:           Int64\n"
     ]
    },
    {
     "data": {
      "text/html": [
       "<div><div style = \"float: left;\"><span>2×2 DataFrame</span></div><div style = \"clear: both;\"></div></div><div class = \"data-frame\" style = \"overflow-x: scroll;\"><table class = \"data-frame\" style = \"margin-bottom: 6px;\"><thead><tr class = \"header\"><th class = \"rowNumber\" style = \"font-weight: bold; text-align: right;\">Row</th><th style = \"text-align: left;\">Treatment</th><th style = \"text-align: left;\">Age_describe</th></tr><tr class = \"subheader headerLastRow\"><th class = \"rowNumber\" style = \"font-weight: bold; text-align: right;\"></th><th title = \"String\" style = \"text-align: left;\">String</th><th title = \"Nothing\" style = \"text-align: left;\">Nothing</th></tr></thead><tbody><tr><td class = \"rowNumber\" style = \"font-weight: bold; text-align: right;\">1</td><td style = \"text-align: left;\">B</td><td style = \"font-style: italic; text-align: left;\"></td></tr><tr><td class = \"rowNumber\" style = \"font-weight: bold; text-align: right;\">2</td><td style = \"text-align: left;\">A</td><td style = \"font-style: italic; text-align: left;\"></td></tr></tbody></table></div>"
      ],
      "text/latex": [
       "\\begin{tabular}{r|cc}\n",
       "\t& Treatment & Age\\_describe\\\\\n",
       "\t\\hline\n",
       "\t& String & Nothing\\\\\n",
       "\t\\hline\n",
       "\t1 & B &  \\\\\n",
       "\t2 & A &  \\\\\n",
       "\\end{tabular}\n"
      ],
      "text/plain": [
       "\u001b[1m2×2 DataFrame\u001b[0m\n",
       "\u001b[1m Row \u001b[0m│\u001b[1m Treatment \u001b[0m\u001b[1m Age_describe \u001b[0m\n",
       "     │\u001b[90m String    \u001b[0m\u001b[90m Nothing      \u001b[0m\n",
       "─────┼─────────────────────────\n",
       "   1 │ B         \u001b[90m              \u001b[0m\n",
       "   2 │ A         \u001b[90m              \u001b[0m"
      ]
     },
     "metadata": {},
     "output_type": "display_data"
    }
   ],
   "source": [
    "combine(grouped_df, :Age => describe)"
   ]
  },
  {
   "cell_type": "markdown",
   "metadata": {},
   "source": [
    "## Visualizing the data"
   ]
  },
  {
   "cell_type": "markdown",
   "metadata": {},
   "source": [
    "The Plots package works well with the DataFrames package by allowing macro function from the latter.  In the code cell below, we look at the age distribution of the two treatment groups.\n",
    "\n",
    "Note that `@df` macro (from StatsPlots) is used to pass the columns to the function."
   ]
  },
  {
   "cell_type": "code",
   "execution_count": 27,
   "metadata": {},
   "outputs": [
    {
     "ename": "LoadError",
     "evalue": "LoadError: UndefVarError: `@df` not defined\nin expression starting at c:\\Users\\chadi\\OneDrive - Handelshögskolan i Stockholm\\Corusera\\JuliaCourseNotebooks\\Julia_Week4\\Julia 1.0 for statistics.ipynb:1",
     "output_type": "error",
     "traceback": [
      "LoadError: UndefVarError: `@df` not defined\n",
      "in expression starting at c:\\Users\\chadi\\OneDrive - Handelshögskolan i Stockholm\\Corusera\\JuliaCourseNotebooks\\Julia_Week4\\Julia 1.0 for statistics.ipynb:1\n"
     ]
    }
   ],
   "source": [
    "@df data density(:Age, group = :Treatment, title = \"Distribution of ages by treatment group\",\n",
    "    xlab = \"Age\", ylab = \"Distribution\",\n",
    "    legend = :topright)"
   ]
  },
  {
   "cell_type": "markdown",
   "metadata": {},
   "source": [
    "We can do the same for the results groups."
   ]
  },
  {
   "cell_type": "code",
   "execution_count": 28,
   "metadata": {},
   "outputs": [
    {
     "ename": "LoadError",
     "evalue": "LoadError: UndefVarError: `@df` not defined\nin expression starting at c:\\Users\\chadi\\OneDrive - Handelshögskolan i Stockholm\\Corusera\\JuliaCourseNotebooks\\Julia_Week4\\Julia 1.0 for statistics.ipynb:1",
     "output_type": "error",
     "traceback": [
      "LoadError: UndefVarError: `@df` not defined\n",
      "in expression starting at c:\\Users\\chadi\\OneDrive - Handelshögskolan i Stockholm\\Corusera\\JuliaCourseNotebooks\\Julia_Week4\\Julia 1.0 for statistics.ipynb:1\n"
     ]
    }
   ],
   "source": [
    "@df data density(:Age, group = :Result, title = \"Distribution of ages by result group\",\n",
    "    xlab = \"Age\", ylab = \"Distribution\",\n",
    "    legend = :topright)"
   ]
  },
  {
   "cell_type": "markdown",
   "metadata": {},
   "source": [
    "We can even discriminate between all of the groups."
   ]
  },
  {
   "cell_type": "code",
   "execution_count": 29,
   "metadata": {},
   "outputs": [
    {
     "ename": "LoadError",
     "evalue": "LoadError: UndefVarError: `@df` not defined\nin expression starting at c:\\Users\\chadi\\OneDrive - Handelshögskolan i Stockholm\\Corusera\\JuliaCourseNotebooks\\Julia_Week4\\Julia 1.0 for statistics.ipynb:1",
     "output_type": "error",
     "traceback": [
      "LoadError: UndefVarError: `@df` not defined\n",
      "in expression starting at c:\\Users\\chadi\\OneDrive - Handelshögskolan i Stockholm\\Corusera\\JuliaCourseNotebooks\\Julia_Week4\\Julia 1.0 for statistics.ipynb:1\n"
     ]
    }
   ],
   "source": [
    "@df data density(:Age, group = (:Treatment, :Result), title = \"Distribution of ages by treatment and result groups\",\n",
    "    xlab = \"Age\", ylab = \"Distribution\",\n",
    "    legend = :topright)"
   ]
  },
  {
   "cell_type": "markdown",
   "metadata": {},
   "source": [
    "Let's create a box-and-whisker plot of the white cell count per treatment group and then per result group."
   ]
  },
  {
   "cell_type": "code",
   "execution_count": 30,
   "metadata": {},
   "outputs": [
    {
     "ename": "LoadError",
     "evalue": "LoadError: UndefVarError: `@df` not defined\nin expression starting at c:\\Users\\chadi\\OneDrive - Handelshögskolan i Stockholm\\Corusera\\JuliaCourseNotebooks\\Julia_Week4\\Julia 1.0 for statistics.ipynb:1",
     "output_type": "error",
     "traceback": [
      "LoadError: UndefVarError: `@df` not defined\n",
      "in expression starting at c:\\Users\\chadi\\OneDrive - Handelshögskolan i Stockholm\\Corusera\\JuliaCourseNotebooks\\Julia_Week4\\Julia 1.0 for statistics.ipynb:1\n"
     ]
    }
   ],
   "source": [
    "@df data boxplot(:Treatment, :WCC, lab = \"WCC\", title = \"White cell count by treatment group\",\n",
    "    xlab = \"Groups\", ylab = \"WCC\")"
   ]
  },
  {
   "cell_type": "code",
   "execution_count": 31,
   "metadata": {},
   "outputs": [
    {
     "ename": "LoadError",
     "evalue": "LoadError: UndefVarError: `@df` not defined\nin expression starting at c:\\Users\\chadi\\OneDrive - Handelshögskolan i Stockholm\\Corusera\\JuliaCourseNotebooks\\Julia_Week4\\Julia 1.0 for statistics.ipynb:1",
     "output_type": "error",
     "traceback": [
      "LoadError: UndefVarError: `@df` not defined\n",
      "in expression starting at c:\\Users\\chadi\\OneDrive - Handelshögskolan i Stockholm\\Corusera\\JuliaCourseNotebooks\\Julia_Week4\\Julia 1.0 for statistics.ipynb:1\n"
     ]
    }
   ],
   "source": [
    "@df data boxplot(:Result, :WCC, lab = \"WCC\", title = \"White cell count by result group\",\n",
    "    xlab = \"Groups\", ylab = \"WCC\")"
   ]
  },
  {
   "cell_type": "markdown",
   "metadata": {},
   "source": [
    "Finally, we will check on the correlation between the numerical variables using a correlation plot and a corner plot."
   ]
  },
  {
   "cell_type": "code",
   "execution_count": 32,
   "metadata": {
    "scrolled": true
   },
   "outputs": [
    {
     "ename": "LoadError",
     "evalue": "LoadError: UndefVarError: `@df` not defined\nin expression starting at c:\\Users\\chadi\\OneDrive - Handelshögskolan i Stockholm\\Corusera\\JuliaCourseNotebooks\\Julia_Week4\\Julia 1.0 for statistics.ipynb:1",
     "output_type": "error",
     "traceback": [
      "LoadError: UndefVarError: `@df` not defined\n",
      "in expression starting at c:\\Users\\chadi\\OneDrive - Handelshögskolan i Stockholm\\Corusera\\JuliaCourseNotebooks\\Julia_Week4\\Julia 1.0 for statistics.ipynb:1\n"
     ]
    }
   ],
   "source": [
    "@df data corrplot([:Age :WCC :CRP], grid = false)  # No comma's between arguments in list"
   ]
  },
  {
   "cell_type": "code",
   "execution_count": 33,
   "metadata": {
    "scrolled": true
   },
   "outputs": [
    {
     "ename": "LoadError",
     "evalue": "LoadError: UndefVarError: `@df` not defined\nin expression starting at c:\\Users\\chadi\\OneDrive - Handelshögskolan i Stockholm\\Corusera\\JuliaCourseNotebooks\\Julia_Week4\\Julia 1.0 for statistics.ipynb:1",
     "output_type": "error",
     "traceback": [
      "LoadError: UndefVarError: `@df` not defined\n",
      "in expression starting at c:\\Users\\chadi\\OneDrive - Handelshögskolan i Stockholm\\Corusera\\JuliaCourseNotebooks\\Julia_Week4\\Julia 1.0 for statistics.ipynb:1\n"
     ]
    }
   ],
   "source": [
    "@df data cornerplot([:Age :WCC :CRP], grid = false, compact = true)"
   ]
  },
  {
   "cell_type": "markdown",
   "metadata": {},
   "source": [
    "## Inferential statistics"
   ]
  },
  {
   "cell_type": "markdown",
   "metadata": {},
   "source": [
    "We will begin by using Student's _t_ test to compare the mean of a numerical variable between two groups. "
   ]
  },
  {
   "cell_type": "code",
   "execution_count": 34,
   "metadata": {},
   "outputs": [
    {
     "ename": "UndefVarError",
     "evalue": "UndefVarError: `HypothesisTests` not defined",
     "output_type": "error",
     "traceback": [
      "UndefVarError: `HypothesisTests` not defined\n",
      "\n",
      "Stacktrace:\n",
      " [1] top-level scope\n",
      "   @ c:\\Users\\chadi\\OneDrive - Handelshögskolan i Stockholm\\Corusera\\JuliaCourseNotebooks\\Julia_Week4\\Julia 1.0 for statistics.ipynb:2"
     ]
    }
   ],
   "source": [
    "# Difference in age between patients in groups A and B\n",
    "HypothesisTests.EqualVarianceTTest(dataA[:, :Age], dataB[:, :Age])"
   ]
  },
  {
   "cell_type": "code",
   "execution_count": 35,
   "metadata": {},
   "outputs": [
    {
     "ename": "UndefVarError",
     "evalue": "UndefVarError: `EqualVarianceTTest` not defined",
     "output_type": "error",
     "traceback": [
      "UndefVarError: `EqualVarianceTTest` not defined\n",
      "\n",
      "Stacktrace:\n",
      " [1] top-level scope\n",
      "   @ c:\\Users\\chadi\\OneDrive - Handelshögskolan i Stockholm\\Corusera\\JuliaCourseNotebooks\\Julia_Week4\\Julia 1.0 for statistics.ipynb:2"
     ]
    }
   ],
   "source": [
    "# Only the p value for the difference in white cell count between patients in groups A and B\n",
    "pvalue(EqualVarianceTTest(dataA[:, :WCC], dataB[:, :WCC]))"
   ]
  },
  {
   "cell_type": "code",
   "execution_count": 36,
   "metadata": {},
   "outputs": [
    {
     "ename": "UndefVarError",
     "evalue": "UndefVarError: `UnequalVarianceTTest` not defined",
     "output_type": "error",
     "traceback": [
      "UndefVarError: `UnequalVarianceTTest` not defined\n",
      "\n",
      "Stacktrace:\n",
      " [1] top-level scope\n",
      "   @ c:\\Users\\chadi\\OneDrive - Handelshögskolan i Stockholm\\Corusera\\JuliaCourseNotebooks\\Julia_Week4\\Julia 1.0 for statistics.ipynb:2"
     ]
    }
   ],
   "source": [
    "# Difference in c-reactive protein level between patients in groups A and B for unequal variances\n",
    "UnequalVarianceTTest(dataA[:, :CRP], dataB[:, :CRP])"
   ]
  },
  {
   "cell_type": "markdown",
   "metadata": {},
   "source": [
    "We can create a variety of linear models using the `GLM.fit()` function."
   ]
  },
  {
   "cell_type": "code",
   "execution_count": 37,
   "metadata": {},
   "outputs": [
    {
     "ename": "LoadError",
     "evalue": "LoadError: UndefVarError: `@formula` not defined\nin expression starting at c:\\Users\\chadi\\OneDrive - Handelshögskolan i Stockholm\\Corusera\\JuliaCourseNotebooks\\Julia_Week4\\Julia 1.0 for statistics.ipynb:2",
     "output_type": "error",
     "traceback": [
      "LoadError: UndefVarError: `@formula` not defined\n",
      "in expression starting at c:\\Users\\chadi\\OneDrive - Handelshögskolan i Stockholm\\Corusera\\JuliaCourseNotebooks\\Julia_Week4\\Julia 1.0 for statistics.ipynb:2\n"
     ]
    }
   ],
   "source": [
    "# Simple model predicting CRP\n",
    "fit(LinearModel, @formula(CRP ~ 1), data)"
   ]
  },
  {
   "cell_type": "code",
   "execution_count": 38,
   "metadata": {},
   "outputs": [
    {
     "ename": "LoadError",
     "evalue": "LoadError: UndefVarError: `@formula` not defined\nin expression starting at c:\\Users\\chadi\\OneDrive - Handelshögskolan i Stockholm\\Corusera\\JuliaCourseNotebooks\\Julia_Week4\\Julia 1.0 for statistics.ipynb:2",
     "output_type": "error",
     "traceback": [
      "LoadError: UndefVarError: `@formula` not defined\n",
      "in expression starting at c:\\Users\\chadi\\OneDrive - Handelshögskolan i Stockholm\\Corusera\\JuliaCourseNotebooks\\Julia_Week4\\Julia 1.0 for statistics.ipynb:2\n"
     ]
    }
   ],
   "source": [
    "# Adding Age as a predictor variable\n",
    "fit(LinearModel, @formula(CRP ~ Age), data)"
   ]
  },
  {
   "cell_type": "code",
   "execution_count": 39,
   "metadata": {},
   "outputs": [
    {
     "ename": "LoadError",
     "evalue": "LoadError: UndefVarError: `@formula` not defined\nin expression starting at c:\\Users\\chadi\\OneDrive - Handelshögskolan i Stockholm\\Corusera\\JuliaCourseNotebooks\\Julia_Week4\\Julia 1.0 for statistics.ipynb:2",
     "output_type": "error",
     "traceback": [
      "LoadError: UndefVarError: `@formula` not defined\n",
      "in expression starting at c:\\Users\\chadi\\OneDrive - Handelshögskolan i Stockholm\\Corusera\\JuliaCourseNotebooks\\Julia_Week4\\Julia 1.0 for statistics.ipynb:2\n"
     ]
    }
   ],
   "source": [
    "# Adding Age and WCC as predictor variables\n",
    "fit(LinearModel, @formula(CRP ~ Age + WCC), data)"
   ]
  },
  {
   "cell_type": "markdown",
   "metadata": {},
   "source": [
    "We can conduct a $\\chi^2$ test for independence using the `HypothesisTests.ChisqTest()` function.  First we need to look at the counts.  Below we calculate the number of unique values for the Result variable sample space for patients in groups A and B.\n",
    "\n",
    "Again note, that we use `combine()` instead of deprecated `by()` method."
   ]
  },
  {
   "cell_type": "code",
   "execution_count": 40,
   "metadata": {
    "scrolled": true
   },
   "outputs": [
    {
     "data": {
      "text/html": [
       "<div><div style = \"float: left;\"><span>3×2 DataFrame</span></div><div style = \"clear: both;\"></div></div><div class = \"data-frame\" style = \"overflow-x: scroll;\"><table class = \"data-frame\" style = \"margin-bottom: 6px;\"><thead><tr class = \"header\"><th class = \"rowNumber\" style = \"font-weight: bold; text-align: right;\">Row</th><th style = \"text-align: left;\">Result</th><th style = \"text-align: left;\">N</th></tr><tr class = \"subheader headerLastRow\"><th class = \"rowNumber\" style = \"font-weight: bold; text-align: right;\"></th><th title = \"String\" style = \"text-align: left;\">String</th><th title = \"Int64\" style = \"text-align: left;\">Int64</th></tr></thead><tbody><tr><td class = \"rowNumber\" style = \"font-weight: bold; text-align: right;\">1</td><td style = \"text-align: left;\">Static</td><td style = \"text-align: right;\">26</td></tr><tr><td class = \"rowNumber\" style = \"font-weight: bold; text-align: right;\">2</td><td style = \"text-align: left;\">Worse</td><td style = \"text-align: right;\">16</td></tr><tr><td class = \"rowNumber\" style = \"font-weight: bold; text-align: right;\">3</td><td style = \"text-align: left;\">Improved</td><td style = \"text-align: right;\">10</td></tr></tbody></table></div>"
      ],
      "text/latex": [
       "\\begin{tabular}{r|cc}\n",
       "\t& Result & N\\\\\n",
       "\t\\hline\n",
       "\t& String & Int64\\\\\n",
       "\t\\hline\n",
       "\t1 & Static & 26 \\\\\n",
       "\t2 & Worse & 16 \\\\\n",
       "\t3 & Improved & 10 \\\\\n",
       "\\end{tabular}\n"
      ],
      "text/plain": [
       "\u001b[1m3×2 DataFrame\u001b[0m\n",
       "\u001b[1m Row \u001b[0m│\u001b[1m Result   \u001b[0m\u001b[1m N     \u001b[0m\n",
       "     │\u001b[90m String   \u001b[0m\u001b[90m Int64 \u001b[0m\n",
       "─────┼─────────────────\n",
       "   1 │ Static       26\n",
       "   2 │ Worse        16\n",
       "   3 │ Improved     10"
      ]
     },
     "metadata": {},
     "output_type": "display_data"
    }
   ],
   "source": [
    "combine(groupby(dataA, :Result), nrow => :N)"
   ]
  },
  {
   "cell_type": "code",
   "execution_count": 41,
   "metadata": {},
   "outputs": [
    {
     "data": {
      "text/html": [
       "<div><div style = \"float: left;\"><span>3×2 DataFrame</span></div><div style = \"clear: both;\"></div></div><div class = \"data-frame\" style = \"overflow-x: scroll;\"><table class = \"data-frame\" style = \"margin-bottom: 6px;\"><thead><tr class = \"header\"><th class = \"rowNumber\" style = \"font-weight: bold; text-align: right;\">Row</th><th style = \"text-align: left;\">Result</th><th style = \"text-align: left;\">N</th></tr><tr class = \"subheader headerLastRow\"><th class = \"rowNumber\" style = \"font-weight: bold; text-align: right;\"></th><th title = \"String\" style = \"text-align: left;\">String</th><th title = \"Int64\" style = \"text-align: left;\">Int64</th></tr></thead><tbody><tr><td class = \"rowNumber\" style = \"font-weight: bold; text-align: right;\">1</td><td style = \"text-align: left;\">Improved</td><td style = \"text-align: right;\">14</td></tr><tr><td class = \"rowNumber\" style = \"font-weight: bold; text-align: right;\">2</td><td style = \"text-align: left;\">Worse</td><td style = \"text-align: right;\">20</td></tr><tr><td class = \"rowNumber\" style = \"font-weight: bold; text-align: right;\">3</td><td style = \"text-align: left;\">Static</td><td style = \"text-align: right;\">14</td></tr></tbody></table></div>"
      ],
      "text/latex": [
       "\\begin{tabular}{r|cc}\n",
       "\t& Result & N\\\\\n",
       "\t\\hline\n",
       "\t& String & Int64\\\\\n",
       "\t\\hline\n",
       "\t1 & Improved & 14 \\\\\n",
       "\t2 & Worse & 20 \\\\\n",
       "\t3 & Static & 14 \\\\\n",
       "\\end{tabular}\n"
      ],
      "text/plain": [
       "\u001b[1m3×2 DataFrame\u001b[0m\n",
       "\u001b[1m Row \u001b[0m│\u001b[1m Result   \u001b[0m\u001b[1m N     \u001b[0m\n",
       "     │\u001b[90m String   \u001b[0m\u001b[90m Int64 \u001b[0m\n",
       "─────┼─────────────────\n",
       "   1 │ Improved     14\n",
       "   2 │ Worse        20\n",
       "   3 │ Static       14"
      ]
     },
     "metadata": {},
     "output_type": "display_data"
    }
   ],
   "source": [
    "combine(groupby(dataB, :Result), nrow => :N)"
   ]
  },
  {
   "cell_type": "code",
   "execution_count": 42,
   "metadata": {},
   "outputs": [
    {
     "data": {
      "text/plain": [
       "2×3 Matrix{Int64}:\n",
       " 22  18  11\n",
       " 17  18  14"
      ]
     },
     "metadata": {},
     "output_type": "display_data"
    }
   ],
   "source": [
    "# Enter the data in similar order here\n",
    "observed = reshape([22, 17, 18, 18, 11, 14], (2, 3))\n",
    "observed"
   ]
  },
  {
   "cell_type": "code",
   "execution_count": 43,
   "metadata": {},
   "outputs": [
    {
     "ename": "UndefVarError",
     "evalue": "UndefVarError: `ChisqTest` not defined",
     "output_type": "error",
     "traceback": [
      "UndefVarError: `ChisqTest` not defined\n",
      "\n",
      "Stacktrace:\n",
      " [1] top-level scope\n",
      "   @ c:\\Users\\chadi\\OneDrive - Handelshögskolan i Stockholm\\Corusera\\JuliaCourseNotebooks\\Julia_Week4\\Julia 1.0 for statistics.ipynb:1"
     ]
    }
   ],
   "source": [
    "ChisqTest(observed)"
   ]
  },
  {
   "cell_type": "markdown",
   "metadata": {},
   "source": [
    "## Exporting a CSV file"
   ]
  },
  {
   "cell_type": "markdown",
   "metadata": {},
   "source": [
    "Finally we can export our dataframe object as a spreadsheet file."
   ]
  },
  {
   "cell_type": "code",
   "execution_count": 44,
   "metadata": {},
   "outputs": [],
   "source": [
    "CSV.write(\"ProjectData_1_point_0.csv\", data);"
   ]
  },
  {
   "cell_type": "markdown",
   "metadata": {},
   "source": [
    "-----"
   ]
  },
  {
   "cell_type": "markdown",
   "metadata": {},
   "source": []
  }
 ],
 "metadata": {
  "@webio": {
   "lastCommId": null,
   "lastKernelId": null
  },
  "kernelspec": {
   "display_name": "Julia 1.10.2",
   "language": "julia",
   "name": "julia-1.10"
  },
  "language_info": {
   "file_extension": ".jl",
   "mimetype": "application/julia",
   "name": "julia",
   "version": "1.10.2"
  }
 },
 "nbformat": 4,
 "nbformat_minor": 2
}
