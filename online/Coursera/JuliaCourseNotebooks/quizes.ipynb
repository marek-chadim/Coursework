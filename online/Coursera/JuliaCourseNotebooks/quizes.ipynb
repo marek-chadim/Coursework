{
 "cells": [
  {
   "cell_type": "markdown",
   "id": "40e1e063-dac4-425b-b9ce-4669d0a84757",
   "metadata": {
    "jp-MarkdownHeadingCollapsed": true
   },
   "source": [
    "# W1Q1"
   ]
  },
  {
   "cell_type": "code",
   "execution_count": 1,
   "id": "a4bdf3b9-3528-4d42-91b2-0cdbb3028db0",
   "metadata": {},
   "outputs": [
    {
     "name": "stdout",
     "output_type": "stream",
     "text": [
      "Hello, World!\n"
     ]
    }
   ],
   "source": [
    "println(\"Hello, World!\")"
   ]
  },
  {
   "cell_type": "code",
   "execution_count": 2,
   "id": "3f20eba3-94fb-47a0-805a-5612414868a5",
   "metadata": {},
   "outputs": [
    {
     "data": {
      "text/plain": [
       "14"
      ]
     },
     "execution_count": 2,
     "metadata": {},
     "output_type": "execute_result"
    }
   ],
   "source": [
    "5 + 9 # 14"
   ]
  },
  {
   "cell_type": "code",
   "execution_count": 3,
   "id": "45927360-528a-4c41-8206-64dc7c939d5a",
   "metadata": {},
   "outputs": [
    {
     "name": "stdout",
     "output_type": "stream",
     "text": [
      "Hello! My word! Hello! My word! \n"
     ]
    }
   ],
   "source": [
    "println((\"Hello!\" * \" My word! \")^2)"
   ]
  },
  {
   "cell_type": "code",
   "execution_count": 6,
   "id": "00634d6d-4bf7-447b-9ca8-5578c7b6e018",
   "metadata": {},
   "outputs": [
    {
     "name": "stdout",
     "output_type": "stream",
     "text": [
      "search: \u001b[0m\u001b[1mr\u001b[22m\u001b[0m\u001b[1ma\u001b[22m\u001b[0m\u001b[1mn\u001b[22m\u001b[0m\u001b[1md\u001b[22m \u001b[0m\u001b[1mr\u001b[22m\u001b[0m\u001b[1ma\u001b[22m\u001b[0m\u001b[1mn\u001b[22m\u001b[0m\u001b[1md\u001b[22mn t\u001b[0m\u001b[1mr\u001b[22m\u001b[0m\u001b[1ma\u001b[22m\u001b[0m\u001b[1mn\u001b[22msco\u001b[0m\u001b[1md\u001b[22me mac\u001b[0m\u001b[1mr\u001b[22moexp\u001b[0m\u001b[1ma\u001b[22m\u001b[0m\u001b[1mn\u001b[22m\u001b[0m\u001b[1md\u001b[22m @mac\u001b[0m\u001b[1mr\u001b[22moexp\u001b[0m\u001b[1ma\u001b[22m\u001b[0m\u001b[1mn\u001b[22m\u001b[0m\u001b[1md\u001b[22m @mac\u001b[0m\u001b[1mr\u001b[22moexp\u001b[0m\u001b[1ma\u001b[22m\u001b[0m\u001b[1mn\u001b[22m\u001b[0m\u001b[1md\u001b[22m1\n",
      "\n"
     ]
    },
    {
     "data": {
      "text/latex": [
       "\\begin{verbatim}\n",
       "rand([rng=default_rng()], [S], [dims...])\n",
       "\\end{verbatim}\n",
       "Pick a random element or array of random elements from the set of values specified by \\texttt{S}; \\texttt{S} can be\n",
       "\n",
       "\\begin{itemize}\n",
       "\\item an indexable collection (for example \\texttt{1:9} or \\texttt{('x', \"y\", :z)}),\n",
       "\n",
       "\n",
       "\\item an \\texttt{AbstractDict} or \\texttt{AbstractSet} object,\n",
       "\n",
       "\n",
       "\\item a string (considered as a collection of characters), or\n",
       "\n",
       "\n",
       "\\item a type: the set of values to pick from is then equivalent to \\texttt{typemin(S):typemax(S)} for integers (this is not applicable to \\href{@ref}{\\texttt{BigInt}}), to $[0, 1)$ for floating point numbers and to $[0, 1)+i[0, 1)$ for complex floating point numbers;\n",
       "\n",
       "\\end{itemize}\n",
       "\\texttt{S} defaults to \\href{@ref}{\\texttt{Float64}}. When only one argument is passed besides the optional \\texttt{rng} and is a \\texttt{Tuple}, it is interpreted as a collection of values (\\texttt{S}) and not as \\texttt{dims}.\n",
       "\n",
       "See also \\href{@ref}{\\texttt{randn}} for normally distributed numbers, and \\href{@ref}{\\texttt{rand!}} and \\href{@ref}{\\texttt{randn!}} for the in-place equivalents.\n",
       "\n",
       "\\begin{quote}\n",
       "\\textbf{compat}\n",
       "\n",
       "Julia 1.1\n",
       "\n",
       "Support for \\texttt{S} as a tuple requires at least Julia 1.1.\n",
       "\n",
       "\\end{quote}\n",
       "\\section{Examples}\n",
       "\\begin{verbatim}\n",
       "julia> rand(Int, 2)\n",
       "2-element Array{Int64,1}:\n",
       " 1339893410598768192\n",
       " 1575814717733606317\n",
       "\n",
       "julia> using Random\n",
       "\n",
       "julia> rand(MersenneTwister(0), Dict(1=>2, 3=>4))\n",
       "1=>2\n",
       "\n",
       "julia> rand((2, 3))\n",
       "3\n",
       "\n",
       "julia> rand(Float64, (2, 3))\n",
       "2×3 Array{Float64,2}:\n",
       " 0.999717  0.0143835  0.540787\n",
       " 0.696556  0.783855   0.938235\n",
       "\\end{verbatim}\n",
       "\\begin{quote}\n",
       "\\textbf{note}\n",
       "\n",
       "Note\n",
       "\n",
       "The complexity of \\texttt{rand(rng, s::Union\\{AbstractDict,AbstractSet\\})} is linear in the length of \\texttt{s}, unless an optimized method with constant complexity is available, which is the case for \\texttt{Dict}, \\texttt{Set} and dense \\texttt{BitSet}s. For more than a few calls, use \\texttt{rand(rng, collect(s))} instead, or either \\texttt{rand(rng, Dict(s))} or \\texttt{rand(rng, Set(s))} as appropriate.\n",
       "\n",
       "\\end{quote}\n"
      ],
      "text/markdown": [
       "```\n",
       "rand([rng=default_rng()], [S], [dims...])\n",
       "```\n",
       "\n",
       "Pick a random element or array of random elements from the set of values specified by `S`; `S` can be\n",
       "\n",
       "  * an indexable collection (for example `1:9` or `('x', \"y\", :z)`),\n",
       "  * an `AbstractDict` or `AbstractSet` object,\n",
       "  * a string (considered as a collection of characters), or\n",
       "  * a type: the set of values to pick from is then equivalent to `typemin(S):typemax(S)` for integers (this is not applicable to [`BigInt`](@ref)), to $[0, 1)$ for floating point numbers and to $[0, 1)+i[0, 1)$ for complex floating point numbers;\n",
       "\n",
       "`S` defaults to [`Float64`](@ref). When only one argument is passed besides the optional `rng` and is a `Tuple`, it is interpreted as a collection of values (`S`) and not as `dims`.\n",
       "\n",
       "See also [`randn`](@ref) for normally distributed numbers, and [`rand!`](@ref) and [`randn!`](@ref) for the in-place equivalents.\n",
       "\n",
       "!!! compat \"Julia 1.1\"\n",
       "    Support for `S` as a tuple requires at least Julia 1.1.\n",
       "\n",
       "\n",
       "# Examples\n",
       "\n",
       "```julia-repl\n",
       "julia> rand(Int, 2)\n",
       "2-element Array{Int64,1}:\n",
       " 1339893410598768192\n",
       " 1575814717733606317\n",
       "\n",
       "julia> using Random\n",
       "\n",
       "julia> rand(MersenneTwister(0), Dict(1=>2, 3=>4))\n",
       "1=>2\n",
       "\n",
       "julia> rand((2, 3))\n",
       "3\n",
       "\n",
       "julia> rand(Float64, (2, 3))\n",
       "2×3 Array{Float64,2}:\n",
       " 0.999717  0.0143835  0.540787\n",
       " 0.696556  0.783855   0.938235\n",
       "```\n",
       "\n",
       "!!! note\n",
       "    The complexity of `rand(rng, s::Union{AbstractDict,AbstractSet})` is linear in the length of `s`, unless an optimized method with constant complexity is available, which is the case for `Dict`, `Set` and dense `BitSet`s. For more than a few calls, use `rand(rng, collect(s))` instead, or either `rand(rng, Dict(s))` or `rand(rng, Set(s))` as appropriate.\n",
       "\n"
      ],
      "text/plain": [
       "\u001b[36m  rand([rng=default_rng()], [S], [dims...])\u001b[39m\n",
       "\n",
       "  Pick a random element or array of random elements from the set of values\n",
       "  specified by \u001b[36mS\u001b[39m; \u001b[36mS\u001b[39m can be\n",
       "\n",
       "    •  an indexable collection (for example \u001b[36m1:9\u001b[39m or \u001b[36m('x', \"y\", :z)\u001b[39m),\n",
       "\n",
       "    •  an \u001b[36mAbstractDict\u001b[39m or \u001b[36mAbstractSet\u001b[39m object,\n",
       "\n",
       "    •  a string (considered as a collection of characters), or\n",
       "\n",
       "    •  a type: the set of values to pick from is then equivalent to\n",
       "       \u001b[36mtypemin(S):typemax(S)\u001b[39m for integers (this is not applicable to\n",
       "       \u001b[36mBigInt\u001b[39m), to \u001b[35m[0, 1)\u001b[39m for floating point numbers and to \u001b[35m[0, 1)+i[0,\n",
       "       1)\u001b[39m for complex floating point numbers;\n",
       "\n",
       "  \u001b[36mS\u001b[39m defaults to \u001b[36mFloat64\u001b[39m. When only one argument is passed besides the optional\n",
       "  \u001b[36mrng\u001b[39m and is a \u001b[36mTuple\u001b[39m, it is interpreted as a collection of values (\u001b[36mS\u001b[39m) and not\n",
       "  as \u001b[36mdims\u001b[39m.\n",
       "\n",
       "  See also \u001b[36mrandn\u001b[39m for normally distributed numbers, and \u001b[36mrand!\u001b[39m and \u001b[36mrandn!\u001b[39m for\n",
       "  the in-place equivalents.\n",
       "\n",
       "\u001b[39m\u001b[1m  │ \u001b[22m\u001b[39m\u001b[1mJulia 1.1\u001b[22m\n",
       "\u001b[39m\u001b[1m  │\u001b[22m\n",
       "\u001b[39m\u001b[1m  │\u001b[22m  Support for \u001b[36mS\u001b[39m as a tuple requires at least Julia 1.1.\n",
       "\n",
       "\u001b[1m  Examples\u001b[22m\n",
       "\u001b[1m  ≡≡≡≡≡≡≡≡\u001b[22m\n",
       "\n",
       "\u001b[36m  julia> rand(Int, 2)\u001b[39m\n",
       "\u001b[36m  2-element Array{Int64,1}:\u001b[39m\n",
       "\u001b[36m   1339893410598768192\u001b[39m\n",
       "\u001b[36m   1575814717733606317\u001b[39m\n",
       "\u001b[36m  \u001b[39m\n",
       "\u001b[36m  julia> using Random\u001b[39m\n",
       "\u001b[36m  \u001b[39m\n",
       "\u001b[36m  julia> rand(MersenneTwister(0), Dict(1=>2, 3=>4))\u001b[39m\n",
       "\u001b[36m  1=>2\u001b[39m\n",
       "\u001b[36m  \u001b[39m\n",
       "\u001b[36m  julia> rand((2, 3))\u001b[39m\n",
       "\u001b[36m  3\u001b[39m\n",
       "\u001b[36m  \u001b[39m\n",
       "\u001b[36m  julia> rand(Float64, (2, 3))\u001b[39m\n",
       "\u001b[36m  2×3 Array{Float64,2}:\u001b[39m\n",
       "\u001b[36m   0.999717  0.0143835  0.540787\u001b[39m\n",
       "\u001b[36m   0.696556  0.783855   0.938235\u001b[39m\n",
       "\n",
       "\u001b[36m\u001b[1m  │ \u001b[22m\u001b[39m\u001b[36m\u001b[1mNote\u001b[22m\u001b[39m\n",
       "\u001b[36m\u001b[1m  │\u001b[22m\u001b[39m\n",
       "\u001b[36m\u001b[1m  │\u001b[22m\u001b[39m  The complexity of \u001b[36mrand(rng, s::Union{AbstractDict,AbstractSet})\u001b[39m is\n",
       "\u001b[36m\u001b[1m  │\u001b[22m\u001b[39m  linear in the length of \u001b[36ms\u001b[39m, unless an optimized method with\n",
       "\u001b[36m\u001b[1m  │\u001b[22m\u001b[39m  constant complexity is available, which is the case for \u001b[36mDict\u001b[39m, \u001b[36mSet\u001b[39m\n",
       "\u001b[36m\u001b[1m  │\u001b[22m\u001b[39m  and dense \u001b[36mBitSet\u001b[39ms. For more than a few calls, use \u001b[36mrand(rng,\n",
       "\u001b[36m\u001b[1m  │\u001b[22m\u001b[39m  collect(s))\u001b[39m instead, or either \u001b[36mrand(rng, Dict(s))\u001b[39m or \u001b[36mrand(rng,\n",
       "\u001b[36m\u001b[1m  │\u001b[22m\u001b[39m  Set(s))\u001b[39m as appropriate."
      ]
     },
     "execution_count": 6,
     "metadata": {},
     "output_type": "execute_result"
    }
   ],
   "source": [
    "?rand"
   ]
  },
  {
   "cell_type": "markdown",
   "id": "6685b9a4-57da-4514-be03-bc1ec6103481",
   "metadata": {
    "jp-MarkdownHeadingCollapsed": true
   },
   "source": [
    "# W1Q2"
   ]
  },
  {
   "cell_type": "code",
   "execution_count": 8,
   "id": "fabad50a-2e62-4b25-a782-feddb6c76ff9",
   "metadata": {},
   "outputs": [
    {
     "data": {
      "text/plain": [
       "84.0"
      ]
     },
     "execution_count": 8,
     "metadata": {},
     "output_type": "execute_result"
    }
   ],
   "source": [
    "5040 / 60"
   ]
  },
  {
   "cell_type": "code",
   "execution_count": 9,
   "id": "cf1fe437-e6a3-4de9-a69f-a836a9ff8e80",
   "metadata": {},
   "outputs": [
    {
     "data": {
      "text/plain": [
       "4.0"
      ]
     },
     "execution_count": 9,
     "metadata": {},
     "output_type": "execute_result"
    }
   ],
   "source": [
    "2^2^1^1.3^1.5^1.7^20"
   ]
  },
  {
   "cell_type": "code",
   "execution_count": 11,
   "id": "0828b1ad-7e47-4ec5-ba57-6193cb8efa09",
   "metadata": {},
   "outputs": [
    {
     "data": {
      "text/plain": [
       "false"
      ]
     },
     "execution_count": 11,
     "metadata": {},
     "output_type": "execute_result"
    }
   ],
   "source": [
    "(true || false) && false"
   ]
  },
  {
   "cell_type": "code",
   "execution_count": 12,
   "id": "d12aa5fb-5525-4de9-9f6e-71409c6e05cf",
   "metadata": {},
   "outputs": [
    {
     "data": {
      "text/plain": [
       "true"
      ]
     },
     "execution_count": 12,
     "metadata": {},
     "output_type": "execute_result"
    }
   ],
   "source": [
    "3 & 5 > 0 "
   ]
  },
  {
   "cell_type": "code",
   "execution_count": 13,
   "id": "c35019a7-89a6-4076-b084-542b2b6c0301",
   "metadata": {},
   "outputs": [
    {
     "data": {
      "text/plain": [
       "false"
      ]
     },
     "execution_count": 13,
     "metadata": {},
     "output_type": "execute_result"
    }
   ],
   "source": [
    "8 & 5 > 0"
   ]
  },
  {
   "cell_type": "code",
   "execution_count": 15,
   "id": "4c505997-edb4-47da-895b-3fbb5d3f10e2",
   "metadata": {},
   "outputs": [
    {
     "data": {
      "text/plain": [
       "true"
      ]
     },
     "execution_count": 15,
     "metadata": {},
     "output_type": "execute_result"
    }
   ],
   "source": [
    "1 + 2 - (5 - 2) == 0 "
   ]
  },
  {
   "cell_type": "markdown",
   "id": "1e1e6a61-934c-46cf-8733-324d0069da0e",
   "metadata": {
    "jp-MarkdownHeadingCollapsed": true
   },
   "source": [
    "# W1Q3"
   ]
  },
  {
   "cell_type": "code",
   "execution_count": 16,
   "id": "0a40b5f8-b692-4e27-beb3-72bb30f7be9a",
   "metadata": {},
   "outputs": [
    {
     "data": {
      "text/plain": [
       "false"
      ]
     },
     "execution_count": 16,
     "metadata": {},
     "output_type": "execute_result"
    }
   ],
   "source": [
    "'a'===\"a\" "
   ]
  },
  {
   "cell_type": "code",
   "execution_count": 17,
   "id": "7ae54fdd-049a-4fc4-8b58-03d6f9726adf",
   "metadata": {},
   "outputs": [
    {
     "data": {
      "text/plain": [
       "Array{Float64, 3}"
      ]
     },
     "execution_count": 17,
     "metadata": {},
     "output_type": "execute_result"
    }
   ],
   "source": [
    "Array{Float64, 3} "
   ]
  },
  {
   "cell_type": "code",
   "execution_count": 19,
   "id": "3a766e77-227c-4eee-9ca0-bfac79783873",
   "metadata": {},
   "outputs": [
    {
     "data": {
      "text/plain": [
       "11×12 Matrix{Int64}:\n",
       " 2369014726664  2369014741488  …  2369014789584    2369014794192\n",
       " 2369014730544  2369014741776     2369014726664  140722712888448\n",
       " 2369014734288  2369014742064     2369014789872    2369014794480\n",
       " 2369014734576  2369014742352     2369014726664    2369014794768\n",
       " 2369014734864  2369014742640     2369014726664    2369014795056\n",
       " 2369014735152  2369014742928  …  2369014790160    2369014795344\n",
       " 2369014739760  2369014743216     2369014790448    2369014799952\n",
       " 2369014740336  2369014743504     2369014793040    2369014800240\n",
       " 2369014740624  2369014743792     2369014726664    2369014800528\n",
       " 2369014740912  2369014744080     2369014793616    2369014800816\n",
       " 2369014741200  2369014744368  …  2369014793904    2369014801104"
      ]
     },
     "execution_count": 19,
     "metadata": {},
     "output_type": "execute_result"
    }
   ],
   "source": [
    "x = Array{Int64}(undef,11, 12) "
   ]
  },
  {
   "cell_type": "code",
   "execution_count": 20,
   "id": "0328eb4b-305f-498d-9cdd-b72345ca0c8b",
   "metadata": {},
   "outputs": [
    {
     "data": {
      "text/plain": [
       "Matrix{Int64}\u001b[90m (alias for \u001b[39m\u001b[90mArray{Int64, 2}\u001b[39m\u001b[90m)\u001b[39m"
      ]
     },
     "execution_count": 20,
     "metadata": {},
     "output_type": "execute_result"
    }
   ],
   "source": [
    "typeof(x)"
   ]
  },
  {
   "cell_type": "markdown",
   "id": "87494386-7bef-4e7a-896f-216a82106fc7",
   "metadata": {
    "jp-MarkdownHeadingCollapsed": true
   },
   "source": [
    "# W1Q4"
   ]
  },
  {
   "cell_type": "code",
   "execution_count": 24,
   "id": "cc283288-d53c-4817-99ea-54b32ce9e86e",
   "metadata": {
    "scrolled": true
   },
   "outputs": [
    {
     "name": "stdout",
     "output_type": "stream",
     "text": [
      "search: \u001b[0m\u001b[1m\\\u001b[22m\n",
      "\n"
     ]
    },
    {
     "data": {
      "text/latex": [
       "\\begin{verbatim}\n",
       "\\(x, y)\n",
       "\\end{verbatim}\n",
       "Left division operator: multiplication of \\texttt{y} by the inverse of \\texttt{x} on the left. Gives floating-point results for integer arguments.\n",
       "\n",
       "\\section{Examples}\n",
       "\\begin{verbatim}\n",
       "julia> 3 \\ 6\n",
       "2.0\n",
       "\n",
       "julia> inv(3) * 6\n",
       "2.0\n",
       "\n",
       "julia> A = [4 3; 2 1]; x = [5, 6];\n",
       "\n",
       "julia> A \\ x\n",
       "2-element Vector{Float64}:\n",
       "  6.5\n",
       " -7.0\n",
       "\n",
       "julia> inv(A) * x\n",
       "2-element Vector{Float64}:\n",
       "  6.5\n",
       " -7.0\n",
       "\\end{verbatim}\n",
       "\\rule{\\textwidth}{1pt}\n",
       "\\begin{verbatim}\n",
       "\\(A, B)\n",
       "\\end{verbatim}\n",
       "Matrix division using a polyalgorithm. For input matrices \\texttt{A} and \\texttt{B}, the result \\texttt{X} is such that \\texttt{A*X == B} when \\texttt{A} is square. The solver that is used depends upon the structure of \\texttt{A}.  If \\texttt{A} is upper or lower triangular (or diagonal), no factorization of \\texttt{A} is required and the system is solved with either forward or backward substitution. For non-triangular square matrices, an LU factorization is used.\n",
       "\n",
       "For rectangular \\texttt{A} the result is the minimum-norm least squares solution computed by a pivoted QR factorization of \\texttt{A} and a rank estimate of \\texttt{A} based on the R factor.\n",
       "\n",
       "When \\texttt{A} is sparse, a similar polyalgorithm is used. For indefinite matrices, the \\texttt{LDLt} factorization does not use pivoting during the numerical factorization and therefore the procedure can fail even for invertible matrices.\n",
       "\n",
       "See also: \\href{@ref}{\\texttt{factorize}}, \\href{@ref}{\\texttt{pinv}}.\n",
       "\n",
       "\\section{Examples}\n",
       "\\begin{verbatim}\n",
       "julia> A = [1 0; 1 -2]; B = [32; -4];\n",
       "\n",
       "julia> X = A \\ B\n",
       "2-element Vector{Float64}:\n",
       " 32.0\n",
       " 18.0\n",
       "\n",
       "julia> A * X == B\n",
       "true\n",
       "\\end{verbatim}\n"
      ],
      "text/markdown": [
       "```\n",
       "\\(x, y)\n",
       "```\n",
       "\n",
       "Left division operator: multiplication of `y` by the inverse of `x` on the left. Gives floating-point results for integer arguments.\n",
       "\n",
       "# Examples\n",
       "\n",
       "```jldoctest\n",
       "julia> 3 \\ 6\n",
       "2.0\n",
       "\n",
       "julia> inv(3) * 6\n",
       "2.0\n",
       "\n",
       "julia> A = [4 3; 2 1]; x = [5, 6];\n",
       "\n",
       "julia> A \\ x\n",
       "2-element Vector{Float64}:\n",
       "  6.5\n",
       " -7.0\n",
       "\n",
       "julia> inv(A) * x\n",
       "2-element Vector{Float64}:\n",
       "  6.5\n",
       " -7.0\n",
       "```\n",
       "\n",
       "---\n",
       "\n",
       "```\n",
       "\\(A, B)\n",
       "```\n",
       "\n",
       "Matrix division using a polyalgorithm. For input matrices `A` and `B`, the result `X` is such that `A*X == B` when `A` is square. The solver that is used depends upon the structure of `A`.  If `A` is upper or lower triangular (or diagonal), no factorization of `A` is required and the system is solved with either forward or backward substitution. For non-triangular square matrices, an LU factorization is used.\n",
       "\n",
       "For rectangular `A` the result is the minimum-norm least squares solution computed by a pivoted QR factorization of `A` and a rank estimate of `A` based on the R factor.\n",
       "\n",
       "When `A` is sparse, a similar polyalgorithm is used. For indefinite matrices, the `LDLt` factorization does not use pivoting during the numerical factorization and therefore the procedure can fail even for invertible matrices.\n",
       "\n",
       "See also: [`factorize`](@ref), [`pinv`](@ref).\n",
       "\n",
       "# Examples\n",
       "\n",
       "```jldoctest\n",
       "julia> A = [1 0; 1 -2]; B = [32; -4];\n",
       "\n",
       "julia> X = A \\ B\n",
       "2-element Vector{Float64}:\n",
       " 32.0\n",
       " 18.0\n",
       "\n",
       "julia> A * X == B\n",
       "true\n",
       "```\n"
      ],
      "text/plain": [
       "\u001b[36m  \\(x, y)\u001b[39m\n",
       "\n",
       "  Left division operator: multiplication of \u001b[36my\u001b[39m by the inverse of \u001b[36mx\u001b[39m on the left.\n",
       "  Gives floating-point results for integer arguments.\n",
       "\n",
       "\u001b[1m  Examples\u001b[22m\n",
       "\u001b[1m  ≡≡≡≡≡≡≡≡\u001b[22m\n",
       "\n",
       "\u001b[36m  julia> 3 \\ 6\u001b[39m\n",
       "\u001b[36m  2.0\u001b[39m\n",
       "\u001b[36m  \u001b[39m\n",
       "\u001b[36m  julia> inv(3) * 6\u001b[39m\n",
       "\u001b[36m  2.0\u001b[39m\n",
       "\u001b[36m  \u001b[39m\n",
       "\u001b[36m  julia> A = [4 3; 2 1]; x = [5, 6];\u001b[39m\n",
       "\u001b[36m  \u001b[39m\n",
       "\u001b[36m  julia> A \\ x\u001b[39m\n",
       "\u001b[36m  2-element Vector{Float64}:\u001b[39m\n",
       "\u001b[36m    6.5\u001b[39m\n",
       "\u001b[36m   -7.0\u001b[39m\n",
       "\u001b[36m  \u001b[39m\n",
       "\u001b[36m  julia> inv(A) * x\u001b[39m\n",
       "\u001b[36m  2-element Vector{Float64}:\u001b[39m\n",
       "\u001b[36m    6.5\u001b[39m\n",
       "\u001b[36m   -7.0\u001b[39m\n",
       "\n",
       "  ────────────────────────────────────────────────────────────────────────────\n",
       "\n",
       "\u001b[36m  \\(A, B)\u001b[39m\n",
       "\n",
       "  Matrix division using a polyalgorithm. For input matrices \u001b[36mA\u001b[39m and \u001b[36mB\u001b[39m, the\n",
       "  result \u001b[36mX\u001b[39m is such that \u001b[36mA*X == B\u001b[39m when \u001b[36mA\u001b[39m is square. The solver that is used\n",
       "  depends upon the structure of \u001b[36mA\u001b[39m. If \u001b[36mA\u001b[39m is upper or lower triangular (or\n",
       "  diagonal), no factorization of \u001b[36mA\u001b[39m is required and the system is solved with\n",
       "  either forward or backward substitution. For non-triangular square matrices,\n",
       "  an LU factorization is used.\n",
       "\n",
       "  For rectangular \u001b[36mA\u001b[39m the result is the minimum-norm least squares solution\n",
       "  computed by a pivoted QR factorization of \u001b[36mA\u001b[39m and a rank estimate of \u001b[36mA\u001b[39m based\n",
       "  on the R factor.\n",
       "\n",
       "  When \u001b[36mA\u001b[39m is sparse, a similar polyalgorithm is used. For indefinite matrices,\n",
       "  the \u001b[36mLDLt\u001b[39m factorization does not use pivoting during the numerical\n",
       "  factorization and therefore the procedure can fail even for invertible\n",
       "  matrices.\n",
       "\n",
       "  See also: \u001b[36mfactorize\u001b[39m, \u001b[36mpinv\u001b[39m.\n",
       "\n",
       "\u001b[1m  Examples\u001b[22m\n",
       "\u001b[1m  ≡≡≡≡≡≡≡≡\u001b[22m\n",
       "\n",
       "\u001b[36m  julia> A = [1 0; 1 -2]; B = [32; -4];\u001b[39m\n",
       "\u001b[36m  \u001b[39m\n",
       "\u001b[36m  julia> X = A \\ B\u001b[39m\n",
       "\u001b[36m  2-element Vector{Float64}:\u001b[39m\n",
       "\u001b[36m   32.0\u001b[39m\n",
       "\u001b[36m   18.0\u001b[39m\n",
       "\u001b[36m  \u001b[39m\n",
       "\u001b[36m  julia> A * X == B\u001b[39m\n",
       "\u001b[36m  true\u001b[39m"
      ]
     },
     "execution_count": 24,
     "metadata": {},
     "output_type": "execute_result"
    }
   ],
   "source": [
    "?\\"
   ]
  },
  {
   "cell_type": "code",
   "execution_count": 23,
   "id": "b4396b86-41e7-4715-8b24-64eb95570cff",
   "metadata": {},
   "outputs": [
    {
     "data": {
      "text/plain": [
       "84.0"
      ]
     },
     "execution_count": 23,
     "metadata": {},
     "output_type": "execute_result"
    }
   ],
   "source": [
    "60 \\ 5040"
   ]
  },
  {
   "cell_type": "code",
   "execution_count": 25,
   "id": "77e8a5ba-d6f6-4a8a-8209-f23c0d87db25",
   "metadata": {},
   "outputs": [
    {
     "data": {
      "text/plain": [
       "addone (generic function with 1 method)"
      ]
     },
     "execution_count": 25,
     "metadata": {},
     "output_type": "execute_result"
    }
   ],
   "source": [
    "addone(x::Int64) = x+1"
   ]
  },
  {
   "cell_type": "code",
   "execution_count": 28,
   "id": "5a5e6f00-b51c-4458-9f36-ebe1a295092c",
   "metadata": {},
   "outputs": [
    {
     "data": {
      "text/plain": [
       "(2, 1)"
      ]
     },
     "execution_count": 28,
     "metadata": {},
     "output_type": "execute_result"
    }
   ],
   "source": [
    "a,b=1,2\n",
    "\n",
    "a,b=b,a"
   ]
  },
  {
   "cell_type": "code",
   "execution_count": 30,
   "id": "3a8ab81c-1964-457b-b0fb-c477b9490041",
   "metadata": {},
   "outputs": [
    {
     "name": "stdout",
     "output_type": "stream",
     "text": [
      "22\n"
     ]
    }
   ],
   "source": [
    "function test(input)\n",
    "  println(\"$input\"^2)\n",
    "end\n",
    "\n",
    "test(2)"
   ]
  },
  {
   "cell_type": "code",
   "execution_count": 38,
   "id": "084f56af-fae3-44ca-a049-50b03b8f5d31",
   "metadata": {},
   "outputs": [
    {
     "name": "stdout",
     "output_type": "stream",
     "text": [
      "12\n"
     ]
    }
   ],
   "source": [
    "add2(x,y) = x + y\n",
    "add2(x,y) = return x + y\n",
    "\n",
    "println(add2(5, 7))"
   ]
  },
  {
   "cell_type": "code",
   "execution_count": 37,
   "id": "3ce72ae9-bee6-4c56-9064-4c0fcab3ccb3",
   "metadata": {},
   "outputs": [
    {
     "name": "stdout",
     "output_type": "stream",
     "text": [
      "(1, 0, 2)\n"
     ]
    }
   ],
   "source": [
    "function coordinates(x, y=0, z=0)\n",
    "  println(\"($x, $y, $z)\")\n",
    "end\n",
    "coordinates(1, 0, 2)    "
   ]
  },
  {
   "cell_type": "markdown",
   "id": "b23777bc-757b-48d5-94ed-6f1ea5cb8774",
   "metadata": {
    "jp-MarkdownHeadingCollapsed": true
   },
   "source": [
    "# W1graded"
   ]
  },
  {
   "cell_type": "code",
   "execution_count": 40,
   "id": "de19d2ca-3f82-4a1c-8229-1b2be9a551e7",
   "metadata": {},
   "outputs": [
    {
     "data": {
      "text/plain": [
       "240"
      ]
     },
     "execution_count": 40,
     "metadata": {},
     "output_type": "execute_result"
    }
   ],
   "source": [
    "2^2^3 - 2^4"
   ]
  },
  {
   "cell_type": "code",
   "execution_count": 41,
   "id": "76c428e8-cec2-4cf4-9017-86c6bb8f2b8d",
   "metadata": {},
   "outputs": [
    {
     "data": {
      "text/plain": [
       "36"
      ]
     },
     "execution_count": 41,
     "metadata": {},
     "output_type": "execute_result"
    }
   ],
   "source": [
    "3^2^1^5 + 3^3"
   ]
  },
  {
   "cell_type": "code",
   "execution_count": 43,
   "id": "cf90dc02-97d1-4da0-81a0-5a962916a202",
   "metadata": {},
   "outputs": [
    {
     "data": {
      "text/plain": [
       "48"
      ]
     },
     "execution_count": 43,
     "metadata": {},
     "output_type": "execute_result"
    }
   ],
   "source": [
    "(2^2)^3 - 2^4"
   ]
  },
  {
   "cell_type": "code",
   "execution_count": 44,
   "id": "3e524f90-caf1-4270-8130-52af76ce9049",
   "metadata": {},
   "outputs": [
    {
     "name": "stdout",
     "output_type": "stream",
     "text": [
      "36\n"
     ]
    }
   ],
   "source": [
    "println(\"$(6*6)\")"
   ]
  },
  {
   "cell_type": "code",
   "execution_count": 46,
   "id": "2d02d7b1-18e4-431e-96db-52929a6ff732",
   "metadata": {},
   "outputs": [
    {
     "data": {
      "text/plain": [
       "0"
      ]
     },
     "execution_count": 46,
     "metadata": {},
     "output_type": "execute_result"
    }
   ],
   "source": [
    "(5 - 7) * 2 + 4"
   ]
  },
  {
   "cell_type": "code",
   "execution_count": 47,
   "id": "2d8e9686-cf89-4fd0-8631-fc8e45043a5e",
   "metadata": {},
   "outputs": [
    {
     "data": {
      "text/plain": [
       "false"
      ]
     },
     "execution_count": 47,
     "metadata": {},
     "output_type": "execute_result"
    }
   ],
   "source": [
    "1 + 3 < 5 && 2^2 === 4.0"
   ]
  },
  {
   "cell_type": "code",
   "execution_count": 49,
   "id": "0e784a1c-f7aa-4281-946c-cedbc8e345d5",
   "metadata": {},
   "outputs": [
    {
     "ename": "LoadError",
     "evalue": "MethodError: no method matching isless(::Float64, ::Matrix{Int64})\n\n\u001b[0mClosest candidates are:\n\u001b[0m  isless(\u001b[91m::Missing\u001b[39m, ::Any)\n\u001b[0m\u001b[90m   @\u001b[39m \u001b[90mBase\u001b[39m \u001b[90m\u001b[4mmissing.jl:87\u001b[24m\u001b[39m\n\u001b[0m  isless(::Any, \u001b[91m::Missing\u001b[39m)\n\u001b[0m\u001b[90m   @\u001b[39m \u001b[90mBase\u001b[39m \u001b[90m\u001b[4mmissing.jl:88\u001b[24m\u001b[39m\n\u001b[0m  isless(::T, \u001b[91m::T\u001b[39m) where T<:Union{Float16, Float32, Float64}\n\u001b[0m\u001b[90m   @\u001b[39m \u001b[90mBase\u001b[39m \u001b[90m\u001b[4mfloat.jl:548\u001b[24m\u001b[39m\n\u001b[0m  ...\n",
     "output_type": "error",
     "traceback": [
      "MethodError: no method matching isless(::Float64, ::Matrix{Int64})\n\n\u001b[0mClosest candidates are:\n\u001b[0m  isless(\u001b[91m::Missing\u001b[39m, ::Any)\n\u001b[0m\u001b[90m   @\u001b[39m \u001b[90mBase\u001b[39m \u001b[90m\u001b[4mmissing.jl:87\u001b[24m\u001b[39m\n\u001b[0m  isless(::Any, \u001b[91m::Missing\u001b[39m)\n\u001b[0m\u001b[90m   @\u001b[39m \u001b[90mBase\u001b[39m \u001b[90m\u001b[4mmissing.jl:88\u001b[24m\u001b[39m\n\u001b[0m  isless(::T, \u001b[91m::T\u001b[39m) where T<:Union{Float16, Float32, Float64}\n\u001b[0m\u001b[90m   @\u001b[39m \u001b[90mBase\u001b[39m \u001b[90m\u001b[4mfloat.jl:548\u001b[24m\u001b[39m\n\u001b[0m  ...\n",
      "",
      "Stacktrace:",
      " [1] <(x::Float64, y::Matrix{Int64})",
      "   @ Base .\\operators.jl:352",
      " [2] <=(x::Float64, y::Matrix{Int64})",
      "   @ Base .\\operators.jl:401",
      " [3] >=(x::Matrix{Int64}, y::Float64)",
      "   @ Base .\\operators.jl:425",
      " [4] top-level scope",
      "   @ In[49]:1"
     ]
    }
   ],
   "source": [
    "(x ≥ 5.0) && (x < 7.0)"
   ]
  },
  {
   "cell_type": "code",
   "execution_count": 54,
   "id": "528f03e0-fc25-4d1a-9766-f797ca885983",
   "metadata": {},
   "outputs": [
    {
     "data": {
      "text/plain": [
       "true"
      ]
     },
     "execution_count": 54,
     "metadata": {},
     "output_type": "execute_result"
    }
   ],
   "source": [
    "true && ((false && false) || true)\n",
    "((true && false) && false) || true"
   ]
  },
  {
   "cell_type": "code",
   "execution_count": 55,
   "id": "bdb5da22-ebad-45ef-b6f3-4b5ade638c7c",
   "metadata": {},
   "outputs": [
    {
     "data": {
      "text/plain": [
       "2×1 Matrix{Float64}:\n",
       " 1.170461770306e-311\n",
       " 1.17046176999e-311"
      ]
     },
     "execution_count": 55,
     "metadata": {},
     "output_type": "execute_result"
    }
   ],
   "source": [
    "matrix = Array{Float64,2}(undef, a, b)"
   ]
  },
  {
   "cell_type": "code",
   "execution_count": 56,
   "id": "26428c6d-2e4f-4376-85f8-7ed2dd534eb3",
   "metadata": {},
   "outputs": [
    {
     "data": {
      "text/plain": [
       "15×2 Matrix{Float64}:\n",
       " 1.68005    -1.6417\n",
       " 0.501309   -0.977698\n",
       " 1.52801     0.527711\n",
       " 1.70012     1.71152\n",
       " 1.99249     1.891\n",
       " 2.70608    -0.463428\n",
       " 2.99493    -0.443567\n",
       " 3.49185    -1.27518\n",
       " 3.50119    -0.6905\n",
       " 4.45992    -5.51613\n",
       " 4.93697    -6.0017\n",
       " 5.02329    -8.36417\n",
       " 5.04234    -7.92448\n",
       " 5.50739   -10.7748\n",
       " 5.56867   -10.9172"
      ]
     },
     "execution_count": 56,
     "metadata": {},
     "output_type": "execute_result"
    }
   ],
   "source": [
    "data = [1.6800483  -1.641695388; \n",
    "        0.501309281 -0.977697538; \n",
    "        1.528012113 0.52771122;\n",
    "        1.70012253 1.711524991; \n",
    "        1.992493625 1.891000015;\n",
    "        2.706075824 -0.463427794;\n",
    "        2.994931927 -0.443566619;\n",
    "        3.491852811 -1.275179133;\n",
    "        3.501191722 -0.690499597;\n",
    "        4.459924502 -5.516130799;\n",
    "        4.936965851 -6.001703074;\n",
    "        5.023289852 -8.36416901;\n",
    "        5.04233698 -7.924477517;\n",
    "        5.50739285 -10.77482371;\n",
    "        5.568665171 -10.9171878]"
   ]
  },
  {
   "cell_type": "code",
   "execution_count": 59,
   "id": "26e6f294-d824-4220-9db3-2f032d443080",
   "metadata": {},
   "outputs": [
    {
     "data": {
      "text/plain": [
       "15-element Vector{Float64}:\n",
       " 1.6800483\n",
       " 0.501309281\n",
       " 1.528012113\n",
       " 1.70012253\n",
       " 1.992493625\n",
       " 2.706075824\n",
       " 2.994931927\n",
       " 3.491852811\n",
       " 3.501191722\n",
       " 4.459924502\n",
       " 4.936965851\n",
       " 5.023289852\n",
       " 5.04233698\n",
       " 5.50739285\n",
       " 5.568665171"
      ]
     },
     "execution_count": 59,
     "metadata": {},
     "output_type": "execute_result"
    }
   ],
   "source": [
    "data[:,1]"
   ]
  },
  {
   "cell_type": "code",
   "execution_count": 61,
   "id": "44e67bcb-a8d6-48d7-9962-c46ab4e74d62",
   "metadata": {},
   "outputs": [
    {
     "data": {
      "text/plain": [
       "coordinates (generic function with 3 methods)"
      ]
     },
     "execution_count": 61,
     "metadata": {},
     "output_type": "execute_result"
    }
   ],
   "source": [
    "function coordinates(x, y, z)\n",
    "  if x==0 && z==0 && y==0\n",
    "    println(\"origin\")\n",
    "  else\n",
    "    println(\"($x, $y, $z)\")\n",
    "  end\n",
    "end"
   ]
  },
  {
   "cell_type": "code",
   "execution_count": 63,
   "id": "245eae13-c787-44a8-9b23-e7933e54923c",
   "metadata": {},
   "outputs": [
    {
     "name": "stdout",
     "output_type": "stream",
     "text": [
      "origin\n"
     ]
    }
   ],
   "source": [
    "coordinates(0,0,0)"
   ]
  },
  {
   "cell_type": "code",
   "execution_count": 64,
   "id": "74a64571-9645-4ea0-bffb-f671e9ebe61f",
   "metadata": {},
   "outputs": [
    {
     "data": {
      "text/plain": [
       "(19, 3)"
      ]
     },
     "execution_count": 64,
     "metadata": {},
     "output_type": "execute_result"
    }
   ],
   "source": [
    "a, b = 2, 3           \n",
    "function f(x)  \n",
    "  b = 5 \n",
    "  a*x + b\n",
    "end\n",
    "f(7), b"
   ]
  },
  {
   "cell_type": "code",
   "execution_count": 65,
   "id": "575f26bb-2c3f-44b9-a6f3-79a309957057",
   "metadata": {},
   "outputs": [
    {
     "data": {
      "text/plain": [
       "f (generic function with 1 method)"
      ]
     },
     "execution_count": 65,
     "metadata": {},
     "output_type": "execute_result"
    }
   ],
   "source": [
    "function f(x)\n",
    "  return 2x\n",
    "  3x\n",
    "end"
   ]
  },
  {
   "cell_type": "code",
   "execution_count": 66,
   "id": "671635cf-f25c-42c5-85ed-67563211b1e0",
   "metadata": {},
   "outputs": [
    {
     "data": {
      "text/plain": [
       "10"
      ]
     },
     "execution_count": 66,
     "metadata": {},
     "output_type": "execute_result"
    }
   ],
   "source": [
    "f(5)"
   ]
  },
  {
   "cell_type": "markdown",
   "id": "e5a9f59a-aff5-48a5-b4cb-1461a8b40e64",
   "metadata": {
    "jp-MarkdownHeadingCollapsed": true
   },
   "source": [
    "# W2graded"
   ]
  },
  {
   "cell_type": "code",
   "execution_count": 102,
   "id": "2e487ce1-548b-4487-b623-90d926affbfc",
   "metadata": {},
   "outputs": [
    {
     "data": {
      "text/plain": [
       "2016-10-11T00:00:00"
      ]
     },
     "execution_count": 102,
     "metadata": {},
     "output_type": "execute_result"
    }
   ],
   "source": [
    "my_date = \"Oct 11 2016\" # needs updating\n",
    "Dates.DateTime(my_date, \"u d y\")"
   ]
  },
  {
   "cell_type": "code",
   "execution_count": 81,
   "id": "d3b1e17f-b296-4799-a2b3-b689fdaf19e7",
   "metadata": {},
   "outputs": [
    {
     "data": {
      "text/plain": [
       "54×9 Matrix{Any}:\n",
       " 613  28637  11314  3804  2536  10675     4808     14122     3955\n",
       " 606  28634  11314  3804  2536  10672     4808     14122     3955\n",
       " 599  28635  11314  3805  2536  10672     4808     14122     3955\n",
       " 592  28607  11314  3810  2536  10672     4808     14089     3955\n",
       " 582  28539  11298  3806  2535  10672     4808     14061     3955\n",
       " 575  28476  11298  3803  2535  10672     4808     14001     3955\n",
       " 568  28454  11297  3800  2534  10672     4808     13982     3955\n",
       " 554  28388  11296  3805  2533  10672     4808     13911     3955\n",
       " 547  28295  11295  3800  2532  10672     4808     13823     3955\n",
       " 540  28220  11291  3792  2530  10672     4808     13756     3953\n",
       " 533  28147  11291  3792  2530  10672     4808     13683     3953\n",
       " 526  28073  11290  3792  2529  10672     4808     13609     3953\n",
       " 512  27952  11284  3786  2524  10672     4808     13494     3952\n",
       "   ⋮                                ⋮                        \n",
       " 140   1835   1011   506   373    599      323       730      315\n",
       " 130   1437    825   472   346    391      227       574      252\n",
       " 123   1201    672   427   319    249      129       525      224\n",
       " 114    982    613   411   310    174      106       397      197\n",
       " 102    779    481   412   305    115       75       252      101\n",
       "  87    528    337   398   264     33       24        97       49\n",
       "  66    309    202   281   186     12       11        16        5\n",
       "  51    260    182   248   171     12       11          \"–\"      \"–\"\n",
       "  40    239    160   226   149     13       11          \"-\"      \"-\"\n",
       "  23    176    110   168   108      8        2          \"–\"      \"–\"\n",
       "   9    130     82   122    80      8        2          \"–\"      \"–\"\n",
       "   0     49     29    49    29       \"–\"      \"–\"       \"–\"      \"–\""
      ]
     },
     "execution_count": 81,
     "metadata": {},
     "output_type": "execute_result"
    }
   ],
   "source": [
    "using DelimitedFiles\n",
    "indata = DelimitedFiles.readdlm(\"wikipediaEVDdatesconverted.csv\", ',')"
   ]
  },
  {
   "cell_type": "code",
   "execution_count": 86,
   "id": "32a66c34-70a4-4a91-b66b-32d824b28aaf",
   "metadata": {},
   "outputs": [
    {
     "data": {
      "image/png": "[encoded data removed]",
      "image/svg+xml": [
       "<?xml version=\"1.0\" encoding=\"utf-8\"?>\n",
       "<svg xmlns=\"http://www.w3.org/2000/svg\" xmlns:xlink=\"http://www.w3.org/1999/xlink\" width=\"600\" height=\"400\" viewBox=\"0 0 2400 1600\">\n",
       "<defs>\n",
       "  <clipPath id=\"clip480\">\n",
       "    <rect x=\"0\" y=\"0\" width=\"2400\" height=\"1600\"/>\n",
       "  </clipPath>\n",
       "</defs>\n",
       "<path clip-path=\"url(#clip480)\" d=\"M0 1600 L2400 1600 L2400 0 L0 0  Z\" fill=\"#ffffff\" fill-rule=\"evenodd\" fill-opacity=\"1\"/>\n",
       "<defs>\n",
       "  <clipPath id=\"clip481\">\n",
       "    <rect x=\"480\" y=\"0\" width=\"1681\" height=\"1600\"/>\n",
       "  </clipPath>\n",
       "</defs>\n",
       "<path clip-path=\"url(#clip480)\" d=\"M193.936 1486.45 L2352.76 1486.45 L2352.76 47.2441 L193.936 47.2441  Z\" fill=\"#ffffff\" fill-rule=\"evenodd\" fill-opacity=\"1\"/>\n",
       "<defs>\n",
       "  <clipPath id=\"clip482\">\n",
       "    <rect x=\"193\" y=\"47\" width=\"2160\" height=\"1440\"/>\n",
       "  </clipPath>\n",
       "</defs>\n",
       "<polyline clip-path=\"url(#clip482)\" style=\"stroke:#000000; stroke-linecap:round; stroke-linejoin:round; stroke-width:2; stroke-opacity:0.1; fill:none\" points=\"255.035,1486.45 255.035,47.2441 \"/>\n",
       "<polyline clip-path=\"url(#clip482)\" style=\"stroke:#000000; stroke-linecap:round; stroke-linejoin:round; stroke-width:2; stroke-opacity:0.1; fill:none\" points=\"594.472,1486.45 594.472,47.2441 \"/>\n",
       "<polyline clip-path=\"url(#clip482)\" style=\"stroke:#000000; stroke-linecap:round; stroke-linejoin:round; stroke-width:2; stroke-opacity:0.1; fill:none\" points=\"933.909,1486.45 933.909,47.2441 \"/>\n",
       "<polyline clip-path=\"url(#clip482)\" style=\"stroke:#000000; stroke-linecap:round; stroke-linejoin:round; stroke-width:2; stroke-opacity:0.1; fill:none\" points=\"1273.35,1486.45 1273.35,47.2441 \"/>\n",
       "<polyline clip-path=\"url(#clip482)\" style=\"stroke:#000000; stroke-linecap:round; stroke-linejoin:round; stroke-width:2; stroke-opacity:0.1; fill:none\" points=\"1612.78,1486.45 1612.78,47.2441 \"/>\n",
       "<polyline clip-path=\"url(#clip482)\" style=\"stroke:#000000; stroke-linecap:round; stroke-linejoin:round; stroke-width:2; stroke-opacity:0.1; fill:none\" points=\"1952.22,1486.45 1952.22,47.2441 \"/>\n",
       "<polyline clip-path=\"url(#clip482)\" style=\"stroke:#000000; stroke-linecap:round; stroke-linejoin:round; stroke-width:2; stroke-opacity:0.1; fill:none\" points=\"2291.66,1486.45 2291.66,47.2441 \"/>\n",
       "<polyline clip-path=\"url(#clip480)\" style=\"stroke:#000000; stroke-linecap:round; stroke-linejoin:round; stroke-width:4; stroke-opacity:1; fill:none\" points=\"193.936,1486.45 2352.76,1486.45 \"/>\n",
       "<polyline clip-path=\"url(#clip480)\" style=\"stroke:#000000; stroke-linecap:round; stroke-linejoin:round; stroke-width:4; stroke-opacity:1; fill:none\" points=\"255.035,1486.45 255.035,1467.55 \"/>\n",
       "<polyline clip-path=\"url(#clip480)\" style=\"stroke:#000000; stroke-linecap:round; stroke-linejoin:round; stroke-width:4; stroke-opacity:1; fill:none\" points=\"594.472,1486.45 594.472,1467.55 \"/>\n",
       "<polyline clip-path=\"url(#clip480)\" style=\"stroke:#000000; stroke-linecap:round; stroke-linejoin:round; stroke-width:4; stroke-opacity:1; fill:none\" points=\"933.909,1486.45 933.909,1467.55 \"/>\n",
       "<polyline clip-path=\"url(#clip480)\" style=\"stroke:#000000; stroke-linecap:round; stroke-linejoin:round; stroke-width:4; stroke-opacity:1; fill:none\" points=\"1273.35,1486.45 1273.35,1467.55 \"/>\n",
       "<polyline clip-path=\"url(#clip480)\" style=\"stroke:#000000; stroke-linecap:round; stroke-linejoin:round; stroke-width:4; stroke-opacity:1; fill:none\" points=\"1612.78,1486.45 1612.78,1467.55 \"/>\n",
       "<polyline clip-path=\"url(#clip480)\" style=\"stroke:#000000; stroke-linecap:round; stroke-linejoin:round; stroke-width:4; stroke-opacity:1; fill:none\" points=\"1952.22,1486.45 1952.22,1467.55 \"/>\n",
       "<polyline clip-path=\"url(#clip480)\" style=\"stroke:#000000; stroke-linecap:round; stroke-linejoin:round; stroke-width:4; stroke-opacity:1; fill:none\" points=\"2291.66,1486.45 2291.66,1467.55 \"/>\n",
       "<path clip-path=\"url(#clip480)\" d=\"M245.417 1544.91 L253.056 1544.91 L253.056 1518.55 L244.745 1520.21 L244.745 1515.95 L253.009 1514.29 L257.685 1514.29 L257.685 1544.91 L265.324 1544.91 L265.324 1548.85 L245.417 1548.85 L245.417 1544.91 Z\" fill=\"#000000\" fill-rule=\"nonzero\" fill-opacity=\"1\" /><path clip-path=\"url(#clip480)\" d=\"M589.125 1544.91 L605.444 1544.91 L605.444 1548.85 L583.5 1548.85 L583.5 1544.91 Q586.162 1542.16 590.745 1537.53 Q595.351 1532.88 596.532 1531.53 Q598.777 1529.01 599.657 1527.27 Q600.56 1525.51 600.56 1523.82 Q600.56 1521.07 598.615 1519.33 Q596.694 1517.6 593.592 1517.6 Q591.393 1517.6 588.939 1518.36 Q586.509 1519.13 583.731 1520.68 L583.731 1515.95 Q586.555 1514.82 589.009 1514.24 Q591.463 1513.66 593.5 1513.66 Q598.87 1513.66 602.064 1516.35 Q605.259 1519.03 605.259 1523.52 Q605.259 1525.65 604.449 1527.57 Q603.662 1529.47 601.555 1532.07 Q600.976 1532.74 597.875 1535.95 Q594.773 1539.15 589.125 1544.91 Z\" fill=\"#000000\" fill-rule=\"nonzero\" fill-opacity=\"1\" /><path clip-path=\"url(#clip480)\" d=\"M938.157 1530.21 Q941.513 1530.93 943.388 1533.2 Q945.286 1535.47 945.286 1538.8 Q945.286 1543.92 941.768 1546.72 Q938.249 1549.52 931.768 1549.52 Q929.592 1549.52 927.277 1549.08 Q924.985 1548.66 922.532 1547.81 L922.532 1543.29 Q924.476 1544.43 926.791 1545.01 Q929.106 1545.58 931.629 1545.58 Q936.027 1545.58 938.319 1543.85 Q940.633 1542.11 940.633 1538.8 Q940.633 1535.75 938.481 1534.03 Q936.351 1532.3 932.532 1532.3 L928.504 1532.3 L928.504 1528.45 L932.717 1528.45 Q936.166 1528.45 937.994 1527.09 Q939.823 1525.7 939.823 1523.11 Q939.823 1520.45 937.925 1519.03 Q936.05 1517.6 932.532 1517.6 Q930.61 1517.6 928.411 1518.01 Q926.212 1518.43 923.573 1519.31 L923.573 1515.14 Q926.235 1514.4 928.55 1514.03 Q930.888 1513.66 932.948 1513.66 Q938.272 1513.66 941.374 1516.09 Q944.476 1518.5 944.476 1522.62 Q944.476 1525.49 942.832 1527.48 Q941.189 1529.45 938.157 1530.21 Z\" fill=\"#000000\" fill-rule=\"nonzero\" fill-opacity=\"1\" /><path clip-path=\"url(#clip480)\" d=\"M1276.36 1518.36 L1264.55 1536.81 L1276.36 1536.81 L1276.36 1518.36 M1275.13 1514.29 L1281.01 1514.29 L1281.01 1536.81 L1285.94 1536.81 L1285.94 1540.7 L1281.01 1540.7 L1281.01 1548.85 L1276.36 1548.85 L1276.36 1540.7 L1260.75 1540.7 L1260.75 1536.19 L1275.13 1514.29 Z\" fill=\"#000000\" fill-rule=\"nonzero\" fill-opacity=\"1\" /><path clip-path=\"url(#clip480)\" d=\"M1603.06 1514.29 L1621.42 1514.29 L1621.42 1518.22 L1607.34 1518.22 L1607.34 1526.7 Q1608.36 1526.35 1609.38 1526.19 Q1610.4 1526 1611.42 1526 Q1617.2 1526 1620.58 1529.17 Q1623.96 1532.34 1623.96 1537.76 Q1623.96 1543.34 1620.49 1546.44 Q1617.02 1549.52 1610.7 1549.52 Q1608.52 1549.52 1606.26 1549.15 Q1604.01 1548.78 1601.6 1548.04 L1601.6 1543.34 Q1603.69 1544.47 1605.91 1545.03 Q1608.13 1545.58 1610.61 1545.58 Q1614.61 1545.58 1616.95 1543.48 Q1619.29 1541.37 1619.29 1537.76 Q1619.29 1534.15 1616.95 1532.04 Q1614.61 1529.94 1610.61 1529.94 Q1608.73 1529.94 1606.86 1530.35 Q1605.01 1530.77 1603.06 1531.65 L1603.06 1514.29 Z\" fill=\"#000000\" fill-rule=\"nonzero\" fill-opacity=\"1\" /><path clip-path=\"url(#clip480)\" d=\"M1952.63 1529.7 Q1949.48 1529.7 1947.63 1531.86 Q1945.8 1534.01 1945.8 1537.76 Q1945.8 1541.49 1947.63 1543.66 Q1949.48 1545.82 1952.63 1545.82 Q1955.77 1545.82 1957.6 1543.66 Q1959.45 1541.49 1959.45 1537.76 Q1959.45 1534.01 1957.6 1531.86 Q1955.77 1529.7 1952.63 1529.7 M1961.91 1515.05 L1961.91 1519.31 Q1960.15 1518.48 1958.34 1518.04 Q1956.56 1517.6 1954.8 1517.6 Q1950.17 1517.6 1947.72 1520.72 Q1945.29 1523.85 1944.94 1530.17 Q1946.31 1528.15 1948.37 1527.09 Q1950.43 1526 1952.9 1526 Q1958.11 1526 1961.12 1529.17 Q1964.15 1532.32 1964.15 1537.76 Q1964.15 1543.08 1961 1546.3 Q1957.86 1549.52 1952.63 1549.52 Q1946.63 1549.52 1943.46 1544.94 Q1940.29 1540.33 1940.29 1531.6 Q1940.29 1523.41 1944.18 1518.55 Q1948.07 1513.66 1954.62 1513.66 Q1956.38 1513.66 1958.16 1514.01 Q1959.96 1514.36 1961.91 1515.05 Z\" fill=\"#000000\" fill-rule=\"nonzero\" fill-opacity=\"1\" /><path clip-path=\"url(#clip480)\" d=\"M2280.55 1514.29 L2302.77 1514.29 L2302.77 1516.28 L2290.22 1548.85 L2285.34 1548.85 L2297.14 1518.22 L2280.55 1518.22 L2280.55 1514.29 Z\" fill=\"#000000\" fill-rule=\"nonzero\" fill-opacity=\"1\" /><polyline clip-path=\"url(#clip482)\" style=\"stroke:#000000; stroke-linecap:round; stroke-linejoin:round; stroke-width:2; stroke-opacity:0.1; fill:none\" points=\"193.936,1445.72 2352.76,1445.72 \"/>\n",
       "<polyline clip-path=\"url(#clip482)\" style=\"stroke:#000000; stroke-linecap:round; stroke-linejoin:round; stroke-width:2; stroke-opacity:0.1; fill:none\" points=\"193.936,1144 2352.76,1144 \"/>\n",
       "<polyline clip-path=\"url(#clip482)\" style=\"stroke:#000000; stroke-linecap:round; stroke-linejoin:round; stroke-width:2; stroke-opacity:0.1; fill:none\" points=\"193.936,842.276 2352.76,842.276 \"/>\n",
       "<polyline clip-path=\"url(#clip482)\" style=\"stroke:#000000; stroke-linecap:round; stroke-linejoin:round; stroke-width:2; stroke-opacity:0.1; fill:none\" points=\"193.936,540.556 2352.76,540.556 \"/>\n",
       "<polyline clip-path=\"url(#clip482)\" style=\"stroke:#000000; stroke-linecap:round; stroke-linejoin:round; stroke-width:2; stroke-opacity:0.1; fill:none\" points=\"193.936,238.836 2352.76,238.836 \"/>\n",
       "<polyline clip-path=\"url(#clip480)\" style=\"stroke:#000000; stroke-linecap:round; stroke-linejoin:round; stroke-width:4; stroke-opacity:1; fill:none\" points=\"193.936,1486.45 193.936,47.2441 \"/>\n",
       "<polyline clip-path=\"url(#clip480)\" style=\"stroke:#000000; stroke-linecap:round; stroke-linejoin:round; stroke-width:4; stroke-opacity:1; fill:none\" points=\"193.936,1445.72 212.834,1445.72 \"/>\n",
       "<polyline clip-path=\"url(#clip480)\" style=\"stroke:#000000; stroke-linecap:round; stroke-linejoin:round; stroke-width:4; stroke-opacity:1; fill:none\" points=\"193.936,1144 212.834,1144 \"/>\n",
       "<polyline clip-path=\"url(#clip480)\" style=\"stroke:#000000; stroke-linecap:round; stroke-linejoin:round; stroke-width:4; stroke-opacity:1; fill:none\" points=\"193.936,842.276 212.834,842.276 \"/>\n",
       "<polyline clip-path=\"url(#clip480)\" style=\"stroke:#000000; stroke-linecap:round; stroke-linejoin:round; stroke-width:4; stroke-opacity:1; fill:none\" points=\"193.936,540.556 212.834,540.556 \"/>\n",
       "<polyline clip-path=\"url(#clip480)\" style=\"stroke:#000000; stroke-linecap:round; stroke-linejoin:round; stroke-width:4; stroke-opacity:1; fill:none\" points=\"193.936,238.836 212.834,238.836 \"/>\n",
       "<path clip-path=\"url(#clip480)\" d=\"M50.9921 1446.17 L80.6679 1446.17 L80.6679 1450.1 L50.9921 1450.1 L50.9921 1446.17 Z\" fill=\"#000000\" fill-rule=\"nonzero\" fill-opacity=\"1\" /><path clip-path=\"url(#clip480)\" d=\"M94.7882 1459.06 L111.108 1459.06 L111.108 1463 L89.1632 1463 L89.1632 1459.06 Q91.8252 1456.31 96.4085 1451.68 Q101.015 1447.02 102.196 1445.68 Q104.441 1443.16 105.321 1441.42 Q106.223 1439.66 106.223 1437.97 Q106.223 1435.22 104.279 1433.48 Q102.358 1431.75 99.2558 1431.75 Q97.0567 1431.75 94.603 1432.51 Q92.1725 1433.27 89.3947 1434.82 L89.3947 1430.1 Q92.2188 1428.97 94.6724 1428.39 Q97.1261 1427.81 99.1632 1427.81 Q104.534 1427.81 107.728 1430.5 Q110.922 1433.18 110.922 1437.67 Q110.922 1439.8 110.112 1441.72 Q109.325 1443.62 107.219 1446.21 Q106.64 1446.88 103.538 1450.1 Q100.436 1453.3 94.7882 1459.06 Z\" fill=\"#000000\" fill-rule=\"nonzero\" fill-opacity=\"1\" /><path clip-path=\"url(#clip480)\" d=\"M120.922 1457.12 L125.807 1457.12 L125.807 1463 L120.922 1463 L120.922 1457.12 Z\" fill=\"#000000\" fill-rule=\"nonzero\" fill-opacity=\"1\" /><path clip-path=\"url(#clip480)\" d=\"M145.992 1431.51 Q142.381 1431.51 140.552 1435.08 Q138.746 1438.62 138.746 1445.75 Q138.746 1452.86 140.552 1456.42 Q142.381 1459.96 145.992 1459.96 Q149.626 1459.96 151.431 1456.42 Q153.26 1452.86 153.26 1445.75 Q153.26 1438.62 151.431 1435.08 Q149.626 1431.51 145.992 1431.51 M145.992 1427.81 Q151.802 1427.81 154.857 1432.42 Q157.936 1437 157.936 1445.75 Q157.936 1454.48 154.857 1459.08 Q151.802 1463.67 145.992 1463.67 Q140.181 1463.67 137.103 1459.08 Q134.047 1454.48 134.047 1445.75 Q134.047 1437 137.103 1432.42 Q140.181 1427.81 145.992 1427.81 Z\" fill=\"#000000\" fill-rule=\"nonzero\" fill-opacity=\"1\" /><path clip-path=\"url(#clip480)\" d=\"M51.9875 1144.45 L81.6633 1144.45 L81.6633 1148.38 L51.9875 1148.38 L51.9875 1144.45 Z\" fill=\"#000000\" fill-rule=\"nonzero\" fill-opacity=\"1\" /><path clip-path=\"url(#clip480)\" d=\"M92.566 1157.34 L100.205 1157.34 L100.205 1130.98 L91.8947 1132.64 L91.8947 1128.38 L100.159 1126.72 L104.834 1126.72 L104.834 1157.34 L112.473 1157.34 L112.473 1161.28 L92.566 1161.28 L92.566 1157.34 Z\" fill=\"#000000\" fill-rule=\"nonzero\" fill-opacity=\"1\" /><path clip-path=\"url(#clip480)\" d=\"M121.918 1155.4 L126.802 1155.4 L126.802 1161.28 L121.918 1161.28 L121.918 1155.4 Z\" fill=\"#000000\" fill-rule=\"nonzero\" fill-opacity=\"1\" /><path clip-path=\"url(#clip480)\" d=\"M137.033 1126.72 L155.39 1126.72 L155.39 1130.65 L141.316 1130.65 L141.316 1139.12 Q142.334 1138.78 143.353 1138.61 Q144.371 1138.43 145.39 1138.43 Q151.177 1138.43 154.556 1141.6 Q157.936 1144.77 157.936 1150.19 Q157.936 1155.77 154.464 1158.87 Q150.992 1161.95 144.672 1161.95 Q142.496 1161.95 140.228 1161.58 Q137.982 1161.21 135.575 1160.47 L135.575 1155.77 Q137.658 1156.9 139.881 1157.46 Q142.103 1158.01 144.58 1158.01 Q148.584 1158.01 150.922 1155.91 Q153.26 1153.8 153.26 1150.19 Q153.26 1146.58 150.922 1144.47 Q148.584 1142.36 144.58 1142.36 Q142.705 1142.36 140.83 1142.78 Q138.978 1143.2 137.033 1144.08 L137.033 1126.72 Z\" fill=\"#000000\" fill-rule=\"nonzero\" fill-opacity=\"1\" /><path clip-path=\"url(#clip480)\" d=\"M50.9921 842.727 L80.6679 842.727 L80.6679 846.663 L50.9921 846.663 L50.9921 842.727 Z\" fill=\"#000000\" fill-rule=\"nonzero\" fill-opacity=\"1\" /><path clip-path=\"url(#clip480)\" d=\"M91.5706 855.621 L99.2095 855.621 L99.2095 829.255 L90.8993 830.922 L90.8993 826.663 L99.1632 824.996 L103.839 824.996 L103.839 855.621 L111.478 855.621 L111.478 859.556 L91.5706 859.556 L91.5706 855.621 Z\" fill=\"#000000\" fill-rule=\"nonzero\" fill-opacity=\"1\" /><path clip-path=\"url(#clip480)\" d=\"M120.922 853.676 L125.807 853.676 L125.807 859.556 L120.922 859.556 L120.922 853.676 Z\" fill=\"#000000\" fill-rule=\"nonzero\" fill-opacity=\"1\" /><path clip-path=\"url(#clip480)\" d=\"M145.992 828.075 Q142.381 828.075 140.552 831.639 Q138.746 835.181 138.746 842.311 Q138.746 849.417 140.552 852.982 Q142.381 856.524 145.992 856.524 Q149.626 856.524 151.431 852.982 Q153.26 849.417 153.26 842.311 Q153.26 835.181 151.431 831.639 Q149.626 828.075 145.992 828.075 M145.992 824.371 Q151.802 824.371 154.857 828.977 Q157.936 833.561 157.936 842.311 Q157.936 851.037 154.857 855.644 Q151.802 860.227 145.992 860.227 Q140.181 860.227 137.103 855.644 Q134.047 851.037 134.047 842.311 Q134.047 833.561 137.103 828.977 Q140.181 824.371 145.992 824.371 Z\" fill=\"#000000\" fill-rule=\"nonzero\" fill-opacity=\"1\" /><path clip-path=\"url(#clip480)\" d=\"M51.9875 541.007 L81.6633 541.007 L81.6633 544.943 L51.9875 544.943 L51.9875 541.007 Z\" fill=\"#000000\" fill-rule=\"nonzero\" fill-opacity=\"1\" /><path clip-path=\"url(#clip480)\" d=\"M101.756 526.355 Q98.1447 526.355 96.316 529.92 Q94.5104 533.461 94.5104 540.591 Q94.5104 547.697 96.316 551.262 Q98.1447 554.804 101.756 554.804 Q105.39 554.804 107.196 551.262 Q109.024 547.697 109.024 540.591 Q109.024 533.461 107.196 529.92 Q105.39 526.355 101.756 526.355 M101.756 522.651 Q107.566 522.651 110.621 527.258 Q113.7 531.841 113.7 540.591 Q113.7 549.318 110.621 553.924 Q107.566 558.507 101.756 558.507 Q95.9456 558.507 92.8669 553.924 Q89.8114 549.318 89.8114 540.591 Q89.8114 531.841 92.8669 527.258 Q95.9456 522.651 101.756 522.651 Z\" fill=\"#000000\" fill-rule=\"nonzero\" fill-opacity=\"1\" /><path clip-path=\"url(#clip480)\" d=\"M121.918 551.956 L126.802 551.956 L126.802 557.836 L121.918 557.836 L121.918 551.956 Z\" fill=\"#000000\" fill-rule=\"nonzero\" fill-opacity=\"1\" /><path clip-path=\"url(#clip480)\" d=\"M137.033 523.276 L155.39 523.276 L155.39 527.211 L141.316 527.211 L141.316 535.683 Q142.334 535.336 143.353 535.174 Q144.371 534.989 145.39 534.989 Q151.177 534.989 154.556 538.16 Q157.936 541.332 157.936 546.748 Q157.936 552.327 154.464 555.429 Q150.992 558.507 144.672 558.507 Q142.496 558.507 140.228 558.137 Q137.982 557.767 135.575 557.026 L135.575 552.327 Q137.658 553.461 139.881 554.017 Q142.103 554.572 144.58 554.572 Q148.584 554.572 150.922 552.466 Q153.26 550.359 153.26 546.748 Q153.26 543.137 150.922 541.031 Q148.584 538.924 144.58 538.924 Q142.705 538.924 140.83 539.341 Q138.978 539.757 137.033 540.637 L137.033 523.276 Z\" fill=\"#000000\" fill-rule=\"nonzero\" fill-opacity=\"1\" /><path clip-path=\"url(#clip480)\" d=\"M100.76 224.635 Q97.1493 224.635 95.3206 228.2 Q93.515 231.741 93.515 238.871 Q93.515 245.977 95.3206 249.542 Q97.1493 253.084 100.76 253.084 Q104.395 253.084 106.2 249.542 Q108.029 245.977 108.029 238.871 Q108.029 231.741 106.2 228.2 Q104.395 224.635 100.76 224.635 M100.76 220.931 Q106.571 220.931 109.626 225.538 Q112.705 230.121 112.705 238.871 Q112.705 247.598 109.626 252.204 Q106.571 256.788 100.76 256.788 Q94.9502 256.788 91.8715 252.204 Q88.816 247.598 88.816 238.871 Q88.816 230.121 91.8715 225.538 Q94.9502 220.931 100.76 220.931 Z\" fill=\"#000000\" fill-rule=\"nonzero\" fill-opacity=\"1\" /><path clip-path=\"url(#clip480)\" d=\"M120.922 250.237 L125.807 250.237 L125.807 256.116 L120.922 256.116 L120.922 250.237 Z\" fill=\"#000000\" fill-rule=\"nonzero\" fill-opacity=\"1\" /><path clip-path=\"url(#clip480)\" d=\"M145.992 224.635 Q142.381 224.635 140.552 228.2 Q138.746 231.741 138.746 238.871 Q138.746 245.977 140.552 249.542 Q142.381 253.084 145.992 253.084 Q149.626 253.084 151.431 249.542 Q153.26 245.977 153.26 238.871 Q153.26 231.741 151.431 228.2 Q149.626 224.635 145.992 224.635 M145.992 220.931 Q151.802 220.931 154.857 225.538 Q157.936 230.121 157.936 238.871 Q157.936 247.598 154.857 252.204 Q151.802 256.788 145.992 256.788 Q140.181 256.788 137.103 252.204 Q134.047 247.598 134.047 238.871 Q134.047 230.121 137.103 225.538 Q140.181 220.931 145.992 220.931 Z\" fill=\"#000000\" fill-rule=\"nonzero\" fill-opacity=\"1\" /><polyline clip-path=\"url(#clip482)\" style=\"stroke:#009af9; stroke-linecap:round; stroke-linejoin:round; stroke-width:4; stroke-opacity:1; fill:none\" points=\"255.035,87.9763 594.472,842.276 933.909,1294.86 1273.35,1445.72 1612.78,1294.86 1952.22,842.276 2291.66,87.9763 \"/>\n",
       "<path clip-path=\"url(#clip480)\" d=\"M2012.48 1438.47 L2280.8 1438.47 L2280.8 1334.79 L2012.48 1334.79  Z\" fill=\"#ffffff\" fill-rule=\"evenodd\" fill-opacity=\"1\"/>\n",
       "<polyline clip-path=\"url(#clip480)\" style=\"stroke:#000000; stroke-linecap:round; stroke-linejoin:round; stroke-width:4; stroke-opacity:1; fill:none\" points=\"2012.48,1438.47 2280.8,1438.47 2280.8,1334.79 2012.48,1334.79 2012.48,1438.47 \"/>\n",
       "<polyline clip-path=\"url(#clip480)\" style=\"stroke:#009af9; stroke-linecap:round; stroke-linejoin:round; stroke-width:4; stroke-opacity:1; fill:none\" points=\"2036.47,1386.63 2180.39,1386.63 \"/>\n",
       "<path clip-path=\"url(#clip480)\" d=\"M2218.22 1406.32 Q2216.42 1410.95 2214.7 1412.36 Q2212.99 1413.78 2210.12 1413.78 L2206.72 1413.78 L2206.72 1410.21 L2209.22 1410.21 Q2210.98 1410.21 2211.95 1409.38 Q2212.92 1408.54 2214.1 1405.44 L2214.86 1403.5 L2204.38 1377.99 L2208.89 1377.99 L2216.99 1398.27 L2225.1 1377.99 L2229.61 1377.99 L2218.22 1406.32 Z\" fill=\"#000000\" fill-rule=\"nonzero\" fill-opacity=\"1\" /><path clip-path=\"url(#clip480)\" d=\"M2236.9 1399.98 L2244.54 1399.98 L2244.54 1373.61 L2236.23 1375.28 L2236.23 1371.02 L2244.49 1369.35 L2249.17 1369.35 L2249.17 1399.98 L2256.81 1399.98 L2256.81 1403.91 L2236.9 1403.91 L2236.9 1399.98 Z\" fill=\"#000000\" fill-rule=\"nonzero\" fill-opacity=\"1\" /></svg>\n"
      ],
      "text/html": [
       "<?xml version=\"1.0\" encoding=\"utf-8\"?>\n",
       "<svg xmlns=\"http://www.w3.org/2000/svg\" xmlns:xlink=\"http://www.w3.org/1999/xlink\" width=\"600\" height=\"400\" viewBox=\"0 0 2400 1600\">\n",
       "<defs>\n",
       "  <clipPath id=\"clip530\">\n",
       "    <rect x=\"0\" y=\"0\" width=\"2400\" height=\"1600\"/>\n",
       "  </clipPath>\n",
       "</defs>\n",
       "<path clip-path=\"url(#clip530)\" d=\"M0 1600 L2400 1600 L2400 0 L0 0  Z\" fill=\"#ffffff\" fill-rule=\"evenodd\" fill-opacity=\"1\"/>\n",
       "<defs>\n",
       "  <clipPath id=\"clip531\">\n",
       "    <rect x=\"480\" y=\"0\" width=\"1681\" height=\"1600\"/>\n",
       "  </clipPath>\n",
       "</defs>\n",
       "<path clip-path=\"url(#clip530)\" d=\"M193.936 1486.45 L2352.76 1486.45 L2352.76 47.2441 L193.936 47.2441  Z\" fill=\"#ffffff\" fill-rule=\"evenodd\" fill-opacity=\"1\"/>\n",
       "<defs>\n",
       "  <clipPath id=\"clip532\">\n",
       "    <rect x=\"193\" y=\"47\" width=\"2160\" height=\"1440\"/>\n",
       "  </clipPath>\n",
       "</defs>\n",
       "<polyline clip-path=\"url(#clip532)\" style=\"stroke:#000000; stroke-linecap:round; stroke-linejoin:round; stroke-width:2; stroke-opacity:0.1; fill:none\" points=\"255.035,1486.45 255.035,47.2441 \"/>\n",
       "<polyline clip-path=\"url(#clip532)\" style=\"stroke:#000000; stroke-linecap:round; stroke-linejoin:round; stroke-width:2; stroke-opacity:0.1; fill:none\" points=\"594.472,1486.45 594.472,47.2441 \"/>\n",
       "<polyline clip-path=\"url(#clip532)\" style=\"stroke:#000000; stroke-linecap:round; stroke-linejoin:round; stroke-width:2; stroke-opacity:0.1; fill:none\" points=\"933.909,1486.45 933.909,47.2441 \"/>\n",
       "<polyline clip-path=\"url(#clip532)\" style=\"stroke:#000000; stroke-linecap:round; stroke-linejoin:round; stroke-width:2; stroke-opacity:0.1; fill:none\" points=\"1273.35,1486.45 1273.35,47.2441 \"/>\n",
       "<polyline clip-path=\"url(#clip532)\" style=\"stroke:#000000; stroke-linecap:round; stroke-linejoin:round; stroke-width:2; stroke-opacity:0.1; fill:none\" points=\"1612.78,1486.45 1612.78,47.2441 \"/>\n",
       "<polyline clip-path=\"url(#clip532)\" style=\"stroke:#000000; stroke-linecap:round; stroke-linejoin:round; stroke-width:2; stroke-opacity:0.1; fill:none\" points=\"1952.22,1486.45 1952.22,47.2441 \"/>\n",
       "<polyline clip-path=\"url(#clip532)\" style=\"stroke:#000000; stroke-linecap:round; stroke-linejoin:round; stroke-width:2; stroke-opacity:0.1; fill:none\" points=\"2291.66,1486.45 2291.66,47.2441 \"/>\n",
       "<polyline clip-path=\"url(#clip530)\" style=\"stroke:#000000; stroke-linecap:round; stroke-linejoin:round; stroke-width:4; stroke-opacity:1; fill:none\" points=\"193.936,1486.45 2352.76,1486.45 \"/>\n",
       "<polyline clip-path=\"url(#clip530)\" style=\"stroke:#000000; stroke-linecap:round; stroke-linejoin:round; stroke-width:4; stroke-opacity:1; fill:none\" points=\"255.035,1486.45 255.035,1467.55 \"/>\n",
       "<polyline clip-path=\"url(#clip530)\" style=\"stroke:#000000; stroke-linecap:round; stroke-linejoin:round; stroke-width:4; stroke-opacity:1; fill:none\" points=\"594.472,1486.45 594.472,1467.55 \"/>\n",
       "<polyline clip-path=\"url(#clip530)\" style=\"stroke:#000000; stroke-linecap:round; stroke-linejoin:round; stroke-width:4; stroke-opacity:1; fill:none\" points=\"933.909,1486.45 933.909,1467.55 \"/>\n",
       "<polyline clip-path=\"url(#clip530)\" style=\"stroke:#000000; stroke-linecap:round; stroke-linejoin:round; stroke-width:4; stroke-opacity:1; fill:none\" points=\"1273.35,1486.45 1273.35,1467.55 \"/>\n",
       "<polyline clip-path=\"url(#clip530)\" style=\"stroke:#000000; stroke-linecap:round; stroke-linejoin:round; stroke-width:4; stroke-opacity:1; fill:none\" points=\"1612.78,1486.45 1612.78,1467.55 \"/>\n",
       "<polyline clip-path=\"url(#clip530)\" style=\"stroke:#000000; stroke-linecap:round; stroke-linejoin:round; stroke-width:4; stroke-opacity:1; fill:none\" points=\"1952.22,1486.45 1952.22,1467.55 \"/>\n",
       "<polyline clip-path=\"url(#clip530)\" style=\"stroke:#000000; stroke-linecap:round; stroke-linejoin:round; stroke-width:4; stroke-opacity:1; fill:none\" points=\"2291.66,1486.45 2291.66,1467.55 \"/>\n",
       "<path clip-path=\"url(#clip530)\" d=\"M245.417 1544.91 L253.056 1544.91 L253.056 1518.55 L244.745 1520.21 L244.745 1515.95 L253.009 1514.29 L257.685 1514.29 L257.685 1544.91 L265.324 1544.91 L265.324 1548.85 L245.417 1548.85 L245.417 1544.91 Z\" fill=\"#000000\" fill-rule=\"nonzero\" fill-opacity=\"1\" /><path clip-path=\"url(#clip530)\" d=\"M589.125 1544.91 L605.444 1544.91 L605.444 1548.85 L583.5 1548.85 L583.5 1544.91 Q586.162 1542.16 590.745 1537.53 Q595.351 1532.88 596.532 1531.53 Q598.777 1529.01 599.657 1527.27 Q600.56 1525.51 600.56 1523.82 Q600.56 1521.07 598.615 1519.33 Q596.694 1517.6 593.592 1517.6 Q591.393 1517.6 588.939 1518.36 Q586.509 1519.13 583.731 1520.68 L583.731 1515.95 Q586.555 1514.82 589.009 1514.24 Q591.463 1513.66 593.5 1513.66 Q598.87 1513.66 602.064 1516.35 Q605.259 1519.03 605.259 1523.52 Q605.259 1525.65 604.449 1527.57 Q603.662 1529.47 601.555 1532.07 Q600.976 1532.74 597.875 1535.95 Q594.773 1539.15 589.125 1544.91 Z\" fill=\"#000000\" fill-rule=\"nonzero\" fill-opacity=\"1\" /><path clip-path=\"url(#clip530)\" d=\"M938.157 1530.21 Q941.513 1530.93 943.388 1533.2 Q945.286 1535.47 945.286 1538.8 Q945.286 1543.92 941.768 1546.72 Q938.249 1549.52 931.768 1549.52 Q929.592 1549.52 927.277 1549.08 Q924.985 1548.66 922.532 1547.81 L922.532 1543.29 Q924.476 1544.43 926.791 1545.01 Q929.106 1545.58 931.629 1545.58 Q936.027 1545.58 938.319 1543.85 Q940.633 1542.11 940.633 1538.8 Q940.633 1535.75 938.481 1534.03 Q936.351 1532.3 932.532 1532.3 L928.504 1532.3 L928.504 1528.45 L932.717 1528.45 Q936.166 1528.45 937.994 1527.09 Q939.823 1525.7 939.823 1523.11 Q939.823 1520.45 937.925 1519.03 Q936.05 1517.6 932.532 1517.6 Q930.61 1517.6 928.411 1518.01 Q926.212 1518.43 923.573 1519.31 L923.573 1515.14 Q926.235 1514.4 928.55 1514.03 Q930.888 1513.66 932.948 1513.66 Q938.272 1513.66 941.374 1516.09 Q944.476 1518.5 944.476 1522.62 Q944.476 1525.49 942.832 1527.48 Q941.189 1529.45 938.157 1530.21 Z\" fill=\"#000000\" fill-rule=\"nonzero\" fill-opacity=\"1\" /><path clip-path=\"url(#clip530)\" d=\"M1276.36 1518.36 L1264.55 1536.81 L1276.36 1536.81 L1276.36 1518.36 M1275.13 1514.29 L1281.01 1514.29 L1281.01 1536.81 L1285.94 1536.81 L1285.94 1540.7 L1281.01 1540.7 L1281.01 1548.85 L1276.36 1548.85 L1276.36 1540.7 L1260.75 1540.7 L1260.75 1536.19 L1275.13 1514.29 Z\" fill=\"#000000\" fill-rule=\"nonzero\" fill-opacity=\"1\" /><path clip-path=\"url(#clip530)\" d=\"M1603.06 1514.29 L1621.42 1514.29 L1621.42 1518.22 L1607.34 1518.22 L1607.34 1526.7 Q1608.36 1526.35 1609.38 1526.19 Q1610.4 1526 1611.42 1526 Q1617.2 1526 1620.58 1529.17 Q1623.96 1532.34 1623.96 1537.76 Q1623.96 1543.34 1620.49 1546.44 Q1617.02 1549.52 1610.7 1549.52 Q1608.52 1549.52 1606.26 1549.15 Q1604.01 1548.78 1601.6 1548.04 L1601.6 1543.34 Q1603.69 1544.47 1605.91 1545.03 Q1608.13 1545.58 1610.61 1545.58 Q1614.61 1545.58 1616.95 1543.48 Q1619.29 1541.37 1619.29 1537.76 Q1619.29 1534.15 1616.95 1532.04 Q1614.61 1529.94 1610.61 1529.94 Q1608.73 1529.94 1606.86 1530.35 Q1605.01 1530.77 1603.06 1531.65 L1603.06 1514.29 Z\" fill=\"#000000\" fill-rule=\"nonzero\" fill-opacity=\"1\" /><path clip-path=\"url(#clip530)\" d=\"M1952.63 1529.7 Q1949.48 1529.7 1947.63 1531.86 Q1945.8 1534.01 1945.8 1537.76 Q1945.8 1541.49 1947.63 1543.66 Q1949.48 1545.82 1952.63 1545.82 Q1955.77 1545.82 1957.6 1543.66 Q1959.45 1541.49 1959.45 1537.76 Q1959.45 1534.01 1957.6 1531.86 Q1955.77 1529.7 1952.63 1529.7 M1961.91 1515.05 L1961.91 1519.31 Q1960.15 1518.48 1958.34 1518.04 Q1956.56 1517.6 1954.8 1517.6 Q1950.17 1517.6 1947.72 1520.72 Q1945.29 1523.85 1944.94 1530.17 Q1946.31 1528.15 1948.37 1527.09 Q1950.43 1526 1952.9 1526 Q1958.11 1526 1961.12 1529.17 Q1964.15 1532.32 1964.15 1537.76 Q1964.15 1543.08 1961 1546.3 Q1957.86 1549.52 1952.63 1549.52 Q1946.63 1549.52 1943.46 1544.94 Q1940.29 1540.33 1940.29 1531.6 Q1940.29 1523.41 1944.18 1518.55 Q1948.07 1513.66 1954.62 1513.66 Q1956.38 1513.66 1958.16 1514.01 Q1959.96 1514.36 1961.91 1515.05 Z\" fill=\"#000000\" fill-rule=\"nonzero\" fill-opacity=\"1\" /><path clip-path=\"url(#clip530)\" d=\"M2280.55 1514.29 L2302.77 1514.29 L2302.77 1516.28 L2290.22 1548.85 L2285.34 1548.85 L2297.14 1518.22 L2280.55 1518.22 L2280.55 1514.29 Z\" fill=\"#000000\" fill-rule=\"nonzero\" fill-opacity=\"1\" /><polyline clip-path=\"url(#clip532)\" style=\"stroke:#000000; stroke-linecap:round; stroke-linejoin:round; stroke-width:2; stroke-opacity:0.1; fill:none\" points=\"193.936,1445.72 2352.76,1445.72 \"/>\n",
       "<polyline clip-path=\"url(#clip532)\" style=\"stroke:#000000; stroke-linecap:round; stroke-linejoin:round; stroke-width:2; stroke-opacity:0.1; fill:none\" points=\"193.936,1144 2352.76,1144 \"/>\n",
       "<polyline clip-path=\"url(#clip532)\" style=\"stroke:#000000; stroke-linecap:round; stroke-linejoin:round; stroke-width:2; stroke-opacity:0.1; fill:none\" points=\"193.936,842.276 2352.76,842.276 \"/>\n",
       "<polyline clip-path=\"url(#clip532)\" style=\"stroke:#000000; stroke-linecap:round; stroke-linejoin:round; stroke-width:2; stroke-opacity:0.1; fill:none\" points=\"193.936,540.556 2352.76,540.556 \"/>\n",
       "<polyline clip-path=\"url(#clip532)\" style=\"stroke:#000000; stroke-linecap:round; stroke-linejoin:round; stroke-width:2; stroke-opacity:0.1; fill:none\" points=\"193.936,238.836 2352.76,238.836 \"/>\n",
       "<polyline clip-path=\"url(#clip530)\" style=\"stroke:#000000; stroke-linecap:round; stroke-linejoin:round; stroke-width:4; stroke-opacity:1; fill:none\" points=\"193.936,1486.45 193.936,47.2441 \"/>\n",
       "<polyline clip-path=\"url(#clip530)\" style=\"stroke:#000000; stroke-linecap:round; stroke-linejoin:round; stroke-width:4; stroke-opacity:1; fill:none\" points=\"193.936,1445.72 212.834,1445.72 \"/>\n",
       "<polyline clip-path=\"url(#clip530)\" style=\"stroke:#000000; stroke-linecap:round; stroke-linejoin:round; stroke-width:4; stroke-opacity:1; fill:none\" points=\"193.936,1144 212.834,1144 \"/>\n",
       "<polyline clip-path=\"url(#clip530)\" style=\"stroke:#000000; stroke-linecap:round; stroke-linejoin:round; stroke-width:4; stroke-opacity:1; fill:none\" points=\"193.936,842.276 212.834,842.276 \"/>\n",
       "<polyline clip-path=\"url(#clip530)\" style=\"stroke:#000000; stroke-linecap:round; stroke-linejoin:round; stroke-width:4; stroke-opacity:1; fill:none\" points=\"193.936,540.556 212.834,540.556 \"/>\n",
       "<polyline clip-path=\"url(#clip530)\" style=\"stroke:#000000; stroke-linecap:round; stroke-linejoin:round; stroke-width:4; stroke-opacity:1; fill:none\" points=\"193.936,238.836 212.834,238.836 \"/>\n",
       "<path clip-path=\"url(#clip530)\" d=\"M50.9921 1446.17 L80.6679 1446.17 L80.6679 1450.1 L50.9921 1450.1 L50.9921 1446.17 Z\" fill=\"#000000\" fill-rule=\"nonzero\" fill-opacity=\"1\" /><path clip-path=\"url(#clip530)\" d=\"M94.7882 1459.06 L111.108 1459.06 L111.108 1463 L89.1632 1463 L89.1632 1459.06 Q91.8252 1456.31 96.4085 1451.68 Q101.015 1447.02 102.196 1445.68 Q104.441 1443.16 105.321 1441.42 Q106.223 1439.66 106.223 1437.97 Q106.223 1435.22 104.279 1433.48 Q102.358 1431.75 99.2558 1431.75 Q97.0567 1431.75 94.603 1432.51 Q92.1725 1433.27 89.3947 1434.82 L89.3947 1430.1 Q92.2188 1428.97 94.6724 1428.39 Q97.1261 1427.81 99.1632 1427.81 Q104.534 1427.81 107.728 1430.5 Q110.922 1433.18 110.922 1437.67 Q110.922 1439.8 110.112 1441.72 Q109.325 1443.62 107.219 1446.21 Q106.64 1446.88 103.538 1450.1 Q100.436 1453.3 94.7882 1459.06 Z\" fill=\"#000000\" fill-rule=\"nonzero\" fill-opacity=\"1\" /><path clip-path=\"url(#clip530)\" d=\"M120.922 1457.12 L125.807 1457.12 L125.807 1463 L120.922 1463 L120.922 1457.12 Z\" fill=\"#000000\" fill-rule=\"nonzero\" fill-opacity=\"1\" /><path clip-path=\"url(#clip530)\" d=\"M145.992 1431.51 Q142.381 1431.51 140.552 1435.08 Q138.746 1438.62 138.746 1445.75 Q138.746 1452.86 140.552 1456.42 Q142.381 1459.96 145.992 1459.96 Q149.626 1459.96 151.431 1456.42 Q153.26 1452.86 153.26 1445.75 Q153.26 1438.62 151.431 1435.08 Q149.626 1431.51 145.992 1431.51 M145.992 1427.81 Q151.802 1427.81 154.857 1432.42 Q157.936 1437 157.936 1445.75 Q157.936 1454.48 154.857 1459.08 Q151.802 1463.67 145.992 1463.67 Q140.181 1463.67 137.103 1459.08 Q134.047 1454.48 134.047 1445.75 Q134.047 1437 137.103 1432.42 Q140.181 1427.81 145.992 1427.81 Z\" fill=\"#000000\" fill-rule=\"nonzero\" fill-opacity=\"1\" /><path clip-path=\"url(#clip530)\" d=\"M51.9875 1144.45 L81.6633 1144.45 L81.6633 1148.38 L51.9875 1148.38 L51.9875 1144.45 Z\" fill=\"#000000\" fill-rule=\"nonzero\" fill-opacity=\"1\" /><path clip-path=\"url(#clip530)\" d=\"M92.566 1157.34 L100.205 1157.34 L100.205 1130.98 L91.8947 1132.64 L91.8947 1128.38 L100.159 1126.72 L104.834 1126.72 L104.834 1157.34 L112.473 1157.34 L112.473 1161.28 L92.566 1161.28 L92.566 1157.34 Z\" fill=\"#000000\" fill-rule=\"nonzero\" fill-opacity=\"1\" /><path clip-path=\"url(#clip530)\" d=\"M121.918 1155.4 L126.802 1155.4 L126.802 1161.28 L121.918 1161.28 L121.918 1155.4 Z\" fill=\"#000000\" fill-rule=\"nonzero\" fill-opacity=\"1\" /><path clip-path=\"url(#clip530)\" d=\"M137.033 1126.72 L155.39 1126.72 L155.39 1130.65 L141.316 1130.65 L141.316 1139.12 Q142.334 1138.78 143.353 1138.61 Q144.371 1138.43 145.39 1138.43 Q151.177 1138.43 154.556 1141.6 Q157.936 1144.77 157.936 1150.19 Q157.936 1155.77 154.464 1158.87 Q150.992 1161.95 144.672 1161.95 Q142.496 1161.95 140.228 1161.58 Q137.982 1161.21 135.575 1160.47 L135.575 1155.77 Q137.658 1156.9 139.881 1157.46 Q142.103 1158.01 144.58 1158.01 Q148.584 1158.01 150.922 1155.91 Q153.26 1153.8 153.26 1150.19 Q153.26 1146.58 150.922 1144.47 Q148.584 1142.36 144.58 1142.36 Q142.705 1142.36 140.83 1142.78 Q138.978 1143.2 137.033 1144.08 L137.033 1126.72 Z\" fill=\"#000000\" fill-rule=\"nonzero\" fill-opacity=\"1\" /><path clip-path=\"url(#clip530)\" d=\"M50.9921 842.727 L80.6679 842.727 L80.6679 846.663 L50.9921 846.663 L50.9921 842.727 Z\" fill=\"#000000\" fill-rule=\"nonzero\" fill-opacity=\"1\" /><path clip-path=\"url(#clip530)\" d=\"M91.5706 855.621 L99.2095 855.621 L99.2095 829.255 L90.8993 830.922 L90.8993 826.663 L99.1632 824.996 L103.839 824.996 L103.839 855.621 L111.478 855.621 L111.478 859.556 L91.5706 859.556 L91.5706 855.621 Z\" fill=\"#000000\" fill-rule=\"nonzero\" fill-opacity=\"1\" /><path clip-path=\"url(#clip530)\" d=\"M120.922 853.676 L125.807 853.676 L125.807 859.556 L120.922 859.556 L120.922 853.676 Z\" fill=\"#000000\" fill-rule=\"nonzero\" fill-opacity=\"1\" /><path clip-path=\"url(#clip530)\" d=\"M145.992 828.075 Q142.381 828.075 140.552 831.639 Q138.746 835.181 138.746 842.311 Q138.746 849.417 140.552 852.982 Q142.381 856.524 145.992 856.524 Q149.626 856.524 151.431 852.982 Q153.26 849.417 153.26 842.311 Q153.26 835.181 151.431 831.639 Q149.626 828.075 145.992 828.075 M145.992 824.371 Q151.802 824.371 154.857 828.977 Q157.936 833.561 157.936 842.311 Q157.936 851.037 154.857 855.644 Q151.802 860.227 145.992 860.227 Q140.181 860.227 137.103 855.644 Q134.047 851.037 134.047 842.311 Q134.047 833.561 137.103 828.977 Q140.181 824.371 145.992 824.371 Z\" fill=\"#000000\" fill-rule=\"nonzero\" fill-opacity=\"1\" /><path clip-path=\"url(#clip530)\" d=\"M51.9875 541.007 L81.6633 541.007 L81.6633 544.943 L51.9875 544.943 L51.9875 541.007 Z\" fill=\"#000000\" fill-rule=\"nonzero\" fill-opacity=\"1\" /><path clip-path=\"url(#clip530)\" d=\"M101.756 526.355 Q98.1447 526.355 96.316 529.92 Q94.5104 533.461 94.5104 540.591 Q94.5104 547.697 96.316 551.262 Q98.1447 554.804 101.756 554.804 Q105.39 554.804 107.196 551.262 Q109.024 547.697 109.024 540.591 Q109.024 533.461 107.196 529.92 Q105.39 526.355 101.756 526.355 M101.756 522.651 Q107.566 522.651 110.621 527.258 Q113.7 531.841 113.7 540.591 Q113.7 549.318 110.621 553.924 Q107.566 558.507 101.756 558.507 Q95.9456 558.507 92.8669 553.924 Q89.8114 549.318 89.8114 540.591 Q89.8114 531.841 92.8669 527.258 Q95.9456 522.651 101.756 522.651 Z\" fill=\"#000000\" fill-rule=\"nonzero\" fill-opacity=\"1\" /><path clip-path=\"url(#clip530)\" d=\"M121.918 551.956 L126.802 551.956 L126.802 557.836 L121.918 557.836 L121.918 551.956 Z\" fill=\"#000000\" fill-rule=\"nonzero\" fill-opacity=\"1\" /><path clip-path=\"url(#clip530)\" d=\"M137.033 523.276 L155.39 523.276 L155.39 527.211 L141.316 527.211 L141.316 535.683 Q142.334 535.336 143.353 535.174 Q144.371 534.989 145.39 534.989 Q151.177 534.989 154.556 538.16 Q157.936 541.332 157.936 546.748 Q157.936 552.327 154.464 555.429 Q150.992 558.507 144.672 558.507 Q142.496 558.507 140.228 558.137 Q137.982 557.767 135.575 557.026 L135.575 552.327 Q137.658 553.461 139.881 554.017 Q142.103 554.572 144.58 554.572 Q148.584 554.572 150.922 552.466 Q153.26 550.359 153.26 546.748 Q153.26 543.137 150.922 541.031 Q148.584 538.924 144.58 538.924 Q142.705 538.924 140.83 539.341 Q138.978 539.757 137.033 540.637 L137.033 523.276 Z\" fill=\"#000000\" fill-rule=\"nonzero\" fill-opacity=\"1\" /><path clip-path=\"url(#clip530)\" d=\"M100.76 224.635 Q97.1493 224.635 95.3206 228.2 Q93.515 231.741 93.515 238.871 Q93.515 245.977 95.3206 249.542 Q97.1493 253.084 100.76 253.084 Q104.395 253.084 106.2 249.542 Q108.029 245.977 108.029 238.871 Q108.029 231.741 106.2 228.2 Q104.395 224.635 100.76 224.635 M100.76 220.931 Q106.571 220.931 109.626 225.538 Q112.705 230.121 112.705 238.871 Q112.705 247.598 109.626 252.204 Q106.571 256.788 100.76 256.788 Q94.9502 256.788 91.8715 252.204 Q88.816 247.598 88.816 238.871 Q88.816 230.121 91.8715 225.538 Q94.9502 220.931 100.76 220.931 Z\" fill=\"#000000\" fill-rule=\"nonzero\" fill-opacity=\"1\" /><path clip-path=\"url(#clip530)\" d=\"M120.922 250.237 L125.807 250.237 L125.807 256.116 L120.922 256.116 L120.922 250.237 Z\" fill=\"#000000\" fill-rule=\"nonzero\" fill-opacity=\"1\" /><path clip-path=\"url(#clip530)\" d=\"M145.992 224.635 Q142.381 224.635 140.552 228.2 Q138.746 231.741 138.746 238.871 Q138.746 245.977 140.552 249.542 Q142.381 253.084 145.992 253.084 Q149.626 253.084 151.431 249.542 Q153.26 245.977 153.26 238.871 Q153.26 231.741 151.431 228.2 Q149.626 224.635 145.992 224.635 M145.992 220.931 Q151.802 220.931 154.857 225.538 Q157.936 230.121 157.936 238.871 Q157.936 247.598 154.857 252.204 Q151.802 256.788 145.992 256.788 Q140.181 256.788 137.103 252.204 Q134.047 247.598 134.047 238.871 Q134.047 230.121 137.103 225.538 Q140.181 220.931 145.992 220.931 Z\" fill=\"#000000\" fill-rule=\"nonzero\" fill-opacity=\"1\" /><polyline clip-path=\"url(#clip532)\" style=\"stroke:#009af9; stroke-linecap:round; stroke-linejoin:round; stroke-width:4; stroke-opacity:1; fill:none\" points=\"255.035,87.9763 594.472,842.276 933.909,1294.86 1273.35,1445.72 1612.78,1294.86 1952.22,842.276 2291.66,87.9763 \"/>\n",
       "<path clip-path=\"url(#clip530)\" d=\"M2012.48 1438.47 L2280.8 1438.47 L2280.8 1334.79 L2012.48 1334.79  Z\" fill=\"#ffffff\" fill-rule=\"evenodd\" fill-opacity=\"1\"/>\n",
       "<polyline clip-path=\"url(#clip530)\" style=\"stroke:#000000; stroke-linecap:round; stroke-linejoin:round; stroke-width:4; stroke-opacity:1; fill:none\" points=\"2012.48,1438.47 2280.8,1438.47 2280.8,1334.79 2012.48,1334.79 2012.48,1438.47 \"/>\n",
       "<polyline clip-path=\"url(#clip530)\" style=\"stroke:#009af9; stroke-linecap:round; stroke-linejoin:round; stroke-width:4; stroke-opacity:1; fill:none\" points=\"2036.47,1386.63 2180.39,1386.63 \"/>\n",
       "<path clip-path=\"url(#clip530)\" d=\"M2218.22 1406.32 Q2216.42 1410.95 2214.7 1412.36 Q2212.99 1413.78 2210.12 1413.78 L2206.72 1413.78 L2206.72 1410.21 L2209.22 1410.21 Q2210.98 1410.21 2211.95 1409.38 Q2212.92 1408.54 2214.1 1405.44 L2214.86 1403.5 L2204.38 1377.99 L2208.89 1377.99 L2216.99 1398.27 L2225.1 1377.99 L2229.61 1377.99 L2218.22 1406.32 Z\" fill=\"#000000\" fill-rule=\"nonzero\" fill-opacity=\"1\" /><path clip-path=\"url(#clip530)\" d=\"M2236.9 1399.98 L2244.54 1399.98 L2244.54 1373.61 L2236.23 1375.28 L2236.23 1371.02 L2244.49 1369.35 L2249.17 1369.35 L2249.17 1399.98 L2256.81 1399.98 L2256.81 1403.91 L2236.9 1403.91 L2236.9 1399.98 Z\" fill=\"#000000\" fill-rule=\"nonzero\" fill-opacity=\"1\" /></svg>\n"
      ]
     },
     "execution_count": 86,
     "metadata": {},
     "output_type": "execute_result"
    }
   ],
   "source": [
    "using Plots\n",
    "x = collect(1:7)\n",
    "y(x) = 2 - 2x + x^2/4\n",
    "\n",
    "plot(x,y.(x))\n",
    "plot!(x, y.(x), marker = :diamond, linewidth=2)\n",
    "plot!(title = \"Sample plot\", leg=false)\n"
   ]
  },
  {
   "cell_type": "code",
   "execution_count": 101,
   "id": "98a9c051-f309-4fa9-9f84-0b9bf5f9f030",
   "metadata": {},
   "outputs": [
    {
     "data": {
      "image/png": "[encoded data removed]",
      "image/svg+xml": [
       "<?xml version=\"1.0\" encoding=\"utf-8\"?>\n",
       "<svg xmlns=\"http://www.w3.org/2000/svg\" xmlns:xlink=\"http://www.w3.org/1999/xlink\" width=\"600\" height=\"400\" viewBox=\"0 0 2400 1600\">\n",
       "<defs>\n",
       "  <clipPath id=\"clip110\">\n",
       "    <rect x=\"0\" y=\"0\" width=\"2400\" height=\"1600\"/>\n",
       "  </clipPath>\n",
       "</defs>\n",
       "<path clip-path=\"url(#clip110)\" d=\"M0 1600 L2400 1600 L2400 0 L0 0  Z\" fill=\"#ffffff\" fill-rule=\"evenodd\" fill-opacity=\"1\"/>\n",
       "<defs>\n",
       "  <clipPath id=\"clip111\">\n",
       "    <rect x=\"480\" y=\"0\" width=\"1681\" height=\"1600\"/>\n",
       "  </clipPath>\n",
       "</defs>\n",
       "<path clip-path=\"url(#clip110)\" d=\"M193.936 1486.45 L2352.76 1486.45 L2352.76 123.472 L193.936 123.472  Z\" fill=\"#ffffff\" fill-rule=\"evenodd\" fill-opacity=\"1\"/>\n",
       "<defs>\n",
       "  <clipPath id=\"clip112\">\n",
       "    <rect x=\"193\" y=\"123\" width=\"2160\" height=\"1364\"/>\n",
       "  </clipPath>\n",
       "</defs>\n",
       "<polyline clip-path=\"url(#clip112)\" style=\"stroke:#000000; stroke-linecap:round; stroke-linejoin:round; stroke-width:2; stroke-opacity:0.1; fill:none\" points=\"255.035,1486.45 255.035,123.472 \"/>\n",
       "<polyline clip-path=\"url(#clip112)\" style=\"stroke:#000000; stroke-linecap:round; stroke-linejoin:round; stroke-width:2; stroke-opacity:0.1; fill:none\" points=\"662.359,1486.45 662.359,123.472 \"/>\n",
       "<polyline clip-path=\"url(#clip112)\" style=\"stroke:#000000; stroke-linecap:round; stroke-linejoin:round; stroke-width:2; stroke-opacity:0.1; fill:none\" points=\"1069.68,1486.45 1069.68,123.472 \"/>\n",
       "<polyline clip-path=\"url(#clip112)\" style=\"stroke:#000000; stroke-linecap:round; stroke-linejoin:round; stroke-width:2; stroke-opacity:0.1; fill:none\" points=\"1477.01,1486.45 1477.01,123.472 \"/>\n",
       "<polyline clip-path=\"url(#clip112)\" style=\"stroke:#000000; stroke-linecap:round; stroke-linejoin:round; stroke-width:2; stroke-opacity:0.1; fill:none\" points=\"1884.33,1486.45 1884.33,123.472 \"/>\n",
       "<polyline clip-path=\"url(#clip112)\" style=\"stroke:#000000; stroke-linecap:round; stroke-linejoin:round; stroke-width:2; stroke-opacity:0.1; fill:none\" points=\"2291.66,1486.45 2291.66,123.472 \"/>\n",
       "<polyline clip-path=\"url(#clip110)\" style=\"stroke:#000000; stroke-linecap:round; stroke-linejoin:round; stroke-width:4; stroke-opacity:1; fill:none\" points=\"193.936,1486.45 2352.76,1486.45 \"/>\n",
       "<polyline clip-path=\"url(#clip110)\" style=\"stroke:#000000; stroke-linecap:round; stroke-linejoin:round; stroke-width:4; stroke-opacity:1; fill:none\" points=\"255.035,1486.45 255.035,1467.55 \"/>\n",
       "<polyline clip-path=\"url(#clip110)\" style=\"stroke:#000000; stroke-linecap:round; stroke-linejoin:round; stroke-width:4; stroke-opacity:1; fill:none\" points=\"662.359,1486.45 662.359,1467.55 \"/>\n",
       "<polyline clip-path=\"url(#clip110)\" style=\"stroke:#000000; stroke-linecap:round; stroke-linejoin:round; stroke-width:4; stroke-opacity:1; fill:none\" points=\"1069.68,1486.45 1069.68,1467.55 \"/>\n",
       "<polyline clip-path=\"url(#clip110)\" style=\"stroke:#000000; stroke-linecap:round; stroke-linejoin:round; stroke-width:4; stroke-opacity:1; fill:none\" points=\"1477.01,1486.45 1477.01,1467.55 \"/>\n",
       "<polyline clip-path=\"url(#clip110)\" style=\"stroke:#000000; stroke-linecap:round; stroke-linejoin:round; stroke-width:4; stroke-opacity:1; fill:none\" points=\"1884.33,1486.45 1884.33,1467.55 \"/>\n",
       "<polyline clip-path=\"url(#clip110)\" style=\"stroke:#000000; stroke-linecap:round; stroke-linejoin:round; stroke-width:4; stroke-opacity:1; fill:none\" points=\"2291.66,1486.45 2291.66,1467.55 \"/>\n",
       "<path clip-path=\"url(#clip110)\" d=\"M245.417 1544.91 L253.056 1544.91 L253.056 1518.55 L244.745 1520.21 L244.745 1515.95 L253.009 1514.29 L257.685 1514.29 L257.685 1544.91 L265.324 1544.91 L265.324 1548.85 L245.417 1548.85 L245.417 1544.91 Z\" fill=\"#000000\" fill-rule=\"nonzero\" fill-opacity=\"1\" /><path clip-path=\"url(#clip110)\" d=\"M657.012 1544.91 L673.331 1544.91 L673.331 1548.85 L651.387 1548.85 L651.387 1544.91 Q654.049 1542.16 658.632 1537.53 Q663.239 1532.88 664.419 1531.53 Q666.665 1529.01 667.544 1527.27 Q668.447 1525.51 668.447 1523.82 Q668.447 1521.07 666.503 1519.33 Q664.581 1517.6 661.48 1517.6 Q659.28 1517.6 656.827 1518.36 Q654.396 1519.13 651.619 1520.68 L651.619 1515.95 Q654.443 1514.82 656.896 1514.24 Q659.35 1513.66 661.387 1513.66 Q666.757 1513.66 669.952 1516.35 Q673.146 1519.03 673.146 1523.52 Q673.146 1525.65 672.336 1527.57 Q671.549 1529.47 669.442 1532.07 Q668.864 1532.74 665.762 1535.95 Q662.66 1539.15 657.012 1544.91 Z\" fill=\"#000000\" fill-rule=\"nonzero\" fill-opacity=\"1\" /><path clip-path=\"url(#clip110)\" d=\"M1073.93 1530.21 Q1077.29 1530.93 1079.16 1533.2 Q1081.06 1535.47 1081.06 1538.8 Q1081.06 1543.92 1077.54 1546.72 Q1074.02 1549.52 1067.54 1549.52 Q1065.37 1549.52 1063.05 1549.08 Q1060.76 1548.66 1058.31 1547.81 L1058.31 1543.29 Q1060.25 1544.43 1062.57 1545.01 Q1064.88 1545.58 1067.4 1545.58 Q1071.8 1545.58 1074.09 1543.85 Q1076.41 1542.11 1076.41 1538.8 Q1076.41 1535.75 1074.26 1534.03 Q1072.13 1532.3 1068.31 1532.3 L1064.28 1532.3 L1064.28 1528.45 L1068.49 1528.45 Q1071.94 1528.45 1073.77 1527.09 Q1075.6 1525.7 1075.6 1523.11 Q1075.6 1520.45 1073.7 1519.03 Q1071.82 1517.6 1068.31 1517.6 Q1066.39 1517.6 1064.19 1518.01 Q1061.99 1518.43 1059.35 1519.31 L1059.35 1515.14 Q1062.01 1514.4 1064.32 1514.03 Q1066.66 1513.66 1068.72 1513.66 Q1074.05 1513.66 1077.15 1516.09 Q1080.25 1518.5 1080.25 1522.62 Q1080.25 1525.49 1078.61 1527.48 Q1076.96 1529.45 1073.93 1530.21 Z\" fill=\"#000000\" fill-rule=\"nonzero\" fill-opacity=\"1\" /><path clip-path=\"url(#clip110)\" d=\"M1480.02 1518.36 L1468.21 1536.81 L1480.02 1536.81 L1480.02 1518.36 M1478.79 1514.29 L1484.67 1514.29 L1484.67 1536.81 L1489.6 1536.81 L1489.6 1540.7 L1484.67 1540.7 L1484.67 1548.85 L1480.02 1548.85 L1480.02 1540.7 L1464.42 1540.7 L1464.42 1536.19 L1478.79 1514.29 Z\" fill=\"#000000\" fill-rule=\"nonzero\" fill-opacity=\"1\" /><path clip-path=\"url(#clip110)\" d=\"M1874.61 1514.29 L1892.97 1514.29 L1892.97 1518.22 L1878.89 1518.22 L1878.89 1526.7 Q1879.91 1526.35 1880.93 1526.19 Q1881.95 1526 1882.97 1526 Q1888.75 1526 1892.13 1529.17 Q1895.51 1532.34 1895.51 1537.76 Q1895.51 1543.34 1892.04 1546.44 Q1888.57 1549.52 1882.25 1549.52 Q1880.07 1549.52 1877.8 1549.15 Q1875.56 1548.78 1873.15 1548.04 L1873.15 1543.34 Q1875.24 1544.47 1877.46 1545.03 Q1879.68 1545.58 1882.16 1545.58 Q1886.16 1545.58 1888.5 1543.48 Q1890.84 1541.37 1890.84 1537.76 Q1890.84 1534.15 1888.5 1532.04 Q1886.16 1529.94 1882.16 1529.94 Q1880.28 1529.94 1878.41 1530.35 Q1876.55 1530.77 1874.61 1531.65 L1874.61 1514.29 Z\" fill=\"#000000\" fill-rule=\"nonzero\" fill-opacity=\"1\" /><path clip-path=\"url(#clip110)\" d=\"M2292.06 1529.7 Q2288.91 1529.7 2287.06 1531.86 Q2285.23 1534.01 2285.23 1537.76 Q2285.23 1541.49 2287.06 1543.66 Q2288.91 1545.82 2292.06 1545.82 Q2295.21 1545.82 2297.04 1543.66 Q2298.89 1541.49 2298.89 1537.76 Q2298.89 1534.01 2297.04 1531.86 Q2295.21 1529.7 2292.06 1529.7 M2301.34 1515.05 L2301.34 1519.31 Q2299.59 1518.48 2297.78 1518.04 Q2296 1517.6 2294.24 1517.6 Q2289.61 1517.6 2287.15 1520.72 Q2284.72 1523.85 2284.38 1530.17 Q2285.74 1528.15 2287.8 1527.09 Q2289.86 1526 2292.34 1526 Q2297.55 1526 2300.56 1529.17 Q2303.59 1532.32 2303.59 1537.76 Q2303.59 1543.08 2300.44 1546.3 Q2297.29 1549.52 2292.06 1549.52 Q2286.07 1549.52 2282.9 1544.94 Q2279.72 1540.33 2279.72 1531.6 Q2279.72 1523.41 2283.61 1518.55 Q2287.5 1513.66 2294.05 1513.66 Q2295.81 1513.66 2297.59 1514.01 Q2299.4 1514.36 2301.34 1515.05 Z\" fill=\"#000000\" fill-rule=\"nonzero\" fill-opacity=\"1\" /><polyline clip-path=\"url(#clip112)\" style=\"stroke:#000000; stroke-linecap:round; stroke-linejoin:round; stroke-width:2; stroke-opacity:0.1; fill:none\" points=\"193.936,1447.87 2352.76,1447.87 \"/>\n",
       "<polyline clip-path=\"url(#clip112)\" style=\"stroke:#000000; stroke-linecap:round; stroke-linejoin:round; stroke-width:2; stroke-opacity:0.1; fill:none\" points=\"193.936,1162.13 2352.76,1162.13 \"/>\n",
       "<polyline clip-path=\"url(#clip112)\" style=\"stroke:#000000; stroke-linecap:round; stroke-linejoin:round; stroke-width:2; stroke-opacity:0.1; fill:none\" points=\"193.936,876.395 2352.76,876.395 \"/>\n",
       "<polyline clip-path=\"url(#clip112)\" style=\"stroke:#000000; stroke-linecap:round; stroke-linejoin:round; stroke-width:2; stroke-opacity:0.1; fill:none\" points=\"193.936,590.656 2352.76,590.656 \"/>\n",
       "<polyline clip-path=\"url(#clip112)\" style=\"stroke:#000000; stroke-linecap:round; stroke-linejoin:round; stroke-width:2; stroke-opacity:0.1; fill:none\" points=\"193.936,304.916 2352.76,304.916 \"/>\n",
       "<polyline clip-path=\"url(#clip110)\" style=\"stroke:#000000; stroke-linecap:round; stroke-linejoin:round; stroke-width:4; stroke-opacity:1; fill:none\" points=\"193.936,1486.45 193.936,123.472 \"/>\n",
       "<polyline clip-path=\"url(#clip110)\" style=\"stroke:#000000; stroke-linecap:round; stroke-linejoin:round; stroke-width:4; stroke-opacity:1; fill:none\" points=\"193.936,1447.87 212.834,1447.87 \"/>\n",
       "<polyline clip-path=\"url(#clip110)\" style=\"stroke:#000000; stroke-linecap:round; stroke-linejoin:round; stroke-width:4; stroke-opacity:1; fill:none\" points=\"193.936,1162.13 212.834,1162.13 \"/>\n",
       "<polyline clip-path=\"url(#clip110)\" style=\"stroke:#000000; stroke-linecap:round; stroke-linejoin:round; stroke-width:4; stroke-opacity:1; fill:none\" points=\"193.936,876.395 212.834,876.395 \"/>\n",
       "<polyline clip-path=\"url(#clip110)\" style=\"stroke:#000000; stroke-linecap:round; stroke-linejoin:round; stroke-width:4; stroke-opacity:1; fill:none\" points=\"193.936,590.656 212.834,590.656 \"/>\n",
       "<polyline clip-path=\"url(#clip110)\" style=\"stroke:#000000; stroke-linecap:round; stroke-linejoin:round; stroke-width:4; stroke-opacity:1; fill:none\" points=\"193.936,304.916 212.834,304.916 \"/>\n",
       "<path clip-path=\"url(#clip110)\" d=\"M50.9921 1448.32 L80.6679 1448.32 L80.6679 1452.26 L50.9921 1452.26 L50.9921 1448.32 Z\" fill=\"#000000\" fill-rule=\"nonzero\" fill-opacity=\"1\" /><path clip-path=\"url(#clip110)\" d=\"M94.7882 1461.22 L111.108 1461.22 L111.108 1465.15 L89.1632 1465.15 L89.1632 1461.22 Q91.8252 1458.46 96.4085 1453.83 Q101.015 1449.18 102.196 1447.84 Q104.441 1445.32 105.321 1443.58 Q106.223 1441.82 106.223 1440.13 Q106.223 1437.38 104.279 1435.64 Q102.358 1433.9 99.2558 1433.9 Q97.0567 1433.9 94.603 1434.67 Q92.1725 1435.43 89.3947 1436.98 L89.3947 1432.26 Q92.2188 1431.13 94.6724 1430.55 Q97.1261 1429.97 99.1632 1429.97 Q104.534 1429.97 107.728 1432.65 Q110.922 1435.34 110.922 1439.83 Q110.922 1441.96 110.112 1443.88 Q109.325 1445.78 107.219 1448.37 Q106.64 1449.04 103.538 1452.26 Q100.436 1455.45 94.7882 1461.22 Z\" fill=\"#000000\" fill-rule=\"nonzero\" fill-opacity=\"1\" /><path clip-path=\"url(#clip110)\" d=\"M120.922 1459.27 L125.807 1459.27 L125.807 1465.15 L120.922 1465.15 L120.922 1459.27 Z\" fill=\"#000000\" fill-rule=\"nonzero\" fill-opacity=\"1\" /><path clip-path=\"url(#clip110)\" d=\"M145.992 1433.67 Q142.381 1433.67 140.552 1437.24 Q138.746 1440.78 138.746 1447.91 Q138.746 1455.01 140.552 1458.58 Q142.381 1462.12 145.992 1462.12 Q149.626 1462.12 151.431 1458.58 Q153.26 1455.01 153.26 1447.91 Q153.26 1440.78 151.431 1437.24 Q149.626 1433.67 145.992 1433.67 M145.992 1429.97 Q151.802 1429.97 154.857 1434.57 Q157.936 1439.16 157.936 1447.91 Q157.936 1456.63 154.857 1461.24 Q151.802 1465.82 145.992 1465.82 Q140.181 1465.82 137.103 1461.24 Q134.047 1456.63 134.047 1447.91 Q134.047 1439.16 137.103 1434.57 Q140.181 1429.97 145.992 1429.97 Z\" fill=\"#000000\" fill-rule=\"nonzero\" fill-opacity=\"1\" /><path clip-path=\"url(#clip110)\" d=\"M51.9875 1162.59 L81.6633 1162.59 L81.6633 1166.52 L51.9875 1166.52 L51.9875 1162.59 Z\" fill=\"#000000\" fill-rule=\"nonzero\" fill-opacity=\"1\" /><path clip-path=\"url(#clip110)\" d=\"M92.566 1175.48 L100.205 1175.48 L100.205 1149.11 L91.8947 1150.78 L91.8947 1146.52 L100.159 1144.85 L104.834 1144.85 L104.834 1175.48 L112.473 1175.48 L112.473 1179.41 L92.566 1179.41 L92.566 1175.48 Z\" fill=\"#000000\" fill-rule=\"nonzero\" fill-opacity=\"1\" /><path clip-path=\"url(#clip110)\" d=\"M121.918 1173.53 L126.802 1173.53 L126.802 1179.41 L121.918 1179.41 L121.918 1173.53 Z\" fill=\"#000000\" fill-rule=\"nonzero\" fill-opacity=\"1\" /><path clip-path=\"url(#clip110)\" d=\"M137.033 1144.85 L155.39 1144.85 L155.39 1148.79 L141.316 1148.79 L141.316 1157.26 Q142.334 1156.91 143.353 1156.75 Q144.371 1156.57 145.39 1156.57 Q151.177 1156.57 154.556 1159.74 Q157.936 1162.91 157.936 1168.33 Q157.936 1173.9 154.464 1177.01 Q150.992 1180.09 144.672 1180.09 Q142.496 1180.09 140.228 1179.71 Q137.982 1179.34 135.575 1178.6 L135.575 1173.9 Q137.658 1175.04 139.881 1175.59 Q142.103 1176.15 144.58 1176.15 Q148.584 1176.15 150.922 1174.04 Q153.26 1171.94 153.26 1168.33 Q153.26 1164.71 150.922 1162.61 Q148.584 1160.5 144.58 1160.5 Q142.705 1160.5 140.83 1160.92 Q138.978 1161.34 137.033 1162.21 L137.033 1144.85 Z\" fill=\"#000000\" fill-rule=\"nonzero\" fill-opacity=\"1\" /><path clip-path=\"url(#clip110)\" d=\"M50.9921 876.846 L80.6679 876.846 L80.6679 880.781 L50.9921 880.781 L50.9921 876.846 Z\" fill=\"#000000\" fill-rule=\"nonzero\" fill-opacity=\"1\" /><path clip-path=\"url(#clip110)\" d=\"M91.5706 889.74 L99.2095 889.74 L99.2095 863.374 L90.8993 865.041 L90.8993 860.781 L99.1632 859.115 L103.839 859.115 L103.839 889.74 L111.478 889.74 L111.478 893.675 L91.5706 893.675 L91.5706 889.74 Z\" fill=\"#000000\" fill-rule=\"nonzero\" fill-opacity=\"1\" /><path clip-path=\"url(#clip110)\" d=\"M120.922 887.795 L125.807 887.795 L125.807 893.675 L120.922 893.675 L120.922 887.795 Z\" fill=\"#000000\" fill-rule=\"nonzero\" fill-opacity=\"1\" /><path clip-path=\"url(#clip110)\" d=\"M145.992 862.193 Q142.381 862.193 140.552 865.758 Q138.746 869.3 138.746 876.43 Q138.746 883.536 140.552 887.101 Q142.381 890.642 145.992 890.642 Q149.626 890.642 151.431 887.101 Q153.26 883.536 153.26 876.43 Q153.26 869.3 151.431 865.758 Q149.626 862.193 145.992 862.193 M145.992 858.49 Q151.802 858.49 154.857 863.096 Q157.936 867.68 157.936 876.43 Q157.936 885.156 154.857 889.763 Q151.802 894.346 145.992 894.346 Q140.181 894.346 137.103 889.763 Q134.047 885.156 134.047 876.43 Q134.047 867.68 137.103 863.096 Q140.181 858.49 145.992 858.49 Z\" fill=\"#000000\" fill-rule=\"nonzero\" fill-opacity=\"1\" /><path clip-path=\"url(#clip110)\" d=\"M51.9875 591.107 L81.6633 591.107 L81.6633 595.042 L51.9875 595.042 L51.9875 591.107 Z\" fill=\"#000000\" fill-rule=\"nonzero\" fill-opacity=\"1\" /><path clip-path=\"url(#clip110)\" d=\"M101.756 576.454 Q98.1447 576.454 96.316 580.019 Q94.5104 583.561 94.5104 590.69 Q94.5104 597.797 96.316 601.362 Q98.1447 604.903 101.756 604.903 Q105.39 604.903 107.196 601.362 Q109.024 597.797 109.024 590.69 Q109.024 583.561 107.196 580.019 Q105.39 576.454 101.756 576.454 M101.756 572.751 Q107.566 572.751 110.621 577.357 Q113.7 581.94 113.7 590.69 Q113.7 599.417 110.621 604.024 Q107.566 608.607 101.756 608.607 Q95.9456 608.607 92.8669 604.024 Q89.8114 599.417 89.8114 590.69 Q89.8114 581.94 92.8669 577.357 Q95.9456 572.751 101.756 572.751 Z\" fill=\"#000000\" fill-rule=\"nonzero\" fill-opacity=\"1\" /><path clip-path=\"url(#clip110)\" d=\"M121.918 602.056 L126.802 602.056 L126.802 607.936 L121.918 607.936 L121.918 602.056 Z\" fill=\"#000000\" fill-rule=\"nonzero\" fill-opacity=\"1\" /><path clip-path=\"url(#clip110)\" d=\"M137.033 573.376 L155.39 573.376 L155.39 577.311 L141.316 577.311 L141.316 585.783 Q142.334 585.436 143.353 585.274 Q144.371 585.089 145.39 585.089 Q151.177 585.089 154.556 588.26 Q157.936 591.431 157.936 596.848 Q157.936 602.426 154.464 605.528 Q150.992 608.607 144.672 608.607 Q142.496 608.607 140.228 608.237 Q137.982 607.866 135.575 607.125 L135.575 602.426 Q137.658 603.561 139.881 604.116 Q142.103 604.672 144.58 604.672 Q148.584 604.672 150.922 602.565 Q153.26 600.459 153.26 596.848 Q153.26 593.237 150.922 591.13 Q148.584 589.024 144.58 589.024 Q142.705 589.024 140.83 589.44 Q138.978 589.857 137.033 590.737 L137.033 573.376 Z\" fill=\"#000000\" fill-rule=\"nonzero\" fill-opacity=\"1\" /><path clip-path=\"url(#clip110)\" d=\"M100.76 290.715 Q97.1493 290.715 95.3206 294.28 Q93.515 297.822 93.515 304.951 Q93.515 312.058 95.3206 315.622 Q97.1493 319.164 100.76 319.164 Q104.395 319.164 106.2 315.622 Q108.029 312.058 108.029 304.951 Q108.029 297.822 106.2 294.28 Q104.395 290.715 100.76 290.715 M100.76 287.011 Q106.571 287.011 109.626 291.618 Q112.705 296.201 112.705 304.951 Q112.705 313.678 109.626 318.284 Q106.571 322.868 100.76 322.868 Q94.9502 322.868 91.8715 318.284 Q88.816 313.678 88.816 304.951 Q88.816 296.201 91.8715 291.618 Q94.9502 287.011 100.76 287.011 Z\" fill=\"#000000\" fill-rule=\"nonzero\" fill-opacity=\"1\" /><path clip-path=\"url(#clip110)\" d=\"M120.922 316.317 L125.807 316.317 L125.807 322.196 L120.922 322.196 L120.922 316.317 Z\" fill=\"#000000\" fill-rule=\"nonzero\" fill-opacity=\"1\" /><path clip-path=\"url(#clip110)\" d=\"M145.992 290.715 Q142.381 290.715 140.552 294.28 Q138.746 297.822 138.746 304.951 Q138.746 312.058 140.552 315.622 Q142.381 319.164 145.992 319.164 Q149.626 319.164 151.431 315.622 Q153.26 312.058 153.26 304.951 Q153.26 297.822 151.431 294.28 Q149.626 290.715 145.992 290.715 M145.992 287.011 Q151.802 287.011 154.857 291.618 Q157.936 296.201 157.936 304.951 Q157.936 313.678 154.857 318.284 Q151.802 322.868 145.992 322.868 Q140.181 322.868 137.103 318.284 Q134.047 313.678 134.047 304.951 Q134.047 296.201 137.103 291.618 Q140.181 287.011 145.992 287.011 Z\" fill=\"#000000\" fill-rule=\"nonzero\" fill-opacity=\"1\" /><path clip-path=\"url(#clip110)\" d=\"M879.699 18.8205 L879.699 41.5461 L889.989 41.5461 Q895.7 41.5461 898.82 38.5889 Q901.939 35.6318 901.939 30.163 Q901.939 24.7348 898.82 21.7777 Q895.7 18.8205 889.989 18.8205 L879.699 18.8205 M871.517 12.096 L889.989 12.096 Q900.156 12.096 905.342 16.714 Q910.567 21.2916 910.567 30.163 Q910.567 39.1155 905.342 43.6931 Q900.156 48.2706 889.989 48.2706 L879.699 48.2706 L879.699 72.576 L871.517 72.576 L871.517 12.096 Z\" fill=\"#000000\" fill-rule=\"nonzero\" fill-opacity=\"1\" /><path clip-path=\"url(#clip110)\" d=\"M921.221 9.54393 L928.675 9.54393 L928.675 72.576 L921.221 72.576 L921.221 9.54393 Z\" fill=\"#000000\" fill-rule=\"nonzero\" fill-opacity=\"1\" /><path clip-path=\"url(#clip110)\" d=\"M961.852 32.4315 Q955.856 32.4315 952.373 37.1306 Q948.889 41.7891 948.889 49.9314 Q948.889 58.0738 952.332 62.7728 Q955.816 67.4314 961.852 67.4314 Q967.807 67.4314 971.29 62.7323 Q974.774 58.0333 974.774 49.9314 Q974.774 41.8701 971.29 37.1711 Q967.807 32.4315 961.852 32.4315 M961.852 26.1121 Q971.574 26.1121 977.124 32.4315 Q982.673 38.7509 982.673 49.9314 Q982.673 61.0714 977.124 67.4314 Q971.574 73.7508 961.852 73.7508 Q952.089 73.7508 946.539 67.4314 Q941.03 61.0714 941.03 49.9314 Q941.03 38.7509 946.539 32.4315 Q952.089 26.1121 961.852 26.1121 Z\" fill=\"#000000\" fill-rule=\"nonzero\" fill-opacity=\"1\" /><path clip-path=\"url(#clip110)\" d=\"M1002.4 14.324 L1002.4 27.2059 L1017.75 27.2059 L1017.75 32.9987 L1002.4 32.9987 L1002.4 57.6282 Q1002.4 63.1779 1003.9 64.7578 Q1005.44 66.3376 1010.1 66.3376 L1017.75 66.3376 L1017.75 72.576 L1010.1 72.576 Q1001.47 72.576 998.188 69.3758 Q994.907 66.1351 994.907 57.6282 L994.907 32.9987 L989.438 32.9987 L989.438 27.2059 L994.907 27.2059 L994.907 14.324 L1002.4 14.324 Z\" fill=\"#000000\" fill-rule=\"nonzero\" fill-opacity=\"1\" /><path clip-path=\"url(#clip110)\" d=\"M1076.9 9.54393 L1076.9 15.7418 L1069.77 15.7418 Q1065.76 15.7418 1064.18 17.3622 Q1062.64 18.9825 1062.64 23.1955 L1062.64 27.2059 L1074.91 27.2059 L1074.91 32.9987 L1062.64 32.9987 L1062.64 72.576 L1055.14 72.576 L1055.14 32.9987 L1048.01 32.9987 L1048.01 27.2059 L1055.14 27.2059 L1055.14 24.0462 Q1055.14 16.471 1058.67 13.0277 Q1062.19 9.54393 1069.85 9.54393 L1076.9 9.54393 Z\" fill=\"#000000\" fill-rule=\"nonzero\" fill-opacity=\"1\" /><path clip-path=\"url(#clip110)\" d=\"M1100.72 32.4315 Q1094.72 32.4315 1091.24 37.1306 Q1087.75 41.7891 1087.75 49.9314 Q1087.75 58.0738 1091.2 62.7728 Q1094.68 67.4314 1100.72 67.4314 Q1106.67 67.4314 1110.16 62.7323 Q1113.64 58.0333 1113.64 49.9314 Q1113.64 41.8701 1110.16 37.1711 Q1106.67 32.4315 1100.72 32.4315 M1100.72 26.1121 Q1110.44 26.1121 1115.99 32.4315 Q1121.54 38.7509 1121.54 49.9314 Q1121.54 61.0714 1115.99 67.4314 Q1110.44 73.7508 1100.72 73.7508 Q1090.95 73.7508 1085.4 67.4314 Q1079.9 61.0714 1079.9 49.9314 Q1079.9 38.7509 1085.4 32.4315 Q1090.95 26.1121 1100.72 26.1121 Z\" fill=\"#000000\" fill-rule=\"nonzero\" fill-opacity=\"1\" /><path clip-path=\"url(#clip110)\" d=\"M1160.18 34.1734 Q1158.93 33.4443 1157.43 33.1202 Q1155.97 32.7556 1154.19 32.7556 Q1147.87 32.7556 1144.47 36.8875 Q1141.1 40.9789 1141.1 48.6757 L1141.1 72.576 L1133.61 72.576 L1133.61 27.2059 L1141.1 27.2059 L1141.1 34.2544 Q1143.45 30.1225 1147.22 28.1376 Q1150.99 26.1121 1156.38 26.1121 Q1157.15 26.1121 1158.08 26.2337 Q1159.01 26.3147 1160.14 26.5172 L1160.18 34.1734 Z\" fill=\"#000000\" fill-rule=\"nonzero\" fill-opacity=\"1\" /><path clip-path=\"url(#clip110)\" d=\"M1224.23 49.3643 Q1224.23 41.2625 1220.87 36.8065 Q1217.54 32.3505 1211.51 32.3505 Q1205.51 32.3505 1202.15 36.8065 Q1198.83 41.2625 1198.83 49.3643 Q1198.83 57.4256 1202.15 61.8816 Q1205.51 66.3376 1211.51 66.3376 Q1217.54 66.3376 1220.87 61.8816 Q1224.23 57.4256 1224.23 49.3643 M1231.68 66.9452 Q1231.68 78.5308 1226.54 84.1616 Q1221.39 89.8329 1210.78 89.8329 Q1206.85 89.8329 1203.37 89.2252 Q1199.88 88.6581 1196.6 87.4428 L1196.6 80.1917 Q1199.88 81.9741 1203.08 82.8248 Q1206.28 83.6755 1209.6 83.6755 Q1216.94 83.6755 1220.58 79.8271 Q1224.23 76.0193 1224.23 68.282 L1224.23 64.5957 Q1221.92 68.6061 1218.31 70.5911 Q1214.71 72.576 1209.69 72.576 Q1201.34 72.576 1196.24 66.2161 Q1191.13 59.8562 1191.13 49.3643 Q1191.13 38.832 1196.24 32.472 Q1201.34 26.1121 1209.69 26.1121 Q1214.71 26.1121 1218.31 28.0971 Q1221.92 30.082 1224.23 34.0924 L1224.23 27.2059 L1231.68 27.2059 L1231.68 66.9452 Z\" fill=\"#000000\" fill-rule=\"nonzero\" fill-opacity=\"1\" /><path clip-path=\"url(#clip110)\" d=\"M1273.33 34.1734 Q1272.07 33.4443 1270.57 33.1202 Q1269.11 32.7556 1267.33 32.7556 Q1261.01 32.7556 1257.61 36.8875 Q1254.25 40.9789 1254.25 48.6757 L1254.25 72.576 L1246.75 72.576 L1246.75 27.2059 L1254.25 27.2059 L1254.25 34.2544 Q1256.6 30.1225 1260.36 28.1376 Q1264.13 26.1121 1269.52 26.1121 Q1270.29 26.1121 1271.22 26.2337 Q1272.15 26.3147 1273.29 26.5172 L1273.33 34.1734 Z\" fill=\"#000000\" fill-rule=\"nonzero\" fill-opacity=\"1\" /><path clip-path=\"url(#clip110)\" d=\"M1301.76 49.7694 Q1292.73 49.7694 1289.25 51.8354 Q1285.76 53.9013 1285.76 58.8839 Q1285.76 62.8538 1288.35 65.2034 Q1290.99 67.5124 1295.48 67.5124 Q1301.68 67.5124 1305.41 63.1374 Q1309.18 58.7219 1309.18 51.4303 L1309.18 49.7694 L1301.76 49.7694 M1316.63 46.6907 L1316.63 72.576 L1309.18 72.576 L1309.18 65.6895 Q1306.62 69.8214 1302.82 71.8063 Q1299.01 73.7508 1293.5 73.7508 Q1286.53 73.7508 1282.4 69.8619 Q1278.31 65.9325 1278.31 59.3701 Q1278.31 51.7138 1283.41 47.825 Q1288.56 43.9361 1298.72 43.9361 L1309.18 43.9361 L1309.18 43.2069 Q1309.18 38.0623 1305.77 35.2672 Q1302.41 32.4315 1296.29 32.4315 Q1292.41 32.4315 1288.72 33.3632 Q1285.03 34.295 1281.63 36.1584 L1281.63 29.2718 Q1285.72 27.692 1289.57 26.9223 Q1293.42 26.1121 1297.06 26.1121 Q1306.91 26.1121 1311.77 31.2163 Q1316.63 36.3204 1316.63 46.6907 Z\" fill=\"#000000\" fill-rule=\"nonzero\" fill-opacity=\"1\" /><path clip-path=\"url(#clip110)\" d=\"M1361.84 34.0924 L1361.84 9.54393 L1369.29 9.54393 L1369.29 72.576 L1361.84 72.576 L1361.84 65.7705 Q1359.49 69.8214 1355.88 71.8063 Q1352.32 73.7508 1347.3 73.7508 Q1339.07 73.7508 1333.89 67.1883 Q1328.74 60.6258 1328.74 49.9314 Q1328.74 39.2371 1333.89 32.6746 Q1339.07 26.1121 1347.3 26.1121 Q1352.32 26.1121 1355.88 28.0971 Q1359.49 30.0415 1361.84 34.0924 M1336.44 49.9314 Q1336.44 58.1548 1339.8 62.8538 Q1343.2 67.5124 1349.12 67.5124 Q1355.03 67.5124 1358.44 62.8538 Q1361.84 58.1548 1361.84 49.9314 Q1361.84 41.7081 1358.44 37.0496 Q1355.03 32.3505 1349.12 32.3505 Q1343.2 32.3505 1339.8 37.0496 Q1336.44 41.7081 1336.44 49.9314 Z\" fill=\"#000000\" fill-rule=\"nonzero\" fill-opacity=\"1\" /><path clip-path=\"url(#clip110)\" d=\"M1423.45 48.0275 L1423.45 51.6733 L1389.18 51.6733 Q1389.67 59.3701 1393.8 63.421 Q1397.97 67.4314 1405.39 67.4314 Q1409.68 67.4314 1413.69 66.3781 Q1417.74 65.3249 1421.71 63.2184 L1421.71 70.267 Q1417.7 71.9684 1413.49 72.8596 Q1409.27 73.7508 1404.94 73.7508 Q1394.08 73.7508 1387.72 67.4314 Q1381.4 61.1119 1381.4 50.3365 Q1381.4 39.1965 1387.4 32.6746 Q1393.44 26.1121 1403.64 26.1121 Q1412.8 26.1121 1418.11 32.0264 Q1423.45 37.9003 1423.45 48.0275 M1416 45.84 Q1415.92 39.7232 1412.56 36.0774 Q1409.23 32.4315 1403.72 32.4315 Q1397.49 32.4315 1393.72 35.9558 Q1389.99 39.4801 1389.42 45.8805 L1416 45.84 Z\" fill=\"#000000\" fill-rule=\"nonzero\" fill-opacity=\"1\" /><path clip-path=\"url(#clip110)\" d=\"M1465.54 34.0924 L1465.54 9.54393 L1472.99 9.54393 L1472.99 72.576 L1465.54 72.576 L1465.54 65.7705 Q1463.19 69.8214 1459.59 71.8063 Q1456.02 73.7508 1451 73.7508 Q1442.78 73.7508 1437.59 67.1883 Q1432.45 60.6258 1432.45 49.9314 Q1432.45 39.2371 1437.59 32.6746 Q1442.78 26.1121 1451 26.1121 Q1456.02 26.1121 1459.59 28.0971 Q1463.19 30.0415 1465.54 34.0924 M1440.14 49.9314 Q1440.14 58.1548 1443.5 62.8538 Q1446.91 67.5124 1452.82 67.5124 Q1458.74 67.5124 1462.14 62.8538 Q1465.54 58.1548 1465.54 49.9314 Q1465.54 41.7081 1462.14 37.0496 Q1458.74 32.3505 1452.82 32.3505 Q1446.91 32.3505 1443.5 37.0496 Q1440.14 41.7081 1440.14 49.9314 Z\" fill=\"#000000\" fill-rule=\"nonzero\" fill-opacity=\"1\" /><path clip-path=\"url(#clip110)\" d=\"M1519.18 49.9314 Q1519.18 58.1548 1522.54 62.8538 Q1525.94 67.5124 1531.85 67.5124 Q1537.77 67.5124 1541.17 62.8538 Q1544.57 58.1548 1544.57 49.9314 Q1544.57 41.7081 1541.17 37.0496 Q1537.77 32.3505 1531.85 32.3505 Q1525.94 32.3505 1522.54 37.0496 Q1519.18 41.7081 1519.18 49.9314 M1544.57 65.7705 Q1542.22 69.8214 1538.62 71.8063 Q1535.05 73.7508 1530.03 73.7508 Q1521.81 73.7508 1516.62 67.1883 Q1511.48 60.6258 1511.48 49.9314 Q1511.48 39.2371 1516.62 32.6746 Q1521.81 26.1121 1530.03 26.1121 Q1535.05 26.1121 1538.62 28.0971 Q1542.22 30.0415 1544.57 34.0924 L1544.57 27.2059 L1552.03 27.2059 L1552.03 89.8329 L1544.57 89.8329 L1544.57 65.7705 Z\" fill=\"#000000\" fill-rule=\"nonzero\" fill-opacity=\"1\" /><path clip-path=\"url(#clip110)\" d=\"M1566.61 54.671 L1566.61 27.2059 L1574.06 27.2059 L1574.06 54.3874 Q1574.06 60.8284 1576.58 64.0691 Q1579.09 67.2693 1584.11 67.2693 Q1590.15 67.2693 1593.63 63.421 Q1597.15 59.5726 1597.15 52.9291 L1597.15 27.2059 L1604.61 27.2059 L1604.61 72.576 L1597.15 72.576 L1597.15 65.6084 Q1594.44 69.7404 1590.84 71.7658 Q1587.27 73.7508 1582.53 73.7508 Q1574.71 73.7508 1570.66 68.8897 Q1566.61 64.0286 1566.61 54.671 M1585.37 26.1121 L1585.37 26.1121 Z\" fill=\"#000000\" fill-rule=\"nonzero\" fill-opacity=\"1\" /><path clip-path=\"url(#clip110)\" d=\"M1619.96 27.2059 L1627.42 27.2059 L1627.42 72.576 L1619.96 72.576 L1619.96 27.2059 M1619.96 9.54393 L1627.42 9.54393 L1627.42 18.9825 L1619.96 18.9825 L1619.96 9.54393 Z\" fill=\"#000000\" fill-rule=\"nonzero\" fill-opacity=\"1\" /><path clip-path=\"url(#clip110)\" d=\"M1639.77 27.2059 L1675.18 27.2059 L1675.18 34.0114 L1647.14 66.6212 L1675.18 66.6212 L1675.18 72.576 L1638.76 72.576 L1638.76 65.7705 L1666.79 33.1607 L1639.77 33.1607 L1639.77 27.2059 Z\" fill=\"#000000\" fill-rule=\"nonzero\" fill-opacity=\"1\" /><polyline clip-path=\"url(#clip112)\" style=\"stroke:#009af9; stroke-linecap:round; stroke-linejoin:round; stroke-width:4; stroke-opacity:1; fill:none\" points=\"255.035,162.047 662.359,876.395 1069.68,1305 1477.01,1447.87 1884.33,1305 2291.66,876.395 \"/>\n",
       "<path clip-path=\"url(#clip112)\" d=\"M255.035 178.047 L241.179 170.047 L241.179 154.047 L255.035 146.047 L268.891 154.047 L268.891 170.047 Z\" fill=\"#009af9\" fill-rule=\"evenodd\" fill-opacity=\"1\" stroke=\"#000000\" stroke-opacity=\"1\" stroke-width=\"3.2\"/>\n",
       "<path clip-path=\"url(#clip112)\" d=\"M662.359 892.395 L648.503 884.395 L648.503 868.395 L662.359 860.395 L676.215 868.395 L676.215 884.395 Z\" fill=\"#009af9\" fill-rule=\"evenodd\" fill-opacity=\"1\" stroke=\"#000000\" stroke-opacity=\"1\" stroke-width=\"3.2\"/>\n",
       "<path clip-path=\"url(#clip112)\" d=\"M1069.68 1321 L1055.83 1313 L1055.83 1297 L1069.68 1289 L1083.54 1297 L1083.54 1313 Z\" fill=\"#009af9\" fill-rule=\"evenodd\" fill-opacity=\"1\" stroke=\"#000000\" stroke-opacity=\"1\" stroke-width=\"3.2\"/>\n",
       "<path clip-path=\"url(#clip112)\" d=\"M1477.01 1463.87 L1463.15 1455.87 L1463.15 1439.87 L1477.01 1431.87 L1490.86 1439.87 L1490.86 1455.87 Z\" fill=\"#009af9\" fill-rule=\"evenodd\" fill-opacity=\"1\" stroke=\"#000000\" stroke-opacity=\"1\" stroke-width=\"3.2\"/>\n",
       "<path clip-path=\"url(#clip112)\" d=\"M1884.33 1321 L1870.48 1313 L1870.48 1297 L1884.33 1289 L1898.19 1297 L1898.19 1313 Z\" fill=\"#009af9\" fill-rule=\"evenodd\" fill-opacity=\"1\" stroke=\"#000000\" stroke-opacity=\"1\" stroke-width=\"3.2\"/>\n",
       "<path clip-path=\"url(#clip112)\" d=\"M2291.66 892.395 L2277.8 884.395 L2277.8 868.395 L2291.66 860.395 L2305.51 868.395 L2305.51 884.395 Z\" fill=\"#009af9\" fill-rule=\"evenodd\" fill-opacity=\"1\" stroke=\"#000000\" stroke-opacity=\"1\" stroke-width=\"3.2\"/>\n",
       "</svg>\n"
      ],
      "text/html": [
       "<?xml version=\"1.0\" encoding=\"utf-8\"?>\n",
       "<svg xmlns=\"http://www.w3.org/2000/svg\" xmlns:xlink=\"http://www.w3.org/1999/xlink\" width=\"600\" height=\"400\" viewBox=\"0 0 2400 1600\">\n",
       "<defs>\n",
       "  <clipPath id=\"clip160\">\n",
       "    <rect x=\"0\" y=\"0\" width=\"2400\" height=\"1600\"/>\n",
       "  </clipPath>\n",
       "</defs>\n",
       "<path clip-path=\"url(#clip160)\" d=\"M0 1600 L2400 1600 L2400 0 L0 0  Z\" fill=\"#ffffff\" fill-rule=\"evenodd\" fill-opacity=\"1\"/>\n",
       "<defs>\n",
       "  <clipPath id=\"clip161\">\n",
       "    <rect x=\"480\" y=\"0\" width=\"1681\" height=\"1600\"/>\n",
       "  </clipPath>\n",
       "</defs>\n",
       "<path clip-path=\"url(#clip160)\" d=\"M193.936 1486.45 L2352.76 1486.45 L2352.76 123.472 L193.936 123.472  Z\" fill=\"#ffffff\" fill-rule=\"evenodd\" fill-opacity=\"1\"/>\n",
       "<defs>\n",
       "  <clipPath id=\"clip162\">\n",
       "    <rect x=\"193\" y=\"123\" width=\"2160\" height=\"1364\"/>\n",
       "  </clipPath>\n",
       "</defs>\n",
       "<polyline clip-path=\"url(#clip162)\" style=\"stroke:#000000; stroke-linecap:round; stroke-linejoin:round; stroke-width:2; stroke-opacity:0.1; fill:none\" points=\"255.035,1486.45 255.035,123.472 \"/>\n",
       "<polyline clip-path=\"url(#clip162)\" style=\"stroke:#000000; stroke-linecap:round; stroke-linejoin:round; stroke-width:2; stroke-opacity:0.1; fill:none\" points=\"662.359,1486.45 662.359,123.472 \"/>\n",
       "<polyline clip-path=\"url(#clip162)\" style=\"stroke:#000000; stroke-linecap:round; stroke-linejoin:round; stroke-width:2; stroke-opacity:0.1; fill:none\" points=\"1069.68,1486.45 1069.68,123.472 \"/>\n",
       "<polyline clip-path=\"url(#clip162)\" style=\"stroke:#000000; stroke-linecap:round; stroke-linejoin:round; stroke-width:2; stroke-opacity:0.1; fill:none\" points=\"1477.01,1486.45 1477.01,123.472 \"/>\n",
       "<polyline clip-path=\"url(#clip162)\" style=\"stroke:#000000; stroke-linecap:round; stroke-linejoin:round; stroke-width:2; stroke-opacity:0.1; fill:none\" points=\"1884.33,1486.45 1884.33,123.472 \"/>\n",
       "<polyline clip-path=\"url(#clip162)\" style=\"stroke:#000000; stroke-linecap:round; stroke-linejoin:round; stroke-width:2; stroke-opacity:0.1; fill:none\" points=\"2291.66,1486.45 2291.66,123.472 \"/>\n",
       "<polyline clip-path=\"url(#clip160)\" style=\"stroke:#000000; stroke-linecap:round; stroke-linejoin:round; stroke-width:4; stroke-opacity:1; fill:none\" points=\"193.936,1486.45 2352.76,1486.45 \"/>\n",
       "<polyline clip-path=\"url(#clip160)\" style=\"stroke:#000000; stroke-linecap:round; stroke-linejoin:round; stroke-width:4; stroke-opacity:1; fill:none\" points=\"255.035,1486.45 255.035,1467.55 \"/>\n",
       "<polyline clip-path=\"url(#clip160)\" style=\"stroke:#000000; stroke-linecap:round; stroke-linejoin:round; stroke-width:4; stroke-opacity:1; fill:none\" points=\"662.359,1486.45 662.359,1467.55 \"/>\n",
       "<polyline clip-path=\"url(#clip160)\" style=\"stroke:#000000; stroke-linecap:round; stroke-linejoin:round; stroke-width:4; stroke-opacity:1; fill:none\" points=\"1069.68,1486.45 1069.68,1467.55 \"/>\n",
       "<polyline clip-path=\"url(#clip160)\" style=\"stroke:#000000; stroke-linecap:round; stroke-linejoin:round; stroke-width:4; stroke-opacity:1; fill:none\" points=\"1477.01,1486.45 1477.01,1467.55 \"/>\n",
       "<polyline clip-path=\"url(#clip160)\" style=\"stroke:#000000; stroke-linecap:round; stroke-linejoin:round; stroke-width:4; stroke-opacity:1; fill:none\" points=\"1884.33,1486.45 1884.33,1467.55 \"/>\n",
       "<polyline clip-path=\"url(#clip160)\" style=\"stroke:#000000; stroke-linecap:round; stroke-linejoin:round; stroke-width:4; stroke-opacity:1; fill:none\" points=\"2291.66,1486.45 2291.66,1467.55 \"/>\n",
       "<path clip-path=\"url(#clip160)\" d=\"M245.417 1544.91 L253.056 1544.91 L253.056 1518.55 L244.745 1520.21 L244.745 1515.95 L253.009 1514.29 L257.685 1514.29 L257.685 1544.91 L265.324 1544.91 L265.324 1548.85 L245.417 1548.85 L245.417 1544.91 Z\" fill=\"#000000\" fill-rule=\"nonzero\" fill-opacity=\"1\" /><path clip-path=\"url(#clip160)\" d=\"M657.012 1544.91 L673.331 1544.91 L673.331 1548.85 L651.387 1548.85 L651.387 1544.91 Q654.049 1542.16 658.632 1537.53 Q663.239 1532.88 664.419 1531.53 Q666.665 1529.01 667.544 1527.27 Q668.447 1525.51 668.447 1523.82 Q668.447 1521.07 666.503 1519.33 Q664.581 1517.6 661.48 1517.6 Q659.28 1517.6 656.827 1518.36 Q654.396 1519.13 651.619 1520.68 L651.619 1515.95 Q654.443 1514.82 656.896 1514.24 Q659.35 1513.66 661.387 1513.66 Q666.757 1513.66 669.952 1516.35 Q673.146 1519.03 673.146 1523.52 Q673.146 1525.65 672.336 1527.57 Q671.549 1529.47 669.442 1532.07 Q668.864 1532.74 665.762 1535.95 Q662.66 1539.15 657.012 1544.91 Z\" fill=\"#000000\" fill-rule=\"nonzero\" fill-opacity=\"1\" /><path clip-path=\"url(#clip160)\" d=\"M1073.93 1530.21 Q1077.29 1530.93 1079.16 1533.2 Q1081.06 1535.47 1081.06 1538.8 Q1081.06 1543.92 1077.54 1546.72 Q1074.02 1549.52 1067.54 1549.52 Q1065.37 1549.52 1063.05 1549.08 Q1060.76 1548.66 1058.31 1547.81 L1058.31 1543.29 Q1060.25 1544.43 1062.57 1545.01 Q1064.88 1545.58 1067.4 1545.58 Q1071.8 1545.58 1074.09 1543.85 Q1076.41 1542.11 1076.41 1538.8 Q1076.41 1535.75 1074.26 1534.03 Q1072.13 1532.3 1068.31 1532.3 L1064.28 1532.3 L1064.28 1528.45 L1068.49 1528.45 Q1071.94 1528.45 1073.77 1527.09 Q1075.6 1525.7 1075.6 1523.11 Q1075.6 1520.45 1073.7 1519.03 Q1071.82 1517.6 1068.31 1517.6 Q1066.39 1517.6 1064.19 1518.01 Q1061.99 1518.43 1059.35 1519.31 L1059.35 1515.14 Q1062.01 1514.4 1064.32 1514.03 Q1066.66 1513.66 1068.72 1513.66 Q1074.05 1513.66 1077.15 1516.09 Q1080.25 1518.5 1080.25 1522.62 Q1080.25 1525.49 1078.61 1527.48 Q1076.96 1529.45 1073.93 1530.21 Z\" fill=\"#000000\" fill-rule=\"nonzero\" fill-opacity=\"1\" /><path clip-path=\"url(#clip160)\" d=\"M1480.02 1518.36 L1468.21 1536.81 L1480.02 1536.81 L1480.02 1518.36 M1478.79 1514.29 L1484.67 1514.29 L1484.67 1536.81 L1489.6 1536.81 L1489.6 1540.7 L1484.67 1540.7 L1484.67 1548.85 L1480.02 1548.85 L1480.02 1540.7 L1464.42 1540.7 L1464.42 1536.19 L1478.79 1514.29 Z\" fill=\"#000000\" fill-rule=\"nonzero\" fill-opacity=\"1\" /><path clip-path=\"url(#clip160)\" d=\"M1874.61 1514.29 L1892.97 1514.29 L1892.97 1518.22 L1878.89 1518.22 L1878.89 1526.7 Q1879.91 1526.35 1880.93 1526.19 Q1881.95 1526 1882.97 1526 Q1888.75 1526 1892.13 1529.17 Q1895.51 1532.34 1895.51 1537.76 Q1895.51 1543.34 1892.04 1546.44 Q1888.57 1549.52 1882.25 1549.52 Q1880.07 1549.52 1877.8 1549.15 Q1875.56 1548.78 1873.15 1548.04 L1873.15 1543.34 Q1875.24 1544.47 1877.46 1545.03 Q1879.68 1545.58 1882.16 1545.58 Q1886.16 1545.58 1888.5 1543.48 Q1890.84 1541.37 1890.84 1537.76 Q1890.84 1534.15 1888.5 1532.04 Q1886.16 1529.94 1882.16 1529.94 Q1880.28 1529.94 1878.41 1530.35 Q1876.55 1530.77 1874.61 1531.65 L1874.61 1514.29 Z\" fill=\"#000000\" fill-rule=\"nonzero\" fill-opacity=\"1\" /><path clip-path=\"url(#clip160)\" d=\"M2292.06 1529.7 Q2288.91 1529.7 2287.06 1531.86 Q2285.23 1534.01 2285.23 1537.76 Q2285.23 1541.49 2287.06 1543.66 Q2288.91 1545.82 2292.06 1545.82 Q2295.21 1545.82 2297.04 1543.66 Q2298.89 1541.49 2298.89 1537.76 Q2298.89 1534.01 2297.04 1531.86 Q2295.21 1529.7 2292.06 1529.7 M2301.34 1515.05 L2301.34 1519.31 Q2299.59 1518.48 2297.78 1518.04 Q2296 1517.6 2294.24 1517.6 Q2289.61 1517.6 2287.15 1520.72 Q2284.72 1523.85 2284.38 1530.17 Q2285.74 1528.15 2287.8 1527.09 Q2289.86 1526 2292.34 1526 Q2297.55 1526 2300.56 1529.17 Q2303.59 1532.32 2303.59 1537.76 Q2303.59 1543.08 2300.44 1546.3 Q2297.29 1549.52 2292.06 1549.52 Q2286.07 1549.52 2282.9 1544.94 Q2279.72 1540.33 2279.72 1531.6 Q2279.72 1523.41 2283.61 1518.55 Q2287.5 1513.66 2294.05 1513.66 Q2295.81 1513.66 2297.59 1514.01 Q2299.4 1514.36 2301.34 1515.05 Z\" fill=\"#000000\" fill-rule=\"nonzero\" fill-opacity=\"1\" /><polyline clip-path=\"url(#clip162)\" style=\"stroke:#000000; stroke-linecap:round; stroke-linejoin:round; stroke-width:2; stroke-opacity:0.1; fill:none\" points=\"193.936,1447.87 2352.76,1447.87 \"/>\n",
       "<polyline clip-path=\"url(#clip162)\" style=\"stroke:#000000; stroke-linecap:round; stroke-linejoin:round; stroke-width:2; stroke-opacity:0.1; fill:none\" points=\"193.936,1162.13 2352.76,1162.13 \"/>\n",
       "<polyline clip-path=\"url(#clip162)\" style=\"stroke:#000000; stroke-linecap:round; stroke-linejoin:round; stroke-width:2; stroke-opacity:0.1; fill:none\" points=\"193.936,876.395 2352.76,876.395 \"/>\n",
       "<polyline clip-path=\"url(#clip162)\" style=\"stroke:#000000; stroke-linecap:round; stroke-linejoin:round; stroke-width:2; stroke-opacity:0.1; fill:none\" points=\"193.936,590.656 2352.76,590.656 \"/>\n",
       "<polyline clip-path=\"url(#clip162)\" style=\"stroke:#000000; stroke-linecap:round; stroke-linejoin:round; stroke-width:2; stroke-opacity:0.1; fill:none\" points=\"193.936,304.916 2352.76,304.916 \"/>\n",
       "<polyline clip-path=\"url(#clip160)\" style=\"stroke:#000000; stroke-linecap:round; stroke-linejoin:round; stroke-width:4; stroke-opacity:1; fill:none\" points=\"193.936,1486.45 193.936,123.472 \"/>\n",
       "<polyline clip-path=\"url(#clip160)\" style=\"stroke:#000000; stroke-linecap:round; stroke-linejoin:round; stroke-width:4; stroke-opacity:1; fill:none\" points=\"193.936,1447.87 212.834,1447.87 \"/>\n",
       "<polyline clip-path=\"url(#clip160)\" style=\"stroke:#000000; stroke-linecap:round; stroke-linejoin:round; stroke-width:4; stroke-opacity:1; fill:none\" points=\"193.936,1162.13 212.834,1162.13 \"/>\n",
       "<polyline clip-path=\"url(#clip160)\" style=\"stroke:#000000; stroke-linecap:round; stroke-linejoin:round; stroke-width:4; stroke-opacity:1; fill:none\" points=\"193.936,876.395 212.834,876.395 \"/>\n",
       "<polyline clip-path=\"url(#clip160)\" style=\"stroke:#000000; stroke-linecap:round; stroke-linejoin:round; stroke-width:4; stroke-opacity:1; fill:none\" points=\"193.936,590.656 212.834,590.656 \"/>\n",
       "<polyline clip-path=\"url(#clip160)\" style=\"stroke:#000000; stroke-linecap:round; stroke-linejoin:round; stroke-width:4; stroke-opacity:1; fill:none\" points=\"193.936,304.916 212.834,304.916 \"/>\n",
       "<path clip-path=\"url(#clip160)\" d=\"M50.9921 1448.32 L80.6679 1448.32 L80.6679 1452.26 L50.9921 1452.26 L50.9921 1448.32 Z\" fill=\"#000000\" fill-rule=\"nonzero\" fill-opacity=\"1\" /><path clip-path=\"url(#clip160)\" d=\"M94.7882 1461.22 L111.108 1461.22 L111.108 1465.15 L89.1632 1465.15 L89.1632 1461.22 Q91.8252 1458.46 96.4085 1453.83 Q101.015 1449.18 102.196 1447.84 Q104.441 1445.32 105.321 1443.58 Q106.223 1441.82 106.223 1440.13 Q106.223 1437.38 104.279 1435.64 Q102.358 1433.9 99.2558 1433.9 Q97.0567 1433.9 94.603 1434.67 Q92.1725 1435.43 89.3947 1436.98 L89.3947 1432.26 Q92.2188 1431.13 94.6724 1430.55 Q97.1261 1429.97 99.1632 1429.97 Q104.534 1429.97 107.728 1432.65 Q110.922 1435.34 110.922 1439.83 Q110.922 1441.96 110.112 1443.88 Q109.325 1445.78 107.219 1448.37 Q106.64 1449.04 103.538 1452.26 Q100.436 1455.45 94.7882 1461.22 Z\" fill=\"#000000\" fill-rule=\"nonzero\" fill-opacity=\"1\" /><path clip-path=\"url(#clip160)\" d=\"M120.922 1459.27 L125.807 1459.27 L125.807 1465.15 L120.922 1465.15 L120.922 1459.27 Z\" fill=\"#000000\" fill-rule=\"nonzero\" fill-opacity=\"1\" /><path clip-path=\"url(#clip160)\" d=\"M145.992 1433.67 Q142.381 1433.67 140.552 1437.24 Q138.746 1440.78 138.746 1447.91 Q138.746 1455.01 140.552 1458.58 Q142.381 1462.12 145.992 1462.12 Q149.626 1462.12 151.431 1458.58 Q153.26 1455.01 153.26 1447.91 Q153.26 1440.78 151.431 1437.24 Q149.626 1433.67 145.992 1433.67 M145.992 1429.97 Q151.802 1429.97 154.857 1434.57 Q157.936 1439.16 157.936 1447.91 Q157.936 1456.63 154.857 1461.24 Q151.802 1465.82 145.992 1465.82 Q140.181 1465.82 137.103 1461.24 Q134.047 1456.63 134.047 1447.91 Q134.047 1439.16 137.103 1434.57 Q140.181 1429.97 145.992 1429.97 Z\" fill=\"#000000\" fill-rule=\"nonzero\" fill-opacity=\"1\" /><path clip-path=\"url(#clip160)\" d=\"M51.9875 1162.59 L81.6633 1162.59 L81.6633 1166.52 L51.9875 1166.52 L51.9875 1162.59 Z\" fill=\"#000000\" fill-rule=\"nonzero\" fill-opacity=\"1\" /><path clip-path=\"url(#clip160)\" d=\"M92.566 1175.48 L100.205 1175.48 L100.205 1149.11 L91.8947 1150.78 L91.8947 1146.52 L100.159 1144.85 L104.834 1144.85 L104.834 1175.48 L112.473 1175.48 L112.473 1179.41 L92.566 1179.41 L92.566 1175.48 Z\" fill=\"#000000\" fill-rule=\"nonzero\" fill-opacity=\"1\" /><path clip-path=\"url(#clip160)\" d=\"M121.918 1173.53 L126.802 1173.53 L126.802 1179.41 L121.918 1179.41 L121.918 1173.53 Z\" fill=\"#000000\" fill-rule=\"nonzero\" fill-opacity=\"1\" /><path clip-path=\"url(#clip160)\" d=\"M137.033 1144.85 L155.39 1144.85 L155.39 1148.79 L141.316 1148.79 L141.316 1157.26 Q142.334 1156.91 143.353 1156.75 Q144.371 1156.57 145.39 1156.57 Q151.177 1156.57 154.556 1159.74 Q157.936 1162.91 157.936 1168.33 Q157.936 1173.9 154.464 1177.01 Q150.992 1180.09 144.672 1180.09 Q142.496 1180.09 140.228 1179.71 Q137.982 1179.34 135.575 1178.6 L135.575 1173.9 Q137.658 1175.04 139.881 1175.59 Q142.103 1176.15 144.58 1176.15 Q148.584 1176.15 150.922 1174.04 Q153.26 1171.94 153.26 1168.33 Q153.26 1164.71 150.922 1162.61 Q148.584 1160.5 144.58 1160.5 Q142.705 1160.5 140.83 1160.92 Q138.978 1161.34 137.033 1162.21 L137.033 1144.85 Z\" fill=\"#000000\" fill-rule=\"nonzero\" fill-opacity=\"1\" /><path clip-path=\"url(#clip160)\" d=\"M50.9921 876.846 L80.6679 876.846 L80.6679 880.781 L50.9921 880.781 L50.9921 876.846 Z\" fill=\"#000000\" fill-rule=\"nonzero\" fill-opacity=\"1\" /><path clip-path=\"url(#clip160)\" d=\"M91.5706 889.74 L99.2095 889.74 L99.2095 863.374 L90.8993 865.041 L90.8993 860.781 L99.1632 859.115 L103.839 859.115 L103.839 889.74 L111.478 889.74 L111.478 893.675 L91.5706 893.675 L91.5706 889.74 Z\" fill=\"#000000\" fill-rule=\"nonzero\" fill-opacity=\"1\" /><path clip-path=\"url(#clip160)\" d=\"M120.922 887.795 L125.807 887.795 L125.807 893.675 L120.922 893.675 L120.922 887.795 Z\" fill=\"#000000\" fill-rule=\"nonzero\" fill-opacity=\"1\" /><path clip-path=\"url(#clip160)\" d=\"M145.992 862.193 Q142.381 862.193 140.552 865.758 Q138.746 869.3 138.746 876.43 Q138.746 883.536 140.552 887.101 Q142.381 890.642 145.992 890.642 Q149.626 890.642 151.431 887.101 Q153.26 883.536 153.26 876.43 Q153.26 869.3 151.431 865.758 Q149.626 862.193 145.992 862.193 M145.992 858.49 Q151.802 858.49 154.857 863.096 Q157.936 867.68 157.936 876.43 Q157.936 885.156 154.857 889.763 Q151.802 894.346 145.992 894.346 Q140.181 894.346 137.103 889.763 Q134.047 885.156 134.047 876.43 Q134.047 867.68 137.103 863.096 Q140.181 858.49 145.992 858.49 Z\" fill=\"#000000\" fill-rule=\"nonzero\" fill-opacity=\"1\" /><path clip-path=\"url(#clip160)\" d=\"M51.9875 591.107 L81.6633 591.107 L81.6633 595.042 L51.9875 595.042 L51.9875 591.107 Z\" fill=\"#000000\" fill-rule=\"nonzero\" fill-opacity=\"1\" /><path clip-path=\"url(#clip160)\" d=\"M101.756 576.454 Q98.1447 576.454 96.316 580.019 Q94.5104 583.561 94.5104 590.69 Q94.5104 597.797 96.316 601.362 Q98.1447 604.903 101.756 604.903 Q105.39 604.903 107.196 601.362 Q109.024 597.797 109.024 590.69 Q109.024 583.561 107.196 580.019 Q105.39 576.454 101.756 576.454 M101.756 572.751 Q107.566 572.751 110.621 577.357 Q113.7 581.94 113.7 590.69 Q113.7 599.417 110.621 604.024 Q107.566 608.607 101.756 608.607 Q95.9456 608.607 92.8669 604.024 Q89.8114 599.417 89.8114 590.69 Q89.8114 581.94 92.8669 577.357 Q95.9456 572.751 101.756 572.751 Z\" fill=\"#000000\" fill-rule=\"nonzero\" fill-opacity=\"1\" /><path clip-path=\"url(#clip160)\" d=\"M121.918 602.056 L126.802 602.056 L126.802 607.936 L121.918 607.936 L121.918 602.056 Z\" fill=\"#000000\" fill-rule=\"nonzero\" fill-opacity=\"1\" /><path clip-path=\"url(#clip160)\" d=\"M137.033 573.376 L155.39 573.376 L155.39 577.311 L141.316 577.311 L141.316 585.783 Q142.334 585.436 143.353 585.274 Q144.371 585.089 145.39 585.089 Q151.177 585.089 154.556 588.26 Q157.936 591.431 157.936 596.848 Q157.936 602.426 154.464 605.528 Q150.992 608.607 144.672 608.607 Q142.496 608.607 140.228 608.237 Q137.982 607.866 135.575 607.125 L135.575 602.426 Q137.658 603.561 139.881 604.116 Q142.103 604.672 144.58 604.672 Q148.584 604.672 150.922 602.565 Q153.26 600.459 153.26 596.848 Q153.26 593.237 150.922 591.13 Q148.584 589.024 144.58 589.024 Q142.705 589.024 140.83 589.44 Q138.978 589.857 137.033 590.737 L137.033 573.376 Z\" fill=\"#000000\" fill-rule=\"nonzero\" fill-opacity=\"1\" /><path clip-path=\"url(#clip160)\" d=\"M100.76 290.715 Q97.1493 290.715 95.3206 294.28 Q93.515 297.822 93.515 304.951 Q93.515 312.058 95.3206 315.622 Q97.1493 319.164 100.76 319.164 Q104.395 319.164 106.2 315.622 Q108.029 312.058 108.029 304.951 Q108.029 297.822 106.2 294.28 Q104.395 290.715 100.76 290.715 M100.76 287.011 Q106.571 287.011 109.626 291.618 Q112.705 296.201 112.705 304.951 Q112.705 313.678 109.626 318.284 Q106.571 322.868 100.76 322.868 Q94.9502 322.868 91.8715 318.284 Q88.816 313.678 88.816 304.951 Q88.816 296.201 91.8715 291.618 Q94.9502 287.011 100.76 287.011 Z\" fill=\"#000000\" fill-rule=\"nonzero\" fill-opacity=\"1\" /><path clip-path=\"url(#clip160)\" d=\"M120.922 316.317 L125.807 316.317 L125.807 322.196 L120.922 322.196 L120.922 316.317 Z\" fill=\"#000000\" fill-rule=\"nonzero\" fill-opacity=\"1\" /><path clip-path=\"url(#clip160)\" d=\"M145.992 290.715 Q142.381 290.715 140.552 294.28 Q138.746 297.822 138.746 304.951 Q138.746 312.058 140.552 315.622 Q142.381 319.164 145.992 319.164 Q149.626 319.164 151.431 315.622 Q153.26 312.058 153.26 304.951 Q153.26 297.822 151.431 294.28 Q149.626 290.715 145.992 290.715 M145.992 287.011 Q151.802 287.011 154.857 291.618 Q157.936 296.201 157.936 304.951 Q157.936 313.678 154.857 318.284 Q151.802 322.868 145.992 322.868 Q140.181 322.868 137.103 318.284 Q134.047 313.678 134.047 304.951 Q134.047 296.201 137.103 291.618 Q140.181 287.011 145.992 287.011 Z\" fill=\"#000000\" fill-rule=\"nonzero\" fill-opacity=\"1\" /><path clip-path=\"url(#clip160)\" d=\"M879.699 18.8205 L879.699 41.5461 L889.989 41.5461 Q895.7 41.5461 898.82 38.5889 Q901.939 35.6318 901.939 30.163 Q901.939 24.7348 898.82 21.7777 Q895.7 18.8205 889.989 18.8205 L879.699 18.8205 M871.517 12.096 L889.989 12.096 Q900.156 12.096 905.342 16.714 Q910.567 21.2916 910.567 30.163 Q910.567 39.1155 905.342 43.6931 Q900.156 48.2706 889.989 48.2706 L879.699 48.2706 L879.699 72.576 L871.517 72.576 L871.517 12.096 Z\" fill=\"#000000\" fill-rule=\"nonzero\" fill-opacity=\"1\" /><path clip-path=\"url(#clip160)\" d=\"M921.221 9.54393 L928.675 9.54393 L928.675 72.576 L921.221 72.576 L921.221 9.54393 Z\" fill=\"#000000\" fill-rule=\"nonzero\" fill-opacity=\"1\" /><path clip-path=\"url(#clip160)\" d=\"M961.852 32.4315 Q955.856 32.4315 952.373 37.1306 Q948.889 41.7891 948.889 49.9314 Q948.889 58.0738 952.332 62.7728 Q955.816 67.4314 961.852 67.4314 Q967.807 67.4314 971.29 62.7323 Q974.774 58.0333 974.774 49.9314 Q974.774 41.8701 971.29 37.1711 Q967.807 32.4315 961.852 32.4315 M961.852 26.1121 Q971.574 26.1121 977.124 32.4315 Q982.673 38.7509 982.673 49.9314 Q982.673 61.0714 977.124 67.4314 Q971.574 73.7508 961.852 73.7508 Q952.089 73.7508 946.539 67.4314 Q941.03 61.0714 941.03 49.9314 Q941.03 38.7509 946.539 32.4315 Q952.089 26.1121 961.852 26.1121 Z\" fill=\"#000000\" fill-rule=\"nonzero\" fill-opacity=\"1\" /><path clip-path=\"url(#clip160)\" d=\"M1002.4 14.324 L1002.4 27.2059 L1017.75 27.2059 L1017.75 32.9987 L1002.4 32.9987 L1002.4 57.6282 Q1002.4 63.1779 1003.9 64.7578 Q1005.44 66.3376 1010.1 66.3376 L1017.75 66.3376 L1017.75 72.576 L1010.1 72.576 Q1001.47 72.576 998.188 69.3758 Q994.907 66.1351 994.907 57.6282 L994.907 32.9987 L989.438 32.9987 L989.438 27.2059 L994.907 27.2059 L994.907 14.324 L1002.4 14.324 Z\" fill=\"#000000\" fill-rule=\"nonzero\" fill-opacity=\"1\" /><path clip-path=\"url(#clip160)\" d=\"M1076.9 9.54393 L1076.9 15.7418 L1069.77 15.7418 Q1065.76 15.7418 1064.18 17.3622 Q1062.64 18.9825 1062.64 23.1955 L1062.64 27.2059 L1074.91 27.2059 L1074.91 32.9987 L1062.64 32.9987 L1062.64 72.576 L1055.14 72.576 L1055.14 32.9987 L1048.01 32.9987 L1048.01 27.2059 L1055.14 27.2059 L1055.14 24.0462 Q1055.14 16.471 1058.67 13.0277 Q1062.19 9.54393 1069.85 9.54393 L1076.9 9.54393 Z\" fill=\"#000000\" fill-rule=\"nonzero\" fill-opacity=\"1\" /><path clip-path=\"url(#clip160)\" d=\"M1100.72 32.4315 Q1094.72 32.4315 1091.24 37.1306 Q1087.75 41.7891 1087.75 49.9314 Q1087.75 58.0738 1091.2 62.7728 Q1094.68 67.4314 1100.72 67.4314 Q1106.67 67.4314 1110.16 62.7323 Q1113.64 58.0333 1113.64 49.9314 Q1113.64 41.8701 1110.16 37.1711 Q1106.67 32.4315 1100.72 32.4315 M1100.72 26.1121 Q1110.44 26.1121 1115.99 32.4315 Q1121.54 38.7509 1121.54 49.9314 Q1121.54 61.0714 1115.99 67.4314 Q1110.44 73.7508 1100.72 73.7508 Q1090.95 73.7508 1085.4 67.4314 Q1079.9 61.0714 1079.9 49.9314 Q1079.9 38.7509 1085.4 32.4315 Q1090.95 26.1121 1100.72 26.1121 Z\" fill=\"#000000\" fill-rule=\"nonzero\" fill-opacity=\"1\" /><path clip-path=\"url(#clip160)\" d=\"M1160.18 34.1734 Q1158.93 33.4443 1157.43 33.1202 Q1155.97 32.7556 1154.19 32.7556 Q1147.87 32.7556 1144.47 36.8875 Q1141.1 40.9789 1141.1 48.6757 L1141.1 72.576 L1133.61 72.576 L1133.61 27.2059 L1141.1 27.2059 L1141.1 34.2544 Q1143.45 30.1225 1147.22 28.1376 Q1150.99 26.1121 1156.38 26.1121 Q1157.15 26.1121 1158.08 26.2337 Q1159.01 26.3147 1160.14 26.5172 L1160.18 34.1734 Z\" fill=\"#000000\" fill-rule=\"nonzero\" fill-opacity=\"1\" /><path clip-path=\"url(#clip160)\" d=\"M1224.23 49.3643 Q1224.23 41.2625 1220.87 36.8065 Q1217.54 32.3505 1211.51 32.3505 Q1205.51 32.3505 1202.15 36.8065 Q1198.83 41.2625 1198.83 49.3643 Q1198.83 57.4256 1202.15 61.8816 Q1205.51 66.3376 1211.51 66.3376 Q1217.54 66.3376 1220.87 61.8816 Q1224.23 57.4256 1224.23 49.3643 M1231.68 66.9452 Q1231.68 78.5308 1226.54 84.1616 Q1221.39 89.8329 1210.78 89.8329 Q1206.85 89.8329 1203.37 89.2252 Q1199.88 88.6581 1196.6 87.4428 L1196.6 80.1917 Q1199.88 81.9741 1203.08 82.8248 Q1206.28 83.6755 1209.6 83.6755 Q1216.94 83.6755 1220.58 79.8271 Q1224.23 76.0193 1224.23 68.282 L1224.23 64.5957 Q1221.92 68.6061 1218.31 70.5911 Q1214.71 72.576 1209.69 72.576 Q1201.34 72.576 1196.24 66.2161 Q1191.13 59.8562 1191.13 49.3643 Q1191.13 38.832 1196.24 32.472 Q1201.34 26.1121 1209.69 26.1121 Q1214.71 26.1121 1218.31 28.0971 Q1221.92 30.082 1224.23 34.0924 L1224.23 27.2059 L1231.68 27.2059 L1231.68 66.9452 Z\" fill=\"#000000\" fill-rule=\"nonzero\" fill-opacity=\"1\" /><path clip-path=\"url(#clip160)\" d=\"M1273.33 34.1734 Q1272.07 33.4443 1270.57 33.1202 Q1269.11 32.7556 1267.33 32.7556 Q1261.01 32.7556 1257.61 36.8875 Q1254.25 40.9789 1254.25 48.6757 L1254.25 72.576 L1246.75 72.576 L1246.75 27.2059 L1254.25 27.2059 L1254.25 34.2544 Q1256.6 30.1225 1260.36 28.1376 Q1264.13 26.1121 1269.52 26.1121 Q1270.29 26.1121 1271.22 26.2337 Q1272.15 26.3147 1273.29 26.5172 L1273.33 34.1734 Z\" fill=\"#000000\" fill-rule=\"nonzero\" fill-opacity=\"1\" /><path clip-path=\"url(#clip160)\" d=\"M1301.76 49.7694 Q1292.73 49.7694 1289.25 51.8354 Q1285.76 53.9013 1285.76 58.8839 Q1285.76 62.8538 1288.35 65.2034 Q1290.99 67.5124 1295.48 67.5124 Q1301.68 67.5124 1305.41 63.1374 Q1309.18 58.7219 1309.18 51.4303 L1309.18 49.7694 L1301.76 49.7694 M1316.63 46.6907 L1316.63 72.576 L1309.18 72.576 L1309.18 65.6895 Q1306.62 69.8214 1302.82 71.8063 Q1299.01 73.7508 1293.5 73.7508 Q1286.53 73.7508 1282.4 69.8619 Q1278.31 65.9325 1278.31 59.3701 Q1278.31 51.7138 1283.41 47.825 Q1288.56 43.9361 1298.72 43.9361 L1309.18 43.9361 L1309.18 43.2069 Q1309.18 38.0623 1305.77 35.2672 Q1302.41 32.4315 1296.29 32.4315 Q1292.41 32.4315 1288.72 33.3632 Q1285.03 34.295 1281.63 36.1584 L1281.63 29.2718 Q1285.72 27.692 1289.57 26.9223 Q1293.42 26.1121 1297.06 26.1121 Q1306.91 26.1121 1311.77 31.2163 Q1316.63 36.3204 1316.63 46.6907 Z\" fill=\"#000000\" fill-rule=\"nonzero\" fill-opacity=\"1\" /><path clip-path=\"url(#clip160)\" d=\"M1361.84 34.0924 L1361.84 9.54393 L1369.29 9.54393 L1369.29 72.576 L1361.84 72.576 L1361.84 65.7705 Q1359.49 69.8214 1355.88 71.8063 Q1352.32 73.7508 1347.3 73.7508 Q1339.07 73.7508 1333.89 67.1883 Q1328.74 60.6258 1328.74 49.9314 Q1328.74 39.2371 1333.89 32.6746 Q1339.07 26.1121 1347.3 26.1121 Q1352.32 26.1121 1355.88 28.0971 Q1359.49 30.0415 1361.84 34.0924 M1336.44 49.9314 Q1336.44 58.1548 1339.8 62.8538 Q1343.2 67.5124 1349.12 67.5124 Q1355.03 67.5124 1358.44 62.8538 Q1361.84 58.1548 1361.84 49.9314 Q1361.84 41.7081 1358.44 37.0496 Q1355.03 32.3505 1349.12 32.3505 Q1343.2 32.3505 1339.8 37.0496 Q1336.44 41.7081 1336.44 49.9314 Z\" fill=\"#000000\" fill-rule=\"nonzero\" fill-opacity=\"1\" /><path clip-path=\"url(#clip160)\" d=\"M1423.45 48.0275 L1423.45 51.6733 L1389.18 51.6733 Q1389.67 59.3701 1393.8 63.421 Q1397.97 67.4314 1405.39 67.4314 Q1409.68 67.4314 1413.69 66.3781 Q1417.74 65.3249 1421.71 63.2184 L1421.71 70.267 Q1417.7 71.9684 1413.49 72.8596 Q1409.27 73.7508 1404.94 73.7508 Q1394.08 73.7508 1387.72 67.4314 Q1381.4 61.1119 1381.4 50.3365 Q1381.4 39.1965 1387.4 32.6746 Q1393.44 26.1121 1403.64 26.1121 Q1412.8 26.1121 1418.11 32.0264 Q1423.45 37.9003 1423.45 48.0275 M1416 45.84 Q1415.92 39.7232 1412.56 36.0774 Q1409.23 32.4315 1403.72 32.4315 Q1397.49 32.4315 1393.72 35.9558 Q1389.99 39.4801 1389.42 45.8805 L1416 45.84 Z\" fill=\"#000000\" fill-rule=\"nonzero\" fill-opacity=\"1\" /><path clip-path=\"url(#clip160)\" d=\"M1465.54 34.0924 L1465.54 9.54393 L1472.99 9.54393 L1472.99 72.576 L1465.54 72.576 L1465.54 65.7705 Q1463.19 69.8214 1459.59 71.8063 Q1456.02 73.7508 1451 73.7508 Q1442.78 73.7508 1437.59 67.1883 Q1432.45 60.6258 1432.45 49.9314 Q1432.45 39.2371 1437.59 32.6746 Q1442.78 26.1121 1451 26.1121 Q1456.02 26.1121 1459.59 28.0971 Q1463.19 30.0415 1465.54 34.0924 M1440.14 49.9314 Q1440.14 58.1548 1443.5 62.8538 Q1446.91 67.5124 1452.82 67.5124 Q1458.74 67.5124 1462.14 62.8538 Q1465.54 58.1548 1465.54 49.9314 Q1465.54 41.7081 1462.14 37.0496 Q1458.74 32.3505 1452.82 32.3505 Q1446.91 32.3505 1443.5 37.0496 Q1440.14 41.7081 1440.14 49.9314 Z\" fill=\"#000000\" fill-rule=\"nonzero\" fill-opacity=\"1\" /><path clip-path=\"url(#clip160)\" d=\"M1519.18 49.9314 Q1519.18 58.1548 1522.54 62.8538 Q1525.94 67.5124 1531.85 67.5124 Q1537.77 67.5124 1541.17 62.8538 Q1544.57 58.1548 1544.57 49.9314 Q1544.57 41.7081 1541.17 37.0496 Q1537.77 32.3505 1531.85 32.3505 Q1525.94 32.3505 1522.54 37.0496 Q1519.18 41.7081 1519.18 49.9314 M1544.57 65.7705 Q1542.22 69.8214 1538.62 71.8063 Q1535.05 73.7508 1530.03 73.7508 Q1521.81 73.7508 1516.62 67.1883 Q1511.48 60.6258 1511.48 49.9314 Q1511.48 39.2371 1516.62 32.6746 Q1521.81 26.1121 1530.03 26.1121 Q1535.05 26.1121 1538.62 28.0971 Q1542.22 30.0415 1544.57 34.0924 L1544.57 27.2059 L1552.03 27.2059 L1552.03 89.8329 L1544.57 89.8329 L1544.57 65.7705 Z\" fill=\"#000000\" fill-rule=\"nonzero\" fill-opacity=\"1\" /><path clip-path=\"url(#clip160)\" d=\"M1566.61 54.671 L1566.61 27.2059 L1574.06 27.2059 L1574.06 54.3874 Q1574.06 60.8284 1576.58 64.0691 Q1579.09 67.2693 1584.11 67.2693 Q1590.15 67.2693 1593.63 63.421 Q1597.15 59.5726 1597.15 52.9291 L1597.15 27.2059 L1604.61 27.2059 L1604.61 72.576 L1597.15 72.576 L1597.15 65.6084 Q1594.44 69.7404 1590.84 71.7658 Q1587.27 73.7508 1582.53 73.7508 Q1574.71 73.7508 1570.66 68.8897 Q1566.61 64.0286 1566.61 54.671 M1585.37 26.1121 L1585.37 26.1121 Z\" fill=\"#000000\" fill-rule=\"nonzero\" fill-opacity=\"1\" /><path clip-path=\"url(#clip160)\" d=\"M1619.96 27.2059 L1627.42 27.2059 L1627.42 72.576 L1619.96 72.576 L1619.96 27.2059 M1619.96 9.54393 L1627.42 9.54393 L1627.42 18.9825 L1619.96 18.9825 L1619.96 9.54393 Z\" fill=\"#000000\" fill-rule=\"nonzero\" fill-opacity=\"1\" /><path clip-path=\"url(#clip160)\" d=\"M1639.77 27.2059 L1675.18 27.2059 L1675.18 34.0114 L1647.14 66.6212 L1675.18 66.6212 L1675.18 72.576 L1638.76 72.576 L1638.76 65.7705 L1666.79 33.1607 L1639.77 33.1607 L1639.77 27.2059 Z\" fill=\"#000000\" fill-rule=\"nonzero\" fill-opacity=\"1\" /><polyline clip-path=\"url(#clip162)\" style=\"stroke:#009af9; stroke-linecap:round; stroke-linejoin:round; stroke-width:4; stroke-opacity:1; fill:none\" points=\"255.035,162.047 662.359,876.395 1069.68,1305 1477.01,1447.87 1884.33,1305 2291.66,876.395 \"/>\n",
       "<path clip-path=\"url(#clip162)\" d=\"M255.035 178.047 L241.179 170.047 L241.179 154.047 L255.035 146.047 L268.891 154.047 L268.891 170.047 Z\" fill=\"#009af9\" fill-rule=\"evenodd\" fill-opacity=\"1\" stroke=\"#000000\" stroke-opacity=\"1\" stroke-width=\"3.2\"/>\n",
       "<path clip-path=\"url(#clip162)\" d=\"M662.359 892.395 L648.503 884.395 L648.503 868.395 L662.359 860.395 L676.215 868.395 L676.215 884.395 Z\" fill=\"#009af9\" fill-rule=\"evenodd\" fill-opacity=\"1\" stroke=\"#000000\" stroke-opacity=\"1\" stroke-width=\"3.2\"/>\n",
       "<path clip-path=\"url(#clip162)\" d=\"M1069.68 1321 L1055.83 1313 L1055.83 1297 L1069.68 1289 L1083.54 1297 L1083.54 1313 Z\" fill=\"#009af9\" fill-rule=\"evenodd\" fill-opacity=\"1\" stroke=\"#000000\" stroke-opacity=\"1\" stroke-width=\"3.2\"/>\n",
       "<path clip-path=\"url(#clip162)\" d=\"M1477.01 1463.87 L1463.15 1455.87 L1463.15 1439.87 L1477.01 1431.87 L1490.86 1439.87 L1490.86 1455.87 Z\" fill=\"#009af9\" fill-rule=\"evenodd\" fill-opacity=\"1\" stroke=\"#000000\" stroke-opacity=\"1\" stroke-width=\"3.2\"/>\n",
       "<path clip-path=\"url(#clip162)\" d=\"M1884.33 1321 L1870.48 1313 L1870.48 1297 L1884.33 1289 L1898.19 1297 L1898.19 1313 Z\" fill=\"#009af9\" fill-rule=\"evenodd\" fill-opacity=\"1\" stroke=\"#000000\" stroke-opacity=\"1\" stroke-width=\"3.2\"/>\n",
       "<path clip-path=\"url(#clip162)\" d=\"M2291.66 892.395 L2277.8 884.395 L2277.8 868.395 L2291.66 860.395 L2305.51 868.395 L2305.51 884.395 Z\" fill=\"#009af9\" fill-rule=\"evenodd\" fill-opacity=\"1\" stroke=\"#000000\" stroke-opacity=\"1\" stroke-width=\"3.2\"/>\n",
       "</svg>\n"
      ]
     },
     "execution_count": 101,
     "metadata": {},
     "output_type": "execute_result"
    }
   ],
   "source": [
    "x = [1, 2, 3, 4, 5, 6]\n",
    "plot(x,y, marker = :hex, leg=false)\n",
    "plot!(title=\"Plot for graded quiz\", linewidth = 2, linecolor=:black)"
   ]
  },
  {
   "cell_type": "markdown",
   "id": "9ac16118-be8e-4544-9d69-d590bfe81ee0",
   "metadata": {},
   "source": [
    "# W4graded"
   ]
  },
  {
   "cell_type": "code",
   "execution_count": 104,
   "id": "b6c049ee-462c-4f2b-940c-73cbb8f66341",
   "metadata": {},
   "outputs": [
    {
     "data": {
      "text/plain": [
       "200-element Vector{Float64}:\n",
       " 75.57207238443024\n",
       " 73.26349966968871\n",
       " 71.32905011932105\n",
       " 84.01419462414971\n",
       " 94.14956796833842\n",
       " 71.99398835934106\n",
       " 83.56708682473132\n",
       " 95.07825302924381\n",
       " 61.94153981567732\n",
       " 78.35107045137039\n",
       " 72.35588095784665\n",
       " 68.8849789079994\n",
       " 77.04033067136547\n",
       "  ⋮\n",
       " 71.6408077695516\n",
       " 68.52144393765062\n",
       " 73.25902771909443\n",
       " 94.03272466983208\n",
       " 88.30422673807422\n",
       " 67.74073941351772\n",
       " 71.85265387461222\n",
       " 69.58416710169085\n",
       " 72.76962350374284\n",
       " 84.9816649043076\n",
       " 66.3314064245781\n",
       " 86.77259928799407"
      ]
     },
     "execution_count": 104,
     "metadata": {},
     "output_type": "execute_result"
    }
   ],
   "source": [
    "using Distributions\n",
    "rand(Normal(80, 10), 200) \n"
   ]
  },
  {
   "cell_type": "code",
   "execution_count": 105,
   "id": "cc3322fa-f1bb-4d41-8f2d-73e1c5ce5131",
   "metadata": {},
   "outputs": [
    {
     "data": {
      "text/plain": [
       "0.025424899467776783"
      ]
     },
     "execution_count": 105,
     "metadata": {},
     "output_type": "execute_result"
    }
   ],
   "source": [
    "mean(  randn(100))"
   ]
  },
  {
   "cell_type": "markdown",
   "id": "ce765c91-bf33-4a5a-a707-250a32eb06b5",
   "metadata": {},
   "source": [
    "# Honors"
   ]
  },
  {
   "cell_type": "code",
   "execution_count": 107,
   "id": "584a9f5d-4688-44ed-91d5-4ef62ea09e29",
   "metadata": {},
   "outputs": [
    {
     "data": {
      "text/plain": [
       "10"
      ]
     },
     "execution_count": 107,
     "metadata": {},
     "output_type": "execute_result"
    }
   ],
   "source": [
    "function simple_addition(a, b = 1; c = 3)\n",
    "  return a + b + c\n",
    "end\n",
    "simple_addition(6) "
   ]
  },
  {
   "cell_type": "code",
   "execution_count": 110,
   "id": "a3752406-47f7-4a66-ba4c-0ada658af7d7",
   "metadata": {},
   "outputs": [
    {
     "data": {
      "text/plain": [
       "8"
      ]
     },
     "execution_count": 110,
     "metadata": {},
     "output_type": "execute_result"
    }
   ],
   "source": [
    "function simple_addition(a, b = 1; c = 3)\n",
    "  return a + b + c\n",
    "end\n",
    "simple_addition(3, 2) "
   ]
  },
  {
   "cell_type": "code",
   "execution_count": 113,
   "id": "b6cbb26e-241d-4ea2-ad58-ab6e245509f5",
   "metadata": {},
   "outputs": [
    {
     "data": {
      "text/plain": [
       "simple_addition (generic function with 3 methods)"
      ]
     },
     "execution_count": 113,
     "metadata": {},
     "output_type": "execute_result"
    }
   ],
   "source": [
    "function simple_addition(x::Int64, y::Int64)\n",
    "  return x + y\n",
    "end\n"
   ]
  },
  {
   "cell_type": "code",
   "execution_count": 114,
   "id": "a79bd5b0-53a0-47e9-8140-36c795efc99c",
   "metadata": {},
   "outputs": [
    {
     "data": {
      "text/plain": [
       "5-element Vector{Int64}:\n",
       "   3\n",
       "  25\n",
       "  63\n",
       " 117\n",
       " 187"
      ]
     },
     "execution_count": 114,
     "metadata": {},
     "output_type": "execute_result"
    }
   ],
   "source": [
    "map(x -> 2x^2 + 3x - 2, 1:2:9)"
   ]
  },
  {
   "cell_type": "code",
   "execution_count": 116,
   "id": "875c24a8-7b8d-4884-ba1e-3b14096c0925",
   "metadata": {},
   "outputs": [
    {
     "ename": "LoadError",
     "evalue": "MethodError: no method matching my_function(::Int64, ::Float64, ::Int64)\n\n\u001b[0mClosest candidates are:\n\u001b[0m  my_function(\u001b[91m::Float64\u001b[39m, ::Float64, \u001b[91m::Float64\u001b[39m)\n\u001b[0m\u001b[90m   @\u001b[39m \u001b[35mMain\u001b[39m \u001b[90m\u001b[4mIn[116]:1\u001b[24m\u001b[39m\n\u001b[0m  my_function(\u001b[91m::Float64\u001b[39m, ::Float64)\n\u001b[0m\u001b[90m   @\u001b[39m \u001b[35mMain\u001b[39m \u001b[90m\u001b[4mIn[116]:1\u001b[24m\u001b[39m\n",
     "output_type": "error",
     "traceback": [
      "MethodError: no method matching my_function(::Int64, ::Float64, ::Int64)\n\n\u001b[0mClosest candidates are:\n\u001b[0m  my_function(\u001b[91m::Float64\u001b[39m, ::Float64, \u001b[91m::Float64\u001b[39m)\n\u001b[0m\u001b[90m   @\u001b[39m \u001b[35mMain\u001b[39m \u001b[90m\u001b[4mIn[116]:1\u001b[24m\u001b[39m\n\u001b[0m  my_function(\u001b[91m::Float64\u001b[39m, ::Float64)\n\u001b[0m\u001b[90m   @\u001b[39m \u001b[35mMain\u001b[39m \u001b[90m\u001b[4mIn[116]:1\u001b[24m\u001b[39m\n",
      "",
      "Stacktrace:",
      " [1] top-level scope",
      "   @ In[116]:4"
     ]
    }
   ],
   "source": [
    "function my_function(a::Float64, b::Float64, c::Float64 = 2 + 8im)\n",
    "  return a - (b * c)\n",
    "end\n",
    "my_function(4, 3.5, 8) "
   ]
  },
  {
   "cell_type": "code",
   "execution_count": null,
   "id": "49286556-0f7c-4f0e-bb31-692679d4ea56",
   "metadata": {},
   "outputs": [],
   "source": []
  }
 ],
 "metadata": {
  "kernelspec": {
   "display_name": "Julia 1.10.2",
   "language": "julia",
   "name": "julia-1.10"
  },
  "language_info": {
   "file_extension": ".jl",
   "mimetype": "application/julia",
   "name": "julia",
   "version": "1.10.2"
  }
 },
 "nbformat": 4,
 "nbformat_minor": 5
}
